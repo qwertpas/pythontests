{
 "cells": [
  {
   "cell_type": "code",
   "execution_count": 1,
   "metadata": {},
   "outputs": [],
   "source": [
    "from sympy import *\n",
    "import numpy as np\n",
    "\n",
    "import warnings\n",
    "warnings.filterwarnings(\"ignore\", category=DeprecationWarning) "
   ]
  },
  {
   "cell_type": "code",
   "execution_count": 22,
   "metadata": {},
   "outputs": [
    {
     "data": {
      "text/latex": [
       "$\\displaystyle \\frac{k \\left(y \\left(y - 2 r{\\left(\\theta \\right)} \\cos{\\left(\\theta \\right)} - 1\\right) \\cos^{2}{\\left(\\theta \\right)} + r^{2}{\\left(\\theta \\right)} + r{\\left(\\theta \\right)}\\right)}{2 r{\\left(\\theta \\right)} \\cos^{2}{\\left(\\theta \\right)} \\tan{\\left(\\theta \\right)}} = c \\sin{\\left(\\theta \\right)}$"
      ],
      "text/plain": [
       "Eq(k*(y*(y - 2*r(\\theta)*cos(\\theta) - 1)*cos(\\theta)**2 + r(\\theta)**2 + r(\\theta))/(2*r(\\theta)*cos(\\theta)**2*tan(\\theta)), c*sin(\\theta))"
      ]
     },
     "execution_count": 22,
     "metadata": {},
     "output_type": "execute_result"
    }
   ],
   "source": [
    "θ = symbols('\\\\theta')\n",
    "r = Function('r')(θ)\n",
    "k, y, c = symbols('k y c')\n",
    "\n",
    "Ts = k * (r**2 + y**2 - 2*r*y*cos(θ) + (r*tan(θ))**2 - (y-r/cos(θ)**2)) / (2*r*tan(θ))\n",
    "Ts = Ts.trigsimp().simplify()\n",
    "\n",
    "tri_eq = Eq(Ts, c*sin(θ))\n",
    "tri_eq\n"
   ]
  },
  {
   "cell_type": "code",
   "execution_count": 23,
   "metadata": {},
   "outputs": [],
   "source": [
    "sol = solve(tri_eq, r)"
   ]
  },
  {
   "cell_type": "code",
   "execution_count": 29,
   "metadata": {},
   "outputs": [
    {
     "name": "stdout",
     "output_type": "stream",
     "text": [
      "\\frac{k \\left(y \\left(y - 2 r{\\left(\\theta \\right)} \\cos{\\left(\\theta \\right)} - 1\\right) \\cos^{2}{\\left(\\theta \\right)} + r^{2}{\\left(\\theta \\right)} + r{\\left(\\theta \\right)}\\right)}{2 r{\\left(\\theta \\right)} \\cos^{2}{\\left(\\theta \\right)} \\tan{\\left(\\theta \\right)}}\n"
     ]
    }
   ],
   "source": [
    "print(latex(sol[0])) #goldfish curve!"
   ]
  }
 ],
 "metadata": {
  "kernelspec": {
   "display_name": "Python 3",
   "language": "python",
   "name": "python3"
  },
  "language_info": {
   "codemirror_mode": {
    "name": "ipython",
    "version": 3
   },
   "file_extension": ".py",
   "mimetype": "text/x-python",
   "name": "python",
   "nbconvert_exporter": "python",
   "pygments_lexer": "ipython3",
   "version": "3.10.6"
  },
  "orig_nbformat": 4,
  "vscode": {
   "interpreter": {
    "hash": "7e1998ff7f8aa20ada591c520b972326324e5ea05489af9e422744c7c09f6dad"
   }
  }
 },
 "nbformat": 4,
 "nbformat_minor": 2
}
