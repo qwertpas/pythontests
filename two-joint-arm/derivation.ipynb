{
 "cells": [
  {
   "cell_type": "code",
   "execution_count": 2,
   "metadata": {},
   "outputs": [],
   "source": [
    "from sympy import *\n",
    "import numpy as np\n",
    "\n",
    "import warnings\n",
    "warnings.filterwarnings(\"ignore\", category=DeprecationWarning) "
   ]
  },
  {
   "cell_type": "code",
   "execution_count": 5,
   "metadata": {},
   "outputs": [
    {
     "data": {
      "text/latex": [
       "$\\displaystyle \\frac{I_{1} \\dot{θ_1}^{2}}{2} + \\frac{I_{1} \\left(\\dot{θ_1} + \\dot{θ_2}\\right)^{2}}{2} + \\frac{\\dot{θ_1}^{2} l^{2} m_{1}}{2} - g l m_{1} \\sin{\\left(θ_{1} \\right)} - g m_{2} \\left(r_{1} \\sin{\\left(θ_{1} \\right)} + r_{2} \\sin{\\left(θ_{1} + θ_{2} \\right)}\\right) + \\frac{m_{2} \\left(\\dot{θ_1} r_{1} + \\dot{θ_2} r_{2}\\right)^{2}}{2}$"
      ],
      "text/plain": [
       "I1*\\dot{θ_1}**2/2 + I1*(\\dot{θ_1} + \\dot{θ_2})**2/2 + \\dot{θ_1}**2*l**2*m1/2 - g*l*m1*sin(θ_1) - g*m2*(r1*sin(θ_1) + r2*sin(θ_1 + θ_2)) + m2*(\\dot{θ_1}*r1 + \\dot{θ_2}*r2)**2/2"
      ]
     },
     "execution_count": 5,
     "metadata": {},
     "output_type": "execute_result"
    }
   ],
   "source": [
    "#Symbols\n",
    "t = symbols('t')\n",
    "    #states\n",
    "θ1 = Function('θ1')(t)\n",
    "θ2 = Function('θ2')(t)\n",
    "    #coordinates of cart and polemass\n",
    "x1, y1, x2, y2 = symbols('x1 y1 x2 y2')\n",
    "    #length link 1, length link 2, COM link 1, mass link 2, mass link 3, I link 1, I link 2, gravity\n",
    "r1, r2, l, m1, m2, I1, I2, g = symbols('r1 r2 l m1 m2 I1 I2 g')\n",
    "\n",
    "#Visuals\n",
    "    #use clean() to render d/dt as dots and remove the (t) in functions\n",
    "θ1_d_disp = Function('\\dot{θ1}')(t)\n",
    "θ2_d_disp = Function('\\dot{θ2}')(t)\n",
    "θ1_dd_disp = Function('\\ddot{θ1}')(t)\n",
    "θ2_dd_disp = Function('\\ddot{θ2}')(t)\n",
    "dots = {θ1.diff(t):θ1_d_disp, θ2.diff(t):θ2_d_disp, θ1_d_disp.diff(t):θ1_dd_disp, θ2_d_disp.diff(t):θ2_dd_disp}\n",
    "no_t = { \n",
    "    θ1:symbols('θ_1'), θ2:symbols('θ_2'), \n",
    "    θ1_d_disp:symbols('\\dot{θ_1}'), θ2_d_disp:symbols('\\dot{θ_2}'), \n",
    "    θ1_dd_disp:symbols('\\ddot{θ_1}'), θ2_dd_disp:symbols('\\ddot{θ_2}'), \n",
    "}\n",
    "clean = lambda expr : expr.subs(dots).subs(dots).subs(no_t)\n",
    "    #keep as fraction rather than floating point\n",
    "half = Rational(1,2)\n",
    "\n",
    "#Kinetic energy\n",
    "T1 = half*m1*(l*diff(θ1,t))**2 + half*I1*diff(θ1,t)**2\n",
    "T2 = half*m2*(r1*diff(θ1,t) + r2*diff(θ2,t))**2 + half*I1*(diff(θ1,t) + diff(θ2,t))**2\n",
    "T = trigsimp(T1 + T2)\n",
    "\n",
    "#Potential energy\n",
    "s1 = sin(θ1)\n",
    "s12 = sin(θ1 + θ2)\n",
    "V = m1*g*l*s1 + m2*g*(r1*s1 + r2*s12)\n",
    "\n",
    "#Lagrangian\n",
    "L = T - V\n",
    "\n",
    "clean(L)\n",
    "\n"
   ]
  },
  {
   "cell_type": "code",
   "execution_count": 6,
   "metadata": {},
   "outputs": [
    {
     "data": {
      "text/latex": [
       "$\\displaystyle \\left[\\begin{matrix}F_{θ1} = I_{1} \\ddot{θ_1} + I_{1} \\left(\\ddot{θ_1} + \\ddot{θ_2}\\right) + \\ddot{θ_1} l^{2} m_{1} + g l m_{1} \\cos{\\left(θ_{1} \\right)} + g m_{2} \\left(r_{1} \\cos{\\left(θ_{1} \\right)} + r_{2} \\cos{\\left(θ_{1} + θ_{2} \\right)}\\right) + m_{2} r_{1} \\left(\\ddot{θ_1} r_{1} + \\ddot{θ_2} r_{2}\\right)\\\\F_{θ2} = I_{1} \\left(\\ddot{θ_1} + \\ddot{θ_2}\\right) + g m_{2} r_{2} \\cos{\\left(θ_{1} + θ_{2} \\right)} + m_{2} r_{2} \\left(\\ddot{θ_1} r_{1} + \\ddot{θ_2} r_{2}\\right)\\end{matrix}\\right]$"
      ],
      "text/plain": [
       "Matrix([\n",
       "[Eq(F_θ1, I1*\\ddot{θ_1} + I1*(\\ddot{θ_1} + \\ddot{θ_2}) + \\ddot{θ_1}*l**2*m1 + g*l*m1*cos(θ_1) + g*m2*(r1*cos(θ_1) + r2*cos(θ_1 + θ_2)) + m2*r1*(\\ddot{θ_1}*r1 + \\ddot{θ_2}*r2))],\n",
       "[                                                                       Eq(F_θ2, I1*(\\ddot{θ_1} + \\ddot{θ_2}) + g*m2*r2*cos(θ_1 + θ_2) + m2*r2*(\\ddot{θ_1}*r1 + \\ddot{θ_2}*r2))]])"
      ]
     },
     "execution_count": 6,
     "metadata": {},
     "output_type": "execute_result"
    }
   ],
   "source": [
    "#Euler-Lagrange\n",
    "F_θ1, F_θ2 = symbols('F_θ1, F_θ2')\n",
    "Eq_θ1 = Eq(diff(diff(L, diff(θ1)), t) - diff(L, θ1), F_θ1)\n",
    "Eq_θ2 = Eq(diff(diff(L, diff(θ2)), t) - diff(L, θ2), F_θ2)\n",
    "\n",
    "clean(Matrix([\n",
    "    Eq_θ1.simplify(), \n",
    "    Eq_θ2.simplify()\n",
    "]))"
   ]
  },
  {
   "cell_type": "code",
   "execution_count": 4,
   "metadata": {},
   "outputs": [],
   "source": [
    "second_derivatives = solve([Eq_x, Eq_θ], [diff(diff(x)), diff(diff(θ))])\n",
    "x_dd = second_derivatives[diff(diff(x))].simplify()\n",
    "θ_dd = second_derivatives[diff(diff(θ))].simplify()"
   ]
  },
  {
   "cell_type": "code",
   "execution_count": 5,
   "metadata": {},
   "outputs": [
    {
     "data": {
      "text/latex": [
       "$\\displaystyle \\ddot{x} = \\frac{F_{x} l + F_{θ} \\sin{\\left(θ \\right)} + \\dot{θ}^{2} l^{2} m_{2} \\cos{\\left(θ \\right)} - \\frac{g l m_{2} \\sin{\\left(2 θ \\right)}}{2}}{l \\left(m_{1} + m_{2} \\cos^{2}{\\left(θ \\right)}\\right)}$"
      ],
      "text/plain": [
       "Eq(\\ddot{x}, (F_x*l + F_θ*sin(θ) + \\dot{θ}**2*l**2*m2*cos(θ) - g*l*m2*sin(2*θ)/2)/(l*(m1 + m2*cos(θ)**2)))"
      ]
     },
     "execution_count": 5,
     "metadata": {},
     "output_type": "execute_result"
    }
   ],
   "source": [
    "clean(Eq(x_dd_disp, x_dd))"
   ]
  },
  {
   "cell_type": "code",
   "execution_count": 6,
   "metadata": {},
   "outputs": [
    {
     "data": {
      "text/latex": [
       "$\\displaystyle \\ddot{θ} = \\frac{F_{x} l m_{2} \\sin{\\left(θ \\right)} + F_{θ} m_{1} + F_{θ} m_{2} + \\frac{\\dot{θ}^{2} l^{2} m_{2}^{2} \\sin{\\left(2 θ \\right)}}{2} - g l m_{1} m_{2} \\cos{\\left(θ \\right)} - g l m_{2}^{2} \\cos{\\left(θ \\right)}}{l^{2} m_{2} \\left(m_{1} + m_{2} \\cos^{2}{\\left(θ \\right)}\\right)}$"
      ],
      "text/plain": [
       "Eq(\\ddot{θ}, (F_x*l*m2*sin(θ) + F_θ*m1 + F_θ*m2 + \\dot{θ}**2*l**2*m2**2*sin(2*θ)/2 - g*l*m1*m2*cos(θ) - g*l*m2**2*cos(θ))/(l**2*m2*(m1 + m2*cos(θ)**2)))"
      ]
     },
     "execution_count": 6,
     "metadata": {},
     "output_type": "execute_result"
    }
   ],
   "source": [
    "clean(Eq(θ_dd_disp, θ_dd))"
   ]
  },
  {
   "cell_type": "code",
   "execution_count": 18,
   "metadata": {},
   "outputs": [
    {
     "data": {
      "text/latex": [
       "$\\displaystyle \\ddot{x} = \\frac{F_{x} + \\dot{θ}^{2} l m_{2} \\cos{\\left(θ \\right)} - \\frac{g m_{2} \\sin{\\left(2 θ \\right)}}{2}}{m_{1} + m_{2} \\cos^{2}{\\left(θ \\right)}}$"
      ],
      "text/plain": [
       "Eq(\\ddot{x}, (F_x + \\dot{θ}**2*l*m2*cos(θ) - g*m2*sin(2*θ)/2)/(m1 + m2*cos(θ)**2))"
      ]
     },
     "execution_count": 18,
     "metadata": {},
     "output_type": "execute_result"
    }
   ],
   "source": [
    "x_dd_noFθ = x_dd.subs(Fθ, 0).simplify()\n",
    "clean(Eq(x_dd_disp, x_dd_noFθ))"
   ]
  },
  {
   "cell_type": "code",
   "execution_count": 19,
   "metadata": {},
   "outputs": [
    {
     "data": {
      "text/latex": [
       "$\\displaystyle \\ddot{θ} = \\frac{F_{x} \\sin{\\left(θ \\right)} + \\frac{\\dot{θ}^{2} l m_{2} \\sin{\\left(2 θ \\right)}}{2} - g m_{1} \\cos{\\left(θ \\right)} - g m_{2} \\cos{\\left(θ \\right)}}{l \\left(m_{1} + m_{2} \\cos^{2}{\\left(θ \\right)}\\right)}$"
      ],
      "text/plain": [
       "Eq(\\ddot{θ}, (F_x*sin(θ) + \\dot{θ}**2*l*m2*sin(2*θ)/2 - g*m1*cos(θ) - g*m2*cos(θ))/(l*(m1 + m2*cos(θ)**2)))"
      ]
     },
     "execution_count": 19,
     "metadata": {},
     "output_type": "execute_result"
    }
   ],
   "source": [
    "θ_dd_noFθ = θ_dd.subs(Fθ, 0).simplify()\n",
    "clean(Eq(θ_dd_disp, θ_dd_noFθ))"
   ]
  },
  {
   "attachments": {},
   "cell_type": "markdown",
   "metadata": {},
   "source": [
    "check work: https://danielpiedrahita.wordpress.com/portfolio/cart-pole-control/\n",
    "![Alt text](pics/no_inertia.png)"
   ]
  },
  {
   "cell_type": "code",
   "execution_count": 25,
   "metadata": {},
   "outputs": [
    {
     "name": "stdout",
     "output_type": "stream",
     "text": [
      "x_dd = (F_x - g*m2*sin(2*θ(t))/2 + l*m2*cos(θ(t))*Derivative(θ(t), t)**2)/(m1 + m2*cos(θ(t))**2)\n",
      "theta_dd = (F_x*sin(θ(t)) - g*m1*cos(θ(t)) - g*m2*cos(θ(t)) + l*m2*sin(2*θ(t))*Derivative(θ(t), t)**2/2)/(l*(m1 + m2*cos(θ(t))**2))\n"
     ]
    }
   ],
   "source": [
    "#text format\n",
    "print('x_dd =', x_dd_noFθ)\n",
    "print('theta_dd =', θ_dd_noFθ)"
   ]
  }
 ],
 "metadata": {
  "kernelspec": {
   "display_name": "Python 3",
   "language": "python",
   "name": "python3"
  },
  "language_info": {
   "codemirror_mode": {
    "name": "ipython",
    "version": 3
   },
   "file_extension": ".py",
   "mimetype": "text/x-python",
   "name": "python",
   "nbconvert_exporter": "python",
   "pygments_lexer": "ipython3",
   "version": "3.10.6 (v3.10.6:9c7b4bd164, Aug  1 2022, 17:13:48) [Clang 13.0.0 (clang-1300.0.29.30)]"
  },
  "orig_nbformat": 4,
  "vscode": {
   "interpreter": {
    "hash": "7e1998ff7f8aa20ada591c520b972326324e5ea05489af9e422744c7c09f6dad"
   }
  }
 },
 "nbformat": 4,
 "nbformat_minor": 2
}
