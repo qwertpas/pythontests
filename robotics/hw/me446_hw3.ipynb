{
 "cells": [
  {
   "cell_type": "code",
   "execution_count": 2,
   "metadata": {},
   "outputs": [
    {
     "data": {
      "text/latex": [
       "$\\displaystyle \\left[\\begin{matrix}- L \\left(\\cos{\\left(θ_{2} \\right)} + \\cos{\\left(θ_{2} + θ_{3} \\right)}\\right) \\sin{\\left(θ_{1} \\right)} & - L \\left(\\sin{\\left(θ_{2} \\right)} + \\sin{\\left(θ_{2} + θ_{3} \\right)}\\right) \\cos{\\left(θ_{1} \\right)} & - L \\sin{\\left(θ_{2} + θ_{3} \\right)} \\cos{\\left(θ_{1} \\right)}\\\\L \\left(\\cos{\\left(θ_{2} \\right)} + \\cos{\\left(θ_{2} + θ_{3} \\right)}\\right) \\cos{\\left(θ_{1} \\right)} & - L \\left(\\sin{\\left(θ_{2} \\right)} + \\sin{\\left(θ_{2} + θ_{3} \\right)}\\right) \\sin{\\left(θ_{1} \\right)} & - L \\sin{\\left(θ_{1} \\right)} \\sin{\\left(θ_{2} + θ_{3} \\right)}\\\\0 & - L \\left(\\cos{\\left(θ_{2} \\right)} + \\cos{\\left(θ_{2} + θ_{3} \\right)}\\right) & - L \\cos{\\left(θ_{2} + θ_{3} \\right)}\\end{matrix}\\right]$"
      ],
      "text/plain": [
       "Matrix([\n",
       "[-L*(cos(θ2) + cos(θ2 + θ3))*sin(θ1), -L*(sin(θ2) + sin(θ2 + θ3))*cos(θ1), -L*sin(θ2 + θ3)*cos(θ1)],\n",
       "[ L*(cos(θ2) + cos(θ2 + θ3))*cos(θ1), -L*(sin(θ2) + sin(θ2 + θ3))*sin(θ1), -L*sin(θ1)*sin(θ2 + θ3)],\n",
       "[                                  0,         -L*(cos(θ2) + cos(θ2 + θ3)),         -L*cos(θ2 + θ3)]])"
      ]
     },
     "execution_count": 2,
     "metadata": {},
     "output_type": "execute_result"
    }
   ],
   "source": [
    "from sympy import *\n",
    "\n",
    "th1, th2, th3 = symbols('θ1 θ2 θ3')\n",
    "L = symbols('L')\n",
    "\n",
    "p = Matrix([\n",
    "    L*cos(th1)*(cos(th2 + th3) + cos(th2)),\n",
    "    L*sin(th1)*(cos(th2 + th3) + cos(th2)),\n",
    "    L*(1 - sin(th2) - sin(th2 + th3))\n",
    "])\n",
    "\n",
    "dp_dq1 = diff(p, th1)\n",
    "dp_dq2 = diff(p, th2)\n",
    "dp_dq3 = diff(p, th3)\n",
    "\n",
    "#jacobian:\n",
    "Jv = simplify(dp_dq1.row_join(dp_dq2).row_join(dp_dq3))\n",
    "Jv"
   ]
  },
  {
   "cell_type": "code",
   "execution_count": 3,
   "metadata": {},
   "outputs": [],
   "source": [
    "th1, th2, th3 = symbols('θ1 θ2 θ3')\n",
    "L = symbols('L')\n",
    "\n",
    "DHs = [\n",
    "    #a, α, d, θ\n",
    "    [0, -pi/2, L, th1],\n",
    "    [L, 0, 0, th2],\n",
    "    [L, 0, 0, th3]\n",
    "]\n",
    "HTMs = [eye(4)] #start with base frame, will append more\n",
    "for i in range(len(DHs)):\n",
    "    DH = DHs[i]\n",
    "    a, alpha, d, theta = DH\n",
    "    Rot_th = Matrix([\n",
    "        [cos(theta), -sin(theta), 0, 0],\n",
    "        [sin(theta), cos(theta), 0, 0],\n",
    "        [0, 0, 1, 0],\n",
    "        [0, 0, 0, 1]\n",
    "    ])\n",
    "    Trans_d = Matrix([\n",
    "        [1, 0, 0, 0],\n",
    "        [0, 1, 0, 0],\n",
    "        [0, 0, 1, d],\n",
    "        [0, 0, 0, 1]\n",
    "    ])\n",
    "    Trans_a = Matrix([\n",
    "        [1, 0, 0, a],\n",
    "        [0, 1, 0, 0],\n",
    "        [0, 0, 1, 0],\n",
    "        [0, 0, 0, 1]\n",
    "    ])\n",
    "    Rot_alpha = Matrix([\n",
    "        [1, 0, 0, 0],\n",
    "        [0, cos(alpha), -sin(alpha), 0],\n",
    "        [0, sin(alpha), cos(alpha), 0],\n",
    "        [0, 0, 0, 1]\n",
    "    ])\n",
    "    HTM = Rot_th @ Trans_d @ Trans_a @ Rot_alpha\n",
    "    HTMs.append(simplify(HTMs[-1] @ HTM))\n",
    "\n",
    "#get a 3x3 rotation and 3x1 displacement from a 4x4 HTM\n",
    "def extract_R_p(T):\n",
    "    R = T[0:3, 0:3]\n",
    "    p = T[0:3, 3]\n",
    "    return R, p\n",
    "\n",
    "#add a 3x1 displacement to a 4x4 HTM\n",
    "def displace(T, p):\n",
    "    displacement = Matrix([\n",
    "        [1, 0, 0, p[0]],\n",
    "        [0, 1, 0, p[1]],\n",
    "        [0, 0, 1, p[2]],\n",
    "        [0, 0, 0, 1]\n",
    "    ])\n",
    "    return displacement @ T\n",
    "\n",
    "#Center of mass forward kinematics\n",
    "c1, c2, c3 = symbols('c1 c2 c3')\n",
    "rc1_1 = Matrix([0, c1, 0])\n",
    "rc2_2 = Matrix([-c2, 0, 0])\n",
    "rc3_3 = Matrix([-c3, 0, 0])\n",
    "\n",
    "R1, _ = extract_R_p(HTMs[1])\n",
    "R2, _ = extract_R_p(HTMs[2])\n",
    "R3, _ = extract_R_p(HTMs[3])\n",
    "\n",
    "HTM_c1 = simplify(displace(HTMs[1], R1@rc1_1))\n",
    "HTM_c2 = simplify(displace(HTMs[2], R2@rc2_2))\n",
    "HTM_c3 = simplify(displace(HTMs[3], R3@rc3_3))"
   ]
  },
  {
   "cell_type": "code",
   "execution_count": 4,
   "metadata": {},
   "outputs": [
    {
     "data": {
      "text/latex": [
       "$\\displaystyle \\left[\\begin{matrix}\\cos{\\left(θ_{1} \\right)} & 0 & - \\sin{\\left(θ_{1} \\right)} & 0\\\\\\sin{\\left(θ_{1} \\right)} & 0 & \\cos{\\left(θ_{1} \\right)} & 0\\\\0 & -1 & 0 & L - c_{1}\\\\0 & 0 & 0 & 1\\end{matrix}\\right]$"
      ],
      "text/plain": [
       "Matrix([\n",
       "[cos(θ1),  0, -sin(θ1),      0],\n",
       "[sin(θ1),  0,  cos(θ1),      0],\n",
       "[      0, -1,        0, L - c1],\n",
       "[      0,  0,        0,      1]])"
      ]
     },
     "execution_count": 4,
     "metadata": {},
     "output_type": "execute_result"
    }
   ],
   "source": [
    "HTM_c1"
   ]
  },
  {
   "cell_type": "code",
   "execution_count": 5,
   "metadata": {},
   "outputs": [
    {
     "data": {
      "text/latex": [
       "$\\displaystyle \\left[\\begin{matrix}\\cos{\\left(θ_{1} \\right)} \\cos{\\left(θ_{2} \\right)} & - \\sin{\\left(θ_{2} \\right)} \\cos{\\left(θ_{1} \\right)} & - \\sin{\\left(θ_{1} \\right)} & \\left(L - c_{2}\\right) \\cos{\\left(θ_{1} \\right)} \\cos{\\left(θ_{2} \\right)}\\\\\\sin{\\left(θ_{1} \\right)} \\cos{\\left(θ_{2} \\right)} & - \\sin{\\left(θ_{1} \\right)} \\sin{\\left(θ_{2} \\right)} & \\cos{\\left(θ_{1} \\right)} & \\left(L - c_{2}\\right) \\sin{\\left(θ_{1} \\right)} \\cos{\\left(θ_{2} \\right)}\\\\- \\sin{\\left(θ_{2} \\right)} & - \\cos{\\left(θ_{2} \\right)} & 0 & - L \\sin{\\left(θ_{2} \\right)} + L + c_{2} \\sin{\\left(θ_{2} \\right)}\\\\0 & 0 & 0 & 1\\end{matrix}\\right]$"
      ],
      "text/plain": [
       "Matrix([\n",
       "[cos(θ1)*cos(θ2), -sin(θ2)*cos(θ1), -sin(θ1),    (L - c2)*cos(θ1)*cos(θ2)],\n",
       "[sin(θ1)*cos(θ2), -sin(θ1)*sin(θ2),  cos(θ1),    (L - c2)*sin(θ1)*cos(θ2)],\n",
       "[       -sin(θ2),         -cos(θ2),        0, -L*sin(θ2) + L + c2*sin(θ2)],\n",
       "[              0,                0,        0,                           1]])"
      ]
     },
     "execution_count": 5,
     "metadata": {},
     "output_type": "execute_result"
    }
   ],
   "source": [
    "HTM_c2"
   ]
  },
  {
   "cell_type": "code",
   "execution_count": 6,
   "metadata": {},
   "outputs": [
    {
     "data": {
      "text/latex": [
       "$\\displaystyle \\left[\\begin{matrix}\\cos{\\left(θ_{1} \\right)} \\cos{\\left(θ_{2} + θ_{3} \\right)} & - \\sin{\\left(θ_{2} + θ_{3} \\right)} \\cos{\\left(θ_{1} \\right)} & - \\sin{\\left(θ_{1} \\right)} & \\left(L \\left(\\cos{\\left(θ_{2} \\right)} + \\cos{\\left(θ_{2} + θ_{3} \\right)}\\right) - c_{3} \\cos{\\left(θ_{2} + θ_{3} \\right)}\\right) \\cos{\\left(θ_{1} \\right)}\\\\\\sin{\\left(θ_{1} \\right)} \\cos{\\left(θ_{2} + θ_{3} \\right)} & - \\sin{\\left(θ_{1} \\right)} \\sin{\\left(θ_{2} + θ_{3} \\right)} & \\cos{\\left(θ_{1} \\right)} & \\left(L \\left(\\cos{\\left(θ_{2} \\right)} + \\cos{\\left(θ_{2} + θ_{3} \\right)}\\right) - c_{3} \\cos{\\left(θ_{2} + θ_{3} \\right)}\\right) \\sin{\\left(θ_{1} \\right)}\\\\- \\sin{\\left(θ_{2} + θ_{3} \\right)} & - \\cos{\\left(θ_{2} + θ_{3} \\right)} & 0 & - L \\left(\\sin{\\left(θ_{2} \\right)} + \\sin{\\left(θ_{2} + θ_{3} \\right)} - 1\\right) + c_{3} \\sin{\\left(θ_{2} + θ_{3} \\right)}\\\\0 & 0 & 0 & 1\\end{matrix}\\right]$"
      ],
      "text/plain": [
       "Matrix([\n",
       "[cos(θ1)*cos(θ2 + θ3), -sin(θ2 + θ3)*cos(θ1), -sin(θ1), (L*(cos(θ2) + cos(θ2 + θ3)) - c3*cos(θ2 + θ3))*cos(θ1)],\n",
       "[sin(θ1)*cos(θ2 + θ3), -sin(θ1)*sin(θ2 + θ3),  cos(θ1), (L*(cos(θ2) + cos(θ2 + θ3)) - c3*cos(θ2 + θ3))*sin(θ1)],\n",
       "[       -sin(θ2 + θ3),         -cos(θ2 + θ3),        0,      -L*(sin(θ2) + sin(θ2 + θ3) - 1) + c3*sin(θ2 + θ3)],\n",
       "[                   0,                     0,        0,                                                      1]])"
      ]
     },
     "execution_count": 6,
     "metadata": {},
     "output_type": "execute_result"
    }
   ],
   "source": [
    "HTM_c3"
   ]
  },
  {
   "cell_type": "code",
   "execution_count": 77,
   "metadata": {},
   "outputs": [],
   "source": [
    "#Get position of each COM then take derivative to get Jacobian\n",
    "c1_d1 = extract_R_p(HTM_c1)[1].diff(th1)\n",
    "c1_d2 = extract_R_p(HTM_c1)[1].diff(th2)\n",
    "c1_d3 = extract_R_p(HTM_c1)[1].diff(th3)\n",
    "Jvc1 = simplify(c1_d1.row_join(c1_d2).row_join(c1_d3))\n",
    "\n",
    "c2_d1 = extract_R_p(HTM_c2)[1].diff(th1)\n",
    "c2_d2 = extract_R_p(HTM_c2)[1].diff(th2)\n",
    "c2_d3 = extract_R_p(HTM_c2)[1].diff(th3)\n",
    "Jvc2 = simplify(c2_d1.row_join(c2_d2).row_join(c2_d3))\n",
    "\n",
    "c3_d1 = extract_R_p(HTM_c3)[1].diff(th1)\n",
    "c3_d2 = extract_R_p(HTM_c3)[1].diff(th2)\n",
    "c3_d3 = extract_R_p(HTM_c3)[1].diff(th3)\n",
    "Jvc3 = simplify(c3_d1.row_join(c3_d2).row_join(c3_d3))\n",
    "\n",
    "q1_dot, q2_dot, q3_dot = symbols('\\dot{q1} \\dot{q2} \\dot{q3}') \n",
    "qdots = Matrix([q1_dot, q2_dot, q3_dot])\n",
    "\n",
    "vc1 = Jvc1 @ qdots\n",
    "vc2 = Jvc2 @ qdots\n",
    "vc3 = Jvc3 @ qdots"
   ]
  },
  {
   "cell_type": "code",
   "execution_count": 79,
   "metadata": {},
   "outputs": [
    {
     "data": {
      "text/latex": [
       "$\\displaystyle \\left[\\begin{matrix}0\\\\0\\\\0\\end{matrix}\\right]$"
      ],
      "text/plain": [
       "Matrix([\n",
       "[0],\n",
       "[0],\n",
       "[0]])"
      ]
     },
     "execution_count": 79,
     "metadata": {},
     "output_type": "execute_result"
    }
   ],
   "source": [
    "vc1"
   ]
  },
  {
   "cell_type": "code",
   "execution_count": 80,
   "metadata": {},
   "outputs": [
    {
     "data": {
      "text/latex": [
       "$\\displaystyle \\left[\\begin{matrix}\\dot{q1} \\left(- L + c_{2}\\right) \\sin{\\left(q_{1} \\right)} \\cos{\\left(q_{2} \\right)} + \\dot{q2} \\left(- L + c_{2}\\right) \\sin{\\left(q_{2} \\right)} \\cos{\\left(q_{1} \\right)}\\\\\\dot{q1} \\left(L - c_{2}\\right) \\cos{\\left(q_{1} \\right)} \\cos{\\left(q_{2} \\right)} + \\dot{q2} \\left(- L + c_{2}\\right) \\sin{\\left(q_{1} \\right)} \\sin{\\left(q_{2} \\right)}\\\\\\dot{q2} \\left(- L + c_{2}\\right) \\cos{\\left(q_{2} \\right)}\\end{matrix}\\right]$"
      ],
      "text/plain": [
       "Matrix([\n",
       "[\\dot{q1}*(-L + c2)*sin(q1)*cos(q2) + \\dot{q2}*(-L + c2)*sin(q2)*cos(q1)],\n",
       "[ \\dot{q1}*(L - c2)*cos(q1)*cos(q2) + \\dot{q2}*(-L + c2)*sin(q1)*sin(q2)],\n",
       "[                                             \\dot{q2}*(-L + c2)*cos(q2)]])"
      ]
     },
     "execution_count": 80,
     "metadata": {},
     "output_type": "execute_result"
    }
   ],
   "source": [
    "vc2"
   ]
  },
  {
   "cell_type": "code",
   "execution_count": 81,
   "metadata": {},
   "outputs": [
    {
     "data": {
      "text/latex": [
       "$\\displaystyle \\left[\\begin{matrix}- \\dot{q1} \\left(L \\left(\\cos{\\left(q_{2} \\right)} + \\cos{\\left(q_{2} + q_{3} \\right)}\\right) - c_{3} \\cos{\\left(q_{2} + q_{3} \\right)}\\right) \\sin{\\left(q_{1} \\right)} - \\dot{q2} \\left(L \\left(\\sin{\\left(q_{2} \\right)} + \\sin{\\left(q_{2} + q_{3} \\right)}\\right) - c_{3} \\sin{\\left(q_{2} + q_{3} \\right)}\\right) \\cos{\\left(q_{1} \\right)} + \\dot{q3} \\left(- L + c_{3}\\right) \\sin{\\left(q_{2} + q_{3} \\right)} \\cos{\\left(q_{1} \\right)}\\\\\\dot{q1} \\left(L \\left(\\cos{\\left(q_{2} \\right)} + \\cos{\\left(q_{2} + q_{3} \\right)}\\right) - c_{3} \\cos{\\left(q_{2} + q_{3} \\right)}\\right) \\cos{\\left(q_{1} \\right)} - \\dot{q2} \\left(L \\left(\\sin{\\left(q_{2} \\right)} + \\sin{\\left(q_{2} + q_{3} \\right)}\\right) - c_{3} \\sin{\\left(q_{2} + q_{3} \\right)}\\right) \\sin{\\left(q_{1} \\right)} + \\dot{q3} \\left(- L + c_{3}\\right) \\sin{\\left(q_{1} \\right)} \\sin{\\left(q_{2} + q_{3} \\right)}\\\\\\dot{q2} \\left(- L \\left(\\cos{\\left(q_{2} \\right)} + \\cos{\\left(q_{2} + q_{3} \\right)}\\right) + c_{3} \\cos{\\left(q_{2} + q_{3} \\right)}\\right) + \\dot{q3} \\left(- L + c_{3}\\right) \\cos{\\left(q_{2} + q_{3} \\right)}\\end{matrix}\\right]$"
      ],
      "text/plain": [
       "Matrix([\n",
       "[-\\dot{q1}*(L*(cos(q2) + cos(q2 + q3)) - c3*cos(q2 + q3))*sin(q1) - \\dot{q2}*(L*(sin(q2) + sin(q2 + q3)) - c3*sin(q2 + q3))*cos(q1) + \\dot{q3}*(-L + c3)*sin(q2 + q3)*cos(q1)],\n",
       "[ \\dot{q1}*(L*(cos(q2) + cos(q2 + q3)) - c3*cos(q2 + q3))*cos(q1) - \\dot{q2}*(L*(sin(q2) + sin(q2 + q3)) - c3*sin(q2 + q3))*sin(q1) + \\dot{q3}*(-L + c3)*sin(q1)*sin(q2 + q3)],\n",
       "[                                                                                  \\dot{q2}*(-L*(cos(q2) + cos(q2 + q3)) + c3*cos(q2 + q3)) + \\dot{q3}*(-L + c3)*cos(q2 + q3)]])"
      ]
     },
     "execution_count": 81,
     "metadata": {},
     "output_type": "execute_result"
    }
   ],
   "source": [
    "vc3"
   ]
  },
  {
   "cell_type": "code",
   "execution_count": 84,
   "metadata": {},
   "outputs": [
    {
     "data": {
      "text/latex": [
       "$\\displaystyle \\left[\\begin{matrix}0 & 0 & 0\\\\0 & 0 & 0\\\\0 & 0 & 0\\end{matrix}\\right]$"
      ],
      "text/plain": [
       "Matrix([\n",
       "[0, 0, 0],\n",
       "[0, 0, 0],\n",
       "[0, 0, 0]])"
      ]
     },
     "execution_count": 84,
     "metadata": {},
     "output_type": "execute_result"
    }
   ],
   "source": [
    "zeros"
   ]
  },
  {
   "cell_type": "code",
   "execution_count": 101,
   "metadata": {},
   "outputs": [],
   "source": [
    "u = Matrix([0, 0, 1]) #all joints rotate about their z axis\n",
    "z3 = Matrix([0, 0, 0]) #3x1 zero vector\n",
    "\n",
    "Jω1 = u.row_join(z3).row_join(z3)\n",
    "Jω2 = u.row_join(R1 @ u).row_join(z3)\n",
    "Jω3 = u.row_join(R1 @ u).row_join(R2 @ u)\n",
    "\n",
    "ω1 = simplify(Jω1 @ qdots)\n",
    "ω2 = simplify(Jω2 @ qdots)\n",
    "ω3 = simplify(Jω3 @ qdots)"
   ]
  },
  {
   "cell_type": "code",
   "execution_count": 102,
   "metadata": {},
   "outputs": [
    {
     "data": {
      "text/latex": [
       "$\\displaystyle \\left[\\begin{matrix}0\\\\0\\\\\\dot{q1}\\end{matrix}\\right]$"
      ],
      "text/plain": [
       "Matrix([\n",
       "[       0],\n",
       "[       0],\n",
       "[\\dot{q1}]])"
      ]
     },
     "execution_count": 102,
     "metadata": {},
     "output_type": "execute_result"
    }
   ],
   "source": [
    "ω1"
   ]
  },
  {
   "cell_type": "code",
   "execution_count": 103,
   "metadata": {},
   "outputs": [
    {
     "data": {
      "text/latex": [
       "$\\displaystyle \\left[\\begin{matrix}- \\dot{q2} \\sin{\\left(q_{1} \\right)}\\\\\\dot{q2} \\cos{\\left(q_{1} \\right)}\\\\\\dot{q1}\\end{matrix}\\right]$"
      ],
      "text/plain": [
       "Matrix([\n",
       "[-\\dot{q2}*sin(q1)],\n",
       "[ \\dot{q2}*cos(q1)],\n",
       "[         \\dot{q1}]])"
      ]
     },
     "execution_count": 103,
     "metadata": {},
     "output_type": "execute_result"
    }
   ],
   "source": [
    "ω2"
   ]
  },
  {
   "cell_type": "code",
   "execution_count": 104,
   "metadata": {},
   "outputs": [
    {
     "data": {
      "text/latex": [
       "$\\displaystyle \\left[\\begin{matrix}\\left(- \\dot{q2} - \\dot{q3}\\right) \\sin{\\left(q_{1} \\right)}\\\\\\left(\\dot{q2} + \\dot{q3}\\right) \\cos{\\left(q_{1} \\right)}\\\\\\dot{q1}\\end{matrix}\\right]$"
      ],
      "text/plain": [
       "Matrix([\n",
       "[(-\\dot{q2} - \\dot{q3})*sin(q1)],\n",
       "[ (\\dot{q2} + \\dot{q3})*cos(q1)],\n",
       "[                      \\dot{q1}]])"
      ]
     },
     "execution_count": 104,
     "metadata": {},
     "output_type": "execute_result"
    }
   ],
   "source": [
    "ω3"
   ]
  }
 ],
 "metadata": {
  "kernelspec": {
   "display_name": "Python 3",
   "language": "python",
   "name": "python3"
  },
  "language_info": {
   "codemirror_mode": {
    "name": "ipython",
    "version": 3
   },
   "file_extension": ".py",
   "mimetype": "text/x-python",
   "name": "python",
   "nbconvert_exporter": "python",
   "pygments_lexer": "ipython3",
   "version": "3.10.6"
  },
  "orig_nbformat": 4,
  "vscode": {
   "interpreter": {
    "hash": "7e1998ff7f8aa20ada591c520b972326324e5ea05489af9e422744c7c09f6dad"
   }
  }
 },
 "nbformat": 4,
 "nbformat_minor": 2
}
