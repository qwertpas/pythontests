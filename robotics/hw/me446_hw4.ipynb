{
 "cells": [
  {
   "cell_type": "code",
   "execution_count": 1,
   "metadata": {},
   "outputs": [],
   "source": [
    "from sympy import *"
   ]
  },
  {
   "cell_type": "code",
   "execution_count": 2,
   "metadata": {},
   "outputs": [
    {
     "data": {
      "text/latex": [
       "$\\displaystyle \\left[\\begin{matrix}g \\left(m_{1} \\left(L - c_{1}\\right) + m_{2} \\left(- L \\sin{\\left(θ_{2} \\right)} + L + c_{2} \\sin{\\left(θ_{2} \\right)}\\right) - m_{3} \\left(L \\sin{\\left(θ_{2} \\right)} + L \\sin{\\left(θ_{2} + θ_{3} \\right)} - L - c_{3} \\sin{\\left(θ_{2} + θ_{3} \\right)}\\right)\\right)\\end{matrix}\\right]$"
      ],
      "text/plain": [
       "Matrix([[g*(m1*(L - c1) + m2*(-L*sin(θ2) + L + c2*sin(θ2)) - m3*(L*sin(θ2) + L*sin(θ2 + θ3) - L - c3*sin(θ2 + θ3)))]])"
      ]
     },
     "execution_count": 2,
     "metadata": {},
     "output_type": "execute_result"
    }
   ],
   "source": [
    "#1a\n",
    "th1, th2, th3 = symbols('θ1 θ2 θ3')\n",
    "L, c1, c2, c3 = symbols('L c1 c2 c3')\n",
    "\n",
    "rc1 = Matrix([\n",
    "    0,\n",
    "    0,\n",
    "    L - c1\n",
    "])\n",
    "rc2 = Matrix([\n",
    "    (L - c2)*cos(th1)*cos(th2),\n",
    "    (L - c2)*cos(th2)*sin(th1),\n",
    "    L - L*sin(th2) + c2*sin(th2)\n",
    "])\n",
    "rc3 = Matrix([\n",
    "    cos(th1)*(L*cos(th2+th3) - c3*cos(th2+th3) + L*cos(th2)),\n",
    "    sin(th1)*(L*cos(th2+th3) - c3*cos(th2+th3) + L*cos(th2)),\n",
    "    L - L*sin(th2+th3) + c3*sin(th2+th3) - L*sin(th2)\n",
    "])\n",
    "\n",
    "m1, m2, m3, g = symbols('m1 m2 m3 g')\n",
    "g_vec = Matrix([0, 0, -g]).T\n",
    "P = -(m1*g_vec*rc1 + m2*g_vec*rc2 + m3*g_vec*rc3)\n",
    "P = simplify(P)\n",
    "P"
   ]
  },
  {
   "cell_type": "code",
   "execution_count": 3,
   "metadata": {},
   "outputs": [
    {
     "data": {
      "text/latex": [
       "$\\displaystyle \\left[\\begin{matrix}0\\\\- g \\left(m_{2} \\left(L - c_{2}\\right) \\cos{\\left(θ_{2} \\right)} + m_{3} \\left(L \\cos{\\left(θ_{2} \\right)} + L \\cos{\\left(θ_{2} + θ_{3} \\right)} - c_{3} \\cos{\\left(θ_{2} + θ_{3} \\right)}\\right)\\right)\\\\g m_{3} \\left(- L + c_{3}\\right) \\cos{\\left(θ_{2} + θ_{3} \\right)}\\end{matrix}\\right]$"
      ],
      "text/plain": [
       "Matrix([\n",
       "[                                                                           0],\n",
       "[-g*(m2*(L - c2)*cos(θ2) + m3*(L*cos(θ2) + L*cos(θ2 + θ3) - c3*cos(θ2 + θ3)))],\n",
       "[                                                 g*m3*(-L + c3)*cos(θ2 + θ3)]])"
      ]
     },
     "execution_count": 3,
     "metadata": {},
     "output_type": "execute_result"
    }
   ],
   "source": [
    "#1b\n",
    "G = Matrix([\n",
    "    diff(P, th1),\n",
    "    diff(P, th2),\n",
    "    diff(P, th3)\n",
    "])\n",
    "G = simplify(G)\n",
    "G"
   ]
  },
  {
   "cell_type": "code",
   "execution_count": 4,
   "metadata": {},
   "outputs": [
    {
     "data": {
      "text/latex": [
       "$\\displaystyle \\left[\\begin{matrix}0\\\\- g \\left(m_{2} \\left(L - c_{2}\\right) + m_{3} \\left(2 L - c_{3}\\right)\\right)\\\\g m_{3} \\left(- L + c_{3}\\right)\\end{matrix}\\right]$"
      ],
      "text/plain": [
       "Matrix([\n",
       "[                               0],\n",
       "[-g*(m2*(L - c2) + m3*(2*L - c3))],\n",
       "[                  g*m3*(-L + c3)]])"
      ]
     },
     "execution_count": 4,
     "metadata": {},
     "output_type": "execute_result"
    }
   ],
   "source": [
    "#1c\n",
    "G.subs({th1:0, th2:0, th3:0})"
   ]
  },
  {
   "cell_type": "code",
   "execution_count": 5,
   "metadata": {},
   "outputs": [
    {
     "data": {
      "text/latex": [
       "$\\displaystyle Izz_{3} + L^{2} m_{3} \\cos{\\left(θ_{3} \\right)} + L^{2} m_{3} - L c_{3} m_{3} \\cos{\\left(θ_{3} \\right)} - 2 L c_{3} m_{3} + c_{3}^{2} m_{3}$"
      ],
      "text/plain": [
       "Izz3 + L**2*m3*cos(θ3) + L**2*m3 - L*c3*m3*cos(θ3) - 2*L*c3*m3 + c3**2*m3"
      ]
     },
     "execution_count": 5,
     "metadata": {},
     "output_type": "execute_result"
    }
   ],
   "source": [
    "#1d\n",
    "Jv1 =  Matrix([[0, 0, 0], [0, 0, 0], [0, 0, 0]])\n",
    "Jv2 =  Matrix([[(-L + c2)*sin(th1)*cos(th2), (-L + c2)*sin(th2)*cos(th1), 0], [(L - c2)*cos(th1)*cos(th2), (-L + c2)*sin(th1)*sin(th2), 0], [0, (-L + c2)*cos(th2), 0]])\n",
    "Jv3 =  Matrix([[-(L*(cos(th2) + cos(th2 + th3)) - c3*cos(th2 + th3))*sin(th1), -(L*(sin(th2) + sin(th2 + th3)) - c3*sin(th2 + th3))*cos(th1), (-L + c3)*sin(th2 + th3)*cos(th1)], [(L*(cos(th2) + cos(th2 + th3)) - c3*cos(th2 + th3))*cos(th1), -(L*(sin(th2) + sin(th2 + th3)) - c3*sin(th2 + th3))*sin(th1), (-L + c3)*sin(th1)*sin(th2 + th3)], [0, -L*(cos(th2) + cos(th2 + th3)) + c3*cos(th2 + th3), (-L + c3)*cos(th2 + th3)]])\n",
    "Jω1 =  Matrix([[0, 0, 0], [0, 0, 0], [1, 0, 0]])\n",
    "Jω2 =  Matrix([[0, -sin(th1), 0], [0, cos(th1), 0], [1, 0, 0]])\n",
    "Jω3 =  Matrix([[0, -sin(th1), -sin(th1)], [0, cos(th1), cos(th1)], [1, 0, 0]])\n",
    "\n",
    "R1 =  Matrix([[cos(th1), 0, -sin(th1)], [sin(th1), 0, cos(th1)], [0, -1, 0]])\n",
    "R2 =  Matrix([[cos(th1)*cos(th2), -sin(th2)*cos(th1), -sin(th1)], [sin(th1)*cos(th2), -sin(th1)*sin(th2), cos(th1)], [-sin(th2), -cos(th2), 0]])\n",
    "R3 =  Matrix([[cos(th1)*cos(th2 + th3), -sin(th2 + th3)*cos(th1), -sin(th1)], [sin(th1)*cos(th2 + th3), -sin(th1)*sin(th2 + th3), cos(th1)], [-sin(th2 + th3), -cos(th2 + th3), 0]])\n",
    "\n",
    "Ixx1, Iyy1, Izz1, Ixx2, Iyy2, Izz2, Ixx3, Iyy3, Izz3 = symbols('Ixx1 Iyy1 Izz1 Ixx2 Iyy2 Izz2 Ixx3 Iyy3 Izz3')\n",
    "I1 = diag(Ixx1, Iyy1, Izz1)\n",
    "I2 = diag(Ixx2, Iyy2, Izz2)\n",
    "I3 = diag(Ixx3, Iyy3, Izz3)\n",
    "\n",
    "th1_d, th2_d, th3_d = symbols('\\dot{θ_1} \\dot{θ_2} \\dot{θ_3}')\n",
    "q_d = Matrix([th1_d, th2_d, th3_d])\n",
    "\n",
    "m = [m1, m2, m3]\n",
    "Jv = [Jv1, Jv2, Jv3]\n",
    "Jω = [Jω1, Jω2, Jω3]\n",
    "R = [R1, R2, R3]\n",
    "I = [I1, I2, I3]\n",
    "\n",
    "M = zeros(rows=3, cols=3)\n",
    "for i in range(0, 3):\n",
    "    M += m[i] * Jv[i].T * Jv[i]  +  Jω[i].T * R[i] * I[i] * R[i].T * Jω[i]\n",
    "M = simplify(M)\n",
    "\n",
    "#m32\n",
    "M[2,1]"
   ]
  },
  {
   "cell_type": "code",
   "execution_count": 6,
   "metadata": {},
   "outputs": [
    {
     "data": {
      "text/latex": [
       "$\\displaystyle \\left[\\begin{matrix}\\left(L \\left(\\cos{\\left(θ_{2} \\right)} + \\cos{\\left(θ_{2} + θ_{3} \\right)}\\right) - c_{3} \\cos{\\left(θ_{2} + θ_{3} \\right)}\\right)^{2} & 0 & 0\\\\0 & 2 L^{2} \\cos{\\left(θ_{3} \\right)} + 2 L^{2} - 2 L c_{3} \\cos{\\left(θ_{3} \\right)} - 2 L c_{3} + c_{3}^{2} & \\left(L - c_{3}\\right) \\left(L \\cos{\\left(θ_{3} \\right)} + L - c_{3}\\right)\\\\0 & \\left(L - c_{3}\\right) \\left(L \\cos{\\left(θ_{3} \\right)} + L - c_{3}\\right) & \\left(L - c_{3}\\right)^{2}\\end{matrix}\\right]$"
      ],
      "text/plain": [
       "Matrix([\n",
       "[(L*(cos(θ2) + cos(θ2 + θ3)) - c3*cos(θ2 + θ3))**2,                                                         0,                             0],\n",
       "[                                                0, 2*L**2*cos(θ3) + 2*L**2 - 2*L*c3*cos(θ3) - 2*L*c3 + c3**2, (L - c3)*(L*cos(θ3) + L - c3)],\n",
       "[                                                0,                             (L - c3)*(L*cos(θ3) + L - c3),                   (L - c3)**2]])"
      ]
     },
     "execution_count": 6,
     "metadata": {},
     "output_type": "execute_result"
    }
   ],
   "source": [
    "simplify(Jv3.T * Jv3)"
   ]
  },
  {
   "cell_type": "code",
   "execution_count": 7,
   "metadata": {},
   "outputs": [
    {
     "data": {
      "text/latex": [
       "$\\displaystyle Izz_{3} + L^{2} m_{3} - 2 L c_{3} m_{3} + c_{3}^{2} m_{3}$"
      ],
      "text/plain": [
       "Izz3 + L**2*m3 - 2*L*c3*m3 + c3**2*m3"
      ]
     },
     "execution_count": 7,
     "metadata": {},
     "output_type": "execute_result"
    }
   ],
   "source": [
    "#1e\n",
    "'''\n",
    "m33 depends on the mass and z-axis inertia of link 3 and also the lengths. It should not \n",
    "depend on the joint angles because m33 corresponds to the last joint rotating so the \n",
    "only mass it feels is link 3. The joint angles before make no difference. This is shown\n",
    "in the jacobians because the third columnn of any jacobian.T * jacobian is constant or 0.\n",
    "The third column and third rows sometimes contain sin and cos that cancel each other out.\n",
    "'''\n",
    "#m33\n",
    "M[2,2]"
   ]
  },
  {
   "cell_type": "code",
   "execution_count": 8,
   "metadata": {},
   "outputs": [],
   "source": [
    "#1f\n",
    "q = Matrix([th1, th2, th3])\n",
    "\n",
    "C = zeros(rows=3, cols=3)\n",
    "for k in range(0, 3):\n",
    "    for j in range(0, 3):\n",
    "        for i in range(0, 3):\n",
    "            C[k,j] += Rational(1/2) * (diff(M[k,j], q[i]) + diff(M[k,i], q[j]) - diff(M[i,j], q[k])) * q_d[i]\n",
    "C = simplify(C)"
   ]
  },
  {
   "cell_type": "code",
   "execution_count": 9,
   "metadata": {},
   "outputs": [
    {
     "data": {
      "text/latex": [
       "$\\displaystyle L \\dot{θ_3} m_{3} \\left(- L + c_{3}\\right) \\sin{\\left(θ_{3} \\right)}$"
      ],
      "text/plain": [
       "L*\\dot{θ_3}*m3*(-L + c3)*sin(θ3)"
      ]
     },
     "execution_count": 9,
     "metadata": {},
     "output_type": "execute_result"
    }
   ],
   "source": [
    "#1g\n",
    "#c22\n",
    "C[1,1]"
   ]
  },
  {
   "cell_type": "code",
   "execution_count": 10,
   "metadata": {},
   "outputs": [],
   "source": [
    "M_inv = simplify(M.inv())"
   ]
  },
  {
   "cell_type": "code",
   "execution_count": 11,
   "metadata": {},
   "outputs": [
    {
     "data": {
      "text/latex": [
       "$\\displaystyle \\left[\\begin{matrix}\\frac{1}{Ixx_{2} + Ixx_{3} + Iyy_{1}}\\\\0\\\\0\\end{matrix}\\right]$"
      ],
      "text/plain": [
       "Matrix([\n",
       "[1/(Ixx2 + Ixx3 + Iyy1)],\n",
       "[                     0],\n",
       "[                     0]])"
      ]
     },
     "execution_count": 11,
     "metadata": {},
     "output_type": "execute_result"
    }
   ],
   "source": [
    "#2a\n",
    "#forward dynamics: q_dd = M^-1 * (τ - C*q_d - G)\n",
    "tau1, tau2, tau3 = symbols('τ1 τ2 τ3')\n",
    "tau = Matrix([tau1, tau2, tau3])\n",
    "\n",
    "state = {th1:0, th2:-pi/2, th3:0, th1_d:0, th2_d:0, th3_d:0}\n",
    "q_d_n = q_d.subs(state)\n",
    "M_inv_n = simplify(M_inv.subs(state))\n",
    "C_n = simplify(C.subs(state))\n",
    "G_n = simplify(G.subs(state))\n",
    "tau_n = tau.subs({tau1:1, tau2:0, tau3:0})\n",
    "\n",
    "q_dd_n = M_inv_n * (tau_n - C_n*q_d_n - G_n)\n",
    "'''\n",
    "This makes sense because in the straight up configuration all links are rotating\n",
    "about the lengthwise axis, which happens to be y-axis for link 1 and x-axis for \n",
    "links 2 and 3. Angular acceleration is torque/inertia, so that's 1 Nm from joint\n",
    "1 over total inertia of the 3 links.\n",
    "'''\n",
    "q_dd_n"
   ]
  },
  {
   "cell_type": "code",
   "execution_count": 12,
   "metadata": {},
   "outputs": [
    {
     "data": {
      "text/latex": [
       "$\\displaystyle \\left[\\begin{matrix}\\frac{1}{Ixx_{2} + Ixx_{3} + Iyy_{1}} & 0 & 0\\\\0 & \\frac{Izz_{3} + L^{2} m_{3} - 2 L c_{3} m_{3} + c_{3}^{2} m_{3}}{Izz_{2} Izz_{3} + Izz_{2} L^{2} m_{3} - 2 Izz_{2} L c_{3} m_{3} + Izz_{2} c_{3}^{2} m_{3} + Izz_{3} L^{2} m_{2} + Izz_{3} L^{2} m_{3} - 2 Izz_{3} L c_{2} m_{2} + Izz_{3} c_{2}^{2} m_{2} + L^{4} m_{2} m_{3} - 2 L^{3} c_{2} m_{2} m_{3} - 2 L^{3} c_{3} m_{2} m_{3} + L^{2} c_{2}^{2} m_{2} m_{3} + 4 L^{2} c_{2} c_{3} m_{2} m_{3} + L^{2} c_{3}^{2} m_{2} m_{3} - 2 L c_{2}^{2} c_{3} m_{2} m_{3} - 2 L c_{2} c_{3}^{2} m_{2} m_{3} + c_{2}^{2} c_{3}^{2} m_{2} m_{3}} & \\frac{- Izz_{3} - 2 L^{2} m_{3} + 3 L c_{3} m_{3} - c_{3}^{2} m_{3}}{Izz_{2} Izz_{3} + Izz_{2} L^{2} m_{3} - 2 Izz_{2} L c_{3} m_{3} + Izz_{2} c_{3}^{2} m_{3} + Izz_{3} L^{2} m_{2} + Izz_{3} L^{2} m_{3} - 2 Izz_{3} L c_{2} m_{2} + Izz_{3} c_{2}^{2} m_{2} + L^{4} m_{2} m_{3} - 2 L^{3} c_{2} m_{2} m_{3} - 2 L^{3} c_{3} m_{2} m_{3} + L^{2} c_{2}^{2} m_{2} m_{3} + 4 L^{2} c_{2} c_{3} m_{2} m_{3} + L^{2} c_{3}^{2} m_{2} m_{3} - 2 L c_{2}^{2} c_{3} m_{2} m_{3} - 2 L c_{2} c_{3}^{2} m_{2} m_{3} + c_{2}^{2} c_{3}^{2} m_{2} m_{3}}\\\\0 & \\frac{- Izz_{3} - 2 L^{2} m_{3} + 3 L c_{3} m_{3} - c_{3}^{2} m_{3}}{Izz_{2} Izz_{3} + Izz_{2} L^{2} m_{3} - 2 Izz_{2} L c_{3} m_{3} + Izz_{2} c_{3}^{2} m_{3} + Izz_{3} L^{2} m_{2} + Izz_{3} L^{2} m_{3} - 2 Izz_{3} L c_{2} m_{2} + Izz_{3} c_{2}^{2} m_{2} + L^{4} m_{2} m_{3} - 2 L^{3} c_{2} m_{2} m_{3} - 2 L^{3} c_{3} m_{2} m_{3} + L^{2} c_{2}^{2} m_{2} m_{3} + 4 L^{2} c_{2} c_{3} m_{2} m_{3} + L^{2} c_{3}^{2} m_{2} m_{3} - 2 L c_{2}^{2} c_{3} m_{2} m_{3} - 2 L c_{2} c_{3}^{2} m_{2} m_{3} + c_{2}^{2} c_{3}^{2} m_{2} m_{3}} & \\frac{Izz_{2} + Izz_{3} + L^{2} m_{2} + 4 L^{2} m_{3} - 2 L c_{2} m_{2} - 4 L c_{3} m_{3} + c_{2}^{2} m_{2} + c_{3}^{2} m_{3}}{Izz_{2} Izz_{3} + Izz_{2} L^{2} m_{3} - 2 Izz_{2} L c_{3} m_{3} + Izz_{2} c_{3}^{2} m_{3} + Izz_{3} L^{2} m_{2} + Izz_{3} L^{2} m_{3} - 2 Izz_{3} L c_{2} m_{2} + Izz_{3} c_{2}^{2} m_{2} + L^{4} m_{2} m_{3} - 2 L^{3} c_{2} m_{2} m_{3} - 2 L^{3} c_{3} m_{2} m_{3} + L^{2} c_{2}^{2} m_{2} m_{3} + 4 L^{2} c_{2} c_{3} m_{2} m_{3} + L^{2} c_{3}^{2} m_{2} m_{3} - 2 L c_{2}^{2} c_{3} m_{2} m_{3} - 2 L c_{2} c_{3}^{2} m_{2} m_{3} + c_{2}^{2} c_{3}^{2} m_{2} m_{3}}\\end{matrix}\\right]$"
      ],
      "text/plain": [
       "Matrix([\n",
       "[1/(Ixx2 + Ixx3 + Iyy1),                                                                                                                                                                                                                                                                                                                                               0,                                                                                                                                                                                                                                                                                                                                                                                      0],\n",
       "[                     0,    (Izz3 + L**2*m3 - 2*L*c3*m3 + c3**2*m3)/(Izz2*Izz3 + Izz2*L**2*m3 - 2*Izz2*L*c3*m3 + Izz2*c3**2*m3 + Izz3*L**2*m2 + Izz3*L**2*m3 - 2*Izz3*L*c2*m2 + Izz3*c2**2*m2 + L**4*m2*m3 - 2*L**3*c2*m2*m3 - 2*L**3*c3*m2*m3 + L**2*c2**2*m2*m3 + 4*L**2*c2*c3*m2*m3 + L**2*c3**2*m2*m3 - 2*L*c2**2*c3*m2*m3 - 2*L*c2*c3**2*m2*m3 + c2**2*c3**2*m2*m3),                                        (-Izz3 - 2*L**2*m3 + 3*L*c3*m3 - c3**2*m3)/(Izz2*Izz3 + Izz2*L**2*m3 - 2*Izz2*L*c3*m3 + Izz2*c3**2*m3 + Izz3*L**2*m2 + Izz3*L**2*m3 - 2*Izz3*L*c2*m2 + Izz3*c2**2*m2 + L**4*m2*m3 - 2*L**3*c2*m2*m3 - 2*L**3*c3*m2*m3 + L**2*c2**2*m2*m3 + 4*L**2*c2*c3*m2*m3 + L**2*c3**2*m2*m3 - 2*L*c2**2*c3*m2*m3 - 2*L*c2*c3**2*m2*m3 + c2**2*c3**2*m2*m3)],\n",
       "[                     0, (-Izz3 - 2*L**2*m3 + 3*L*c3*m3 - c3**2*m3)/(Izz2*Izz3 + Izz2*L**2*m3 - 2*Izz2*L*c3*m3 + Izz2*c3**2*m3 + Izz3*L**2*m2 + Izz3*L**2*m3 - 2*Izz3*L*c2*m2 + Izz3*c2**2*m2 + L**4*m2*m3 - 2*L**3*c2*m2*m3 - 2*L**3*c3*m2*m3 + L**2*c2**2*m2*m3 + 4*L**2*c2*c3*m2*m3 + L**2*c3**2*m2*m3 - 2*L*c2**2*c3*m2*m3 - 2*L*c2*c3**2*m2*m3 + c2**2*c3**2*m2*m3), (Izz2 + Izz3 + L**2*m2 + 4*L**2*m3 - 2*L*c2*m2 - 4*L*c3*m3 + c2**2*m2 + c3**2*m3)/(Izz2*Izz3 + Izz2*L**2*m3 - 2*Izz2*L*c3*m3 + Izz2*c3**2*m3 + Izz3*L**2*m2 + Izz3*L**2*m3 - 2*Izz3*L*c2*m2 + Izz3*c2**2*m2 + L**4*m2*m3 - 2*L**3*c2*m2*m3 - 2*L**3*c3*m2*m3 + L**2*c2**2*m2*m3 + 4*L**2*c2*c3*m2*m3 + L**2*c3**2*m2*m3 - 2*L*c2**2*c3*m2*m3 - 2*L*c2*c3**2*m2*m3 + c2**2*c3**2*m2*m3)]])"
      ]
     },
     "execution_count": 12,
     "metadata": {},
     "output_type": "execute_result"
    }
   ],
   "source": [
    "M_inv_n"
   ]
  },
  {
   "cell_type": "code",
   "execution_count": 13,
   "metadata": {},
   "outputs": [
    {
     "data": {
      "text/latex": [
       "$\\displaystyle \\left[\\begin{matrix}0\\\\- g \\left(m_{2} \\left(L - c_{2}\\right) + m_{3} \\left(2 L - c_{3}\\right)\\right)\\\\g m_{3} \\left(- L + c_{3}\\right)\\end{matrix}\\right]$"
      ],
      "text/plain": [
       "Matrix([\n",
       "[                               0],\n",
       "[-g*(m2*(L - c2) + m3*(2*L - c3))],\n",
       "[                  g*m3*(-L + c3)]])"
      ]
     },
     "execution_count": 13,
     "metadata": {},
     "output_type": "execute_result"
    }
   ],
   "source": [
    "#2b\n",
    "#inverse dynamics: τ = M*q_dd + C*q_d + G\n",
    "state = {th1:0, th2:0, th3:0, th1_d:0, th2_d:0, th3_d:0}\n",
    "q_d_n = q_d.subs(state)\n",
    "M_n = simplify(M.subs(state))\n",
    "C_n = simplify(C.subs(state))\n",
    "G_n = simplify(G.subs(state))\n",
    "q_dd_n = Matrix([0, 0, 0])\n",
    "\n",
    "tau_n = M_n*q_dd_n + C_n*q_d + G_n\n",
    "tau_n #actuator torques needed to counteract torques on joints (g = 9.81)"
   ]
  },
  {
   "cell_type": "code",
   "execution_count": 14,
   "metadata": {},
   "outputs": [
    {
     "data": {
      "text/latex": [
       "$\\displaystyle \\left[\\begin{matrix}-14.7049115619651\\\\12.3626392958753\\\\-8.95129913884511\\end{matrix}\\right]$"
      ],
      "text/plain": [
       "Matrix([\n",
       "[-14.7049115619651],\n",
       "[ 12.3626392958753],\n",
       "[-8.95129913884511]])"
      ]
     },
     "execution_count": 14,
     "metadata": {},
     "output_type": "execute_result"
    }
   ],
   "source": [
    "#2c\n",
    "state = {th1:0, th2:-pi/4, th3:pi/3, th1_d:1, th2_d:1, th3_d:1}\n",
    "q_d_n = q_d.subs(state)\n",
    "M_inv_n = simplify(M_inv.subs(state))\n",
    "C_n = simplify(C.subs(state))\n",
    "G_n = simplify(G.subs(state))\n",
    "tau_n = tau.subs({tau1:-2, tau2:-3, tau3:-1})\n",
    "\n",
    "params = {\n",
    "    g: 9.81,\n",
    "    L: 0.254, \n",
    "    c1: 0.127, c2: 0.127, c3: 0.127,\n",
    "    m1: 3.12, m2: 1.30, m3: 1.14,\n",
    "    Ixx1: 0.0155, Iyy1: 0.0096, Izz1: 0.0150,\n",
    "    Ixx2: 0.0021, Iyy2: 0.0144, Izz2: 0.0104,\n",
    "    Ixx3: 0.0010, Iyy3: 0.0111, Izz3: 0.0106,\n",
    "}\n",
    "\n",
    "q_dd_n = M_inv_n * (tau_n - C_n*q_d_n - G_n)\n",
    "q_dd_n.subs(params).n() #angular acceleration of each joint"
   ]
  },
  {
   "cell_type": "code",
   "execution_count": 15,
   "metadata": {},
   "outputs": [
    {
     "data": {
      "text/latex": [
       "$\\displaystyle \\left[\\begin{matrix}1.53085414729201\\\\-4.56265675105928\\\\-1.30781025230386\\end{matrix}\\right]$"
      ],
      "text/plain": [
       "Matrix([\n",
       "[ 1.53085414729201],\n",
       "[-4.56265675105928],\n",
       "[-1.30781025230386]])"
      ]
     },
     "execution_count": 15,
     "metadata": {},
     "output_type": "execute_result"
    }
   ],
   "source": [
    "#2d\n",
    "#inverse dynamics: τ = M*q_dd + C*q_d + G\n",
    "state = {th1:0, th2:-pi/4, th3:pi/3, th1_d:1, th2_d:1, th3_d:1}\n",
    "q_d_n = q_d.subs(state)\n",
    "M_n = simplify(M.subs(state))\n",
    "C_n = simplify(C.subs(state))\n",
    "G_n = simplify(G.subs(state))\n",
    "q_dd_n = Matrix([10, 1, -1])\n",
    "\n",
    "tau_n = M_n*q_dd_n + C_n*q_d_n + G_n\n",
    "tau_n.subs(params).n() #actuator torques needed "
   ]
  }
 ],
 "metadata": {
  "kernelspec": {
   "display_name": "Python 3",
   "language": "python",
   "name": "python3"
  },
  "language_info": {
   "codemirror_mode": {
    "name": "ipython",
    "version": 3
   },
   "file_extension": ".py",
   "mimetype": "text/x-python",
   "name": "python",
   "nbconvert_exporter": "python",
   "pygments_lexer": "ipython3",
   "version": "3.11.4"
  },
  "orig_nbformat": 4,
  "vscode": {
   "interpreter": {
    "hash": "7e1998ff7f8aa20ada591c520b972326324e5ea05489af9e422744c7c09f6dad"
   }
  }
 },
 "nbformat": 4,
 "nbformat_minor": 2
}
