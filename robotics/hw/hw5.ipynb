{
 "cells": [
  {
   "cell_type": "code",
   "execution_count": 1,
   "metadata": {},
   "outputs": [],
   "source": [
    "import numpy as np\n",
    "import scipy\n",
    "from sympy import *\n",
    "import matplotlib.pyplot as plt\n",
    "%matplotlib widget\n",
    "init_printing(use_unicode=True)"
   ]
  },
  {
   "cell_type": "code",
   "execution_count": 6,
   "metadata": {},
   "outputs": [
    {
     "data": {
      "text/plain": [
       "[array([[2., 1.],\n",
       "        [3., 2.]]),\n",
       " array([[-2., -1.],\n",
       "        [ 3.,  2.]]),\n",
       " array([[ 2.,  1.],\n",
       "        [-3., -2.]]),\n",
       " array([[-2., -1.],\n",
       "        [-3., -2.]])]"
      ]
     },
     "execution_count": 6,
     "metadata": {},
     "output_type": "execute_result"
    }
   ],
   "source": [
    "x, y = symbols('x y')\n",
    "\n",
    "eq1 = sin(2*x+y+pi/2)\n",
    "eq2 = sin(3*x+2*y-pi/3)\n",
    "\n",
    "jacobians = []\n",
    "pts = [[2*pi/3, 5*pi/3], [pi/6, 7*pi/6]]\n",
    "for x_pt in pts[0]:\n",
    "    for y_pt in pts[1]:\n",
    "        jac = np.zeros((2,2))\n",
    "        jac[0,0] = diff(eq1, x).subs({'x':x_pt, 'y':y_pt})\n",
    "        jac[0,1] = diff(eq1, y).subs({'x':x_pt, 'y':y_pt})\n",
    "        jac[1,0] = diff(eq2, x).subs({'x':x_pt, 'y':y_pt})\n",
    "        jac[1,1] = diff(eq2, y).subs({'x':x_pt, 'y':y_pt})\n",
    "        jacobians.append(jac)\n",
    "        \n",
    "\n",
    "jacobians"
   ]
  },
  {
   "cell_type": "code",
   "execution_count": 7,
   "metadata": {},
   "outputs": [
    {
     "data": {
      "text/plain": [
       "array([[ 3.73205081,  0.26794919],\n",
       "       [-1.        ,  1.        ],\n",
       "       [ 1.        , -1.        ],\n",
       "       [-0.26794919, -3.73205081]])"
      ]
     },
     "execution_count": 7,
     "metadata": {},
     "output_type": "execute_result"
    }
   ],
   "source": [
    "np.linalg.eigvals(jacobians)\n"
   ]
  },
  {
   "cell_type": "code",
   "execution_count": 20,
   "metadata": {},
   "outputs": [
    {
     "name": "stdout",
     "output_type": "stream",
     "text": [
      "-10 [-8.52493781  1.52493781]\n",
      "-9 [-7.52769257  1.52769257]\n",
      "-8 [-6.53112887  1.53112887]\n",
      "-7 [-5.53553391  1.53553391]\n",
      "-6 [-4.54138127  1.54138127]\n",
      "-5 [-3.54950976  1.54950976]\n",
      "-4 [-2.56155281  1.56155281]\n",
      "-3 [-1.58113883  1.58113883]\n",
      "-2 [-0.61803399  1.61803399]\n",
      "-1 [0.29289322 1.70710678]\n",
      "0 [1. 2.]\n",
      "1 [1.29289322 2.70710678]\n",
      "2 [1.38196601 3.61803399]\n",
      "3 [1.41886117 4.58113883]\n",
      "4 [1.43844719 5.56155281]\n",
      "5 [1.45049024 6.54950976]\n",
      "6 [1.45861873 7.54138127]\n",
      "7 [1.46446609 8.53553391]\n",
      "8 [1.46887113 9.53112887]\n",
      "9 [ 1.47230743 10.52769257]\n"
     ]
    }
   ],
   "source": [
    "for K in np.arange(-10, 10):\n",
    "    A = np.array([\n",
    "        [1+K/2, K/2],\n",
    "        [K/2, 2+K/2]\n",
    "    ])\n",
    "    print(K, np.linalg.eigvals(A))"
   ]
  },
  {
   "cell_type": "code",
   "execution_count": 11,
   "metadata": {},
   "outputs": [
    {
     "data": {
      "image/png": "[encoded data removed]",
      "text/latex": [
       "$\\displaystyle \\operatorname{Poly}{\\left( l^{2} - lK - 3 l + \\frac{3}{2} K + 2, l, K, domain=\\mathbb{Q} \\right)}$"
      ],
      "text/plain": [
       "Poly(l**2 - l*K - 3*l + 3/2*K + 2, l, K, domain='QQ')"
      ]
     },
     "execution_count": 11,
     "metadata": {},
     "output_type": "execute_result"
    }
   ],
   "source": [
    "K, l = symbols('K l')\n",
    "expr = (1 + K/2 - l)*(K/2 + 2 - l) - K**2/4\n",
    "poly(expr)"
   ]
  },
  {
   "cell_type": "code",
   "execution_count": 19,
   "metadata": {},
   "outputs": [
    {
     "data": {
      "image/png": "[encoded data removed]",
      "text/latex": [
       "$\\displaystyle \\left[ 0.0, \\  1.66666666666667\\right]$"
      ],
      "text/plain": [
       "[0.0, 1.66666666666667]"
      ]
     },
     "execution_count": 19,
     "metadata": {},
     "output_type": "execute_result"
    }
   ],
   "source": [
    "solve(expr.subs({'K': -4/3}), l)"
   ]
  }
 ],
 "metadata": {
  "kernelspec": {
   "display_name": "Python 3.10.6 64-bit",
   "language": "python",
   "name": "python3"
  },
  "language_info": {
   "codemirror_mode": {
    "name": "ipython",
    "version": 3
   },
   "file_extension": ".py",
   "mimetype": "text/x-python",
   "name": "python",
   "nbconvert_exporter": "python",
   "pygments_lexer": "ipython3",
   "version": "3.10.6"
  },
  "orig_nbformat": 4,
  "vscode": {
   "interpreter": {
    "hash": "aee8b7b246df8f9039afb4144a1f6fd8d2ca17a180786b69acc140d282b71a49"
   }
  }
 },
 "nbformat": 4,
 "nbformat_minor": 2
}
