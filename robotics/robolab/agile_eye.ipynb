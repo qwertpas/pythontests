{
 "cells": [
  {
   "cell_type": "code",
   "execution_count": 2,
   "metadata": {},
   "outputs": [],
   "source": [
    "from sympy import *"
   ]
  },
  {
   "cell_type": "code",
   "execution_count": 3,
   "metadata": {},
   "outputs": [],
   "source": [
    "def Rx(th):\n",
    "    return Matrix([\n",
    "        [1, 0, 0],\n",
    "        [0, cos(th), -sin(th)],\n",
    "        [0, sin(th), cos(th)]\n",
    "    ])\n",
    "def Ry(th):\n",
    "    return Matrix([\n",
    "        [cos(th), 0, sin(th)],\n",
    "        [0, 1, 0],\n",
    "        [-sin(th), 0, cos(th)]\n",
    "    ])\n",
    "def Rz(th):\n",
    "    return Matrix([\n",
    "        [cos(th), -sin(th), 0],\n",
    "        [sin(th), cos(th), 0],\n",
    "        [0, 0, 1]\n",
    "    ])"
   ]
  },
  {
   "cell_type": "code",
   "execution_count": 4,
   "metadata": {},
   "outputs": [
    {
     "data": {
      "text/latex": [
       "$\\displaystyle \\left[\\begin{matrix}- \\sin{\\left(θ_{1} \\right)} \\sin{\\left(θ_{2} \\right)} \\sin{\\left(θ_{3} \\right)} + \\cos{\\left(θ_{1} \\right)} \\cos{\\left(θ_{3} \\right)} & - \\sin{\\left(θ_{1} \\right)} \\cos{\\left(θ_{2} \\right)} & \\sin{\\left(θ_{1} \\right)} \\sin{\\left(θ_{2} \\right)} \\cos{\\left(θ_{3} \\right)} + \\sin{\\left(θ_{3} \\right)} \\cos{\\left(θ_{1} \\right)}\\\\\\sin{\\left(θ_{1} \\right)} \\cos{\\left(θ_{3} \\right)} + \\sin{\\left(θ_{2} \\right)} \\sin{\\left(θ_{3} \\right)} \\cos{\\left(θ_{1} \\right)} & \\cos{\\left(θ_{1} \\right)} \\cos{\\left(θ_{2} \\right)} & \\sin{\\left(θ_{1} \\right)} \\sin{\\left(θ_{3} \\right)} - \\sin{\\left(θ_{2} \\right)} \\cos{\\left(θ_{1} \\right)} \\cos{\\left(θ_{3} \\right)}\\\\- \\sin{\\left(θ_{3} \\right)} \\cos{\\left(θ_{2} \\right)} & \\sin{\\left(θ_{2} \\right)} & \\cos{\\left(θ_{2} \\right)} \\cos{\\left(θ_{3} \\right)}\\end{matrix}\\right]$"
      ],
      "text/plain": [
       "Matrix([\n",
       "[-sin(θ1)*sin(θ2)*sin(θ3) + cos(θ1)*cos(θ3), -sin(θ1)*cos(θ2), sin(θ1)*sin(θ2)*cos(θ3) + sin(θ3)*cos(θ1)],\n",
       "[ sin(θ1)*cos(θ3) + sin(θ2)*sin(θ3)*cos(θ1),  cos(θ1)*cos(θ2), sin(θ1)*sin(θ3) - sin(θ2)*cos(θ1)*cos(θ3)],\n",
       "[                          -sin(θ3)*cos(θ2),          sin(θ2),                           cos(θ2)*cos(θ3)]])"
      ]
     },
     "execution_count": 4,
     "metadata": {},
     "output_type": "execute_result"
    }
   ],
   "source": [
    "th1, th2, th3, th4, th5 = symbols('θ1 θ2 θ3 θ4 θ5')\n",
    "\n",
    "R_2arm = trigsimp(Rz(th1)@Rx(th2)@Ry(th3))\n",
    "R_2arm\n"
   ]
  },
  {
   "cell_type": "code",
   "execution_count": 5,
   "metadata": {},
   "outputs": [
    {
     "data": {
      "text/latex": [
       "$\\displaystyle \\left[\\begin{matrix}\\cos{\\left(θ_{4} \\right)} \\cos{\\left(θ_{5} \\right)} & - \\sin{\\left(θ_{5} \\right)} \\cos{\\left(θ_{4} \\right)} & \\sin{\\left(θ_{4} \\right)}\\\\\\sin{\\left(θ_{5} \\right)} & \\cos{\\left(θ_{5} \\right)} & 0\\\\- \\sin{\\left(θ_{4} \\right)} \\cos{\\left(θ_{5} \\right)} & \\sin{\\left(θ_{4} \\right)} \\sin{\\left(θ_{5} \\right)} & \\cos{\\left(θ_{4} \\right)}\\end{matrix}\\right]$"
      ],
      "text/plain": [
       "Matrix([\n",
       "[ cos(θ4)*cos(θ5), -sin(θ5)*cos(θ4), sin(θ4)],\n",
       "[         sin(θ5),          cos(θ5),       0],\n",
       "[-sin(θ4)*cos(θ5),  sin(θ4)*sin(θ5), cos(θ4)]])"
      ]
     },
     "execution_count": 5,
     "metadata": {},
     "output_type": "execute_result"
    }
   ],
   "source": [
    "R_1arm = trigsimp(Ry(th4)@Rz(th5))\n",
    "R_1arm"
   ]
  },
  {
   "cell_type": "code",
   "execution_count": 6,
   "metadata": {},
   "outputs": [],
   "source": [
    "f = simplify(trigsimp(R_1arm - R_2arm))\n",
    "sol23 = solve(f, [th2,th3])"
   ]
  },
  {
   "cell_type": "code",
   "execution_count": 10,
   "metadata": {},
   "outputs": [
    {
     "data": {
      "text/plain": [
       "[(pi - asin(sin(θ4)*sin(θ5)),\n",
       "  -acos(-cos(θ4)/sqrt(-sin(θ4)**2*sin(θ5)**2 + 1)) + 2*pi),\n",
       " (pi - asin(sin(θ4)*sin(θ5)), acos(-cos(θ4)/sqrt(-sin(θ4)**2*sin(θ5)**2 + 1))),\n",
       " (asin(sin(θ4)*sin(θ5)),\n",
       "  -acos(cos(θ4)/sqrt(-sin(θ4)**2*sin(θ5)**2 + 1)) + 2*pi),\n",
       " (asin(sin(θ4)*sin(θ5)), acos(cos(θ4)/sqrt(-sin(θ4)**2*sin(θ5)**2 + 1)))]"
      ]
     },
     "execution_count": 10,
     "metadata": {},
     "output_type": "execute_result"
    }
   ],
   "source": [
    "sol23"
   ]
  },
  {
   "cell_type": "code",
   "execution_count": 7,
   "metadata": {},
   "outputs": [
    {
     "data": {
      "text/plain": [
       "[(-acos(cos(θ4)/cos(θ2)) + 2*pi, -acos(cos(θ1)*cos(θ2)) + 2*pi),\n",
       " (-acos(cos(θ4)/cos(θ2)) + 2*pi, acos(cos(θ1)*cos(θ2))),\n",
       " (acos(cos(θ4)/cos(θ2)), -acos(cos(θ1)*cos(θ2)) + 2*pi),\n",
       " (acos(cos(θ4)/cos(θ2)), acos(cos(θ1)*cos(θ2)))]"
      ]
     },
     "execution_count": 7,
     "metadata": {},
     "output_type": "execute_result"
    }
   ],
   "source": [
    "sol35 = solve(f, [th3,th5])\n",
    "sol35"
   ]
  },
  {
   "cell_type": "code",
   "execution_count": 14,
   "metadata": {},
   "outputs": [
    {
     "data": {
      "text/plain": [
       "[(-acos(-cos(θ5)/sqrt(-sin(θ4)**2*sin(θ5)**2 + 1)) + 2*pi,\n",
       "  pi - asin(sin(θ4)*sin(θ5)),\n",
       "  -acos(-cos(θ4)/sqrt(-sin(θ4)**2*sin(θ5)**2 + 1)) + 2*pi),\n",
       " (-acos(-cos(θ5)/sqrt(-sin(θ4)**2*sin(θ5)**2 + 1)) + 2*pi,\n",
       "  pi - asin(sin(θ4)*sin(θ5)),\n",
       "  acos(-cos(θ4)/sqrt(-sin(θ4)**2*sin(θ5)**2 + 1))),\n",
       " (-acos(cos(θ5)/sqrt(-sin(θ4)**2*sin(θ5)**2 + 1)) + 2*pi,\n",
       "  asin(sin(θ4)*sin(θ5)),\n",
       "  -acos(cos(θ4)/sqrt(-sin(θ4)**2*sin(θ5)**2 + 1)) + 2*pi),\n",
       " (-acos(cos(θ5)/sqrt(-sin(θ4)**2*sin(θ5)**2 + 1)) + 2*pi,\n",
       "  asin(sin(θ4)*sin(θ5)),\n",
       "  acos(cos(θ4)/sqrt(-sin(θ4)**2*sin(θ5)**2 + 1))),\n",
       " (acos(-cos(θ5)/sqrt(-sin(θ4)**2*sin(θ5)**2 + 1)),\n",
       "  pi - asin(sin(θ4)*sin(θ5)),\n",
       "  -acos(-cos(θ4)/sqrt(-sin(θ4)**2*sin(θ5)**2 + 1)) + 2*pi),\n",
       " (acos(-cos(θ5)/sqrt(-sin(θ4)**2*sin(θ5)**2 + 1)),\n",
       "  pi - asin(sin(θ4)*sin(θ5)),\n",
       "  acos(-cos(θ4)/sqrt(-sin(θ4)**2*sin(θ5)**2 + 1))),\n",
       " (acos(cos(θ5)/sqrt(-sin(θ4)**2*sin(θ5)**2 + 1)),\n",
       "  asin(sin(θ4)*sin(θ5)),\n",
       "  -acos(cos(θ4)/sqrt(-sin(θ4)**2*sin(θ5)**2 + 1)) + 2*pi),\n",
       " (acos(cos(θ5)/sqrt(-sin(θ4)**2*sin(θ5)**2 + 1)),\n",
       "  asin(sin(θ4)*sin(θ5)),\n",
       "  acos(cos(θ4)/sqrt(-sin(θ4)**2*sin(θ5)**2 + 1)))]"
      ]
     },
     "execution_count": 14,
     "metadata": {},
     "output_type": "execute_result"
    }
   ],
   "source": [
    "sol123 = solve(f, [th1,th2,th3])\n",
    "sol123"
   ]
  },
  {
   "cell_type": "code",
   "execution_count": 37,
   "metadata": {},
   "outputs": [
    {
     "name": "stdout",
     "output_type": "stream",
     "text": [
      "3.42893449550385 3.05414906580968 3.42893449550385\n",
      "3.42893449550385 3.05414906580968 2.85425081167574\n",
      "5.99584346526553 0.0874435877801117 5.99584346526553\n",
      "5.99584346526553 0.0874435877801117 0.287341841914053\n",
      "2.85425081167574 3.05414906580968 3.42893449550385\n",
      "2.85425081167574 3.05414906580968 2.85425081167574\n",
      "0.287341841914053 0.0874435877801117 5.99584346526553\n",
      "0.287341841914053 0.0874435877801117 0.287341841914053\n"
     ]
    }
   ],
   "source": [
    "test_dict = {th4: 0.3, th5: 0.3}\n",
    "for i in range(len(sol123)):\n",
    "    th1_n = sol123[i][0].subs(test_dict).n()\n",
    "    th2_n = sol123[i][1].subs(test_dict).n()\n",
    "    th3_n = sol123[i][2].subs(test_dict).n()\n",
    "    print(th1_n, th2_n, th3_n)"
   ]
  },
  {
   "cell_type": "code",
   "execution_count": 48,
   "metadata": {},
   "outputs": [
    {
     "data": {
      "text/plain": [
       "[(θ_y, θ_z)]"
      ]
     },
     "execution_count": 48,
     "metadata": {},
     "output_type": "execute_result"
    }
   ],
   "source": [
    "thz, thy = symbols('θ_z θ_y') #IMU yaw and pitch\n",
    "R_cam = Rz(thz)@Ry(thy)\n",
    "f1 = R_cam - R_1arm\n",
    "f2 = R_cam - R_2arm\n",
    "solcam45 = solve(f1, [th4,th5])\n",
    "solcam45"
   ]
  },
  {
   "cell_type": "code",
   "execution_count": 50,
   "metadata": {},
   "outputs": [
    {
     "data": {
      "text/plain": [
       "[(pi - asin(sin(θ_z)), 0, pi - asin(sin(θ_y))),\n",
       " (pi - asin(sin(θ_z)), 0, asin(sin(θ_y))),\n",
       " (asin(sin(θ_z)) + pi, pi, asin(sin(θ_y)) + pi),\n",
       " (asin(sin(θ_z)) + pi, pi, -asin(sin(θ_y))),\n",
       " (-asin(sin(θ_z)), pi, asin(sin(θ_y)) + pi),\n",
       " (-asin(sin(θ_z)), pi, -asin(sin(θ_y))),\n",
       " (asin(sin(θ_z)), 0, pi - asin(sin(θ_y))),\n",
       " (asin(sin(θ_z)), 0, asin(sin(θ_y)))]"
      ]
     },
     "execution_count": 50,
     "metadata": {},
     "output_type": "execute_result"
    }
   ],
   "source": [
    "solcam123 = solve(f2, [th1,th2,th3])\n",
    "solcam123"
   ]
  },
  {
   "cell_type": "code",
   "execution_count": 59,
   "metadata": {},
   "outputs": [
    {
     "name": "stdout",
     "output_type": "stream",
     "text": [
      "3.14159265358979 0 2.84159265358979\n",
      "3.14159265358979 0 0.300000000000000\n",
      "3.14159265358979 3.14159265358979 3.44159265358979\n",
      "3.14159265358979 3.14159265358979 -0.300000000000000\n",
      "0 3.14159265358979 3.44159265358979\n",
      "0 3.14159265358979 -0.300000000000000\n",
      "0 0 2.84159265358979\n",
      "0 0 0.300000000000000\n"
     ]
    }
   ],
   "source": [
    "test_dict = {thz: -pi, thy: 0.3}\n",
    "for i in range(len(solcam123)):\n",
    "    th1_n = solcam123[i][0].subs(test_dict).n()\n",
    "    th2_n = solcam123[i][1].subs(test_dict).n()\n",
    "    th3_n = solcam123[i][2].subs(test_dict).n()\n",
    "    print(th1_n, th2_n, th3_n)"
   ]
  },
  {
   "cell_type": "code",
   "execution_count": 63,
   "metadata": {},
   "outputs": [
    {
     "name": "stdout",
     "output_type": "stream",
     "text": [
      "0 0\n",
      "0 0\n",
      "0 0\n",
      "0 0\n",
      "0 0\n",
      "0 0\n",
      "0 0\n",
      "0 0\n",
      "0 0\n",
      "0 0\n",
      "0 0\n",
      "0 0\n",
      "0 0\n",
      "0 0\n",
      "0 0\n",
      "0 0\n",
      "0 0\n",
      "0 0\n",
      "0 0\n",
      "0 0\n",
      "0 0\n",
      "0 0\n",
      "0 0\n",
      "0 0\n",
      "0 0\n",
      "0 0\n",
      "0 0\n",
      "0 0\n",
      "0 0\n",
      "0 0\n",
      "0 0\n",
      "0 0\n",
      "0 0\n",
      "0 0\n",
      "0 0\n",
      "0 0\n",
      "0 0\n",
      "0 0\n",
      "0 0\n",
      "0 0\n",
      "0 0\n",
      "0 0\n",
      "0 0\n",
      "0 0\n",
      "0 0\n",
      "0 0\n",
      "0 0\n",
      "0 0\n",
      "0 0\n",
      "0 0\n",
      "0 0\n",
      "0 0\n",
      "0 0\n",
      "0 0\n",
      "0 0\n",
      "0 0\n",
      "0 0\n",
      "0 0\n",
      "0 0\n",
      "0 0\n",
      "0 0\n",
      "0 0\n",
      "0 0\n",
      "0 0\n",
      "0 0\n",
      "0 0\n",
      "0 0\n",
      "0 0\n",
      "0 0\n",
      "0 0\n",
      "1.11022302462516e-16 0\n",
      "1.11022302462516e-16 0\n",
      "1.11022302462516e-16 0\n",
      "1.11022302462516e-16 0\n",
      "1.11022302462516e-16 0\n",
      "1.11022302462516e-16 0\n",
      "1.11022302462516e-16 0\n",
      "1.11022302462516e-16 0\n",
      "1.11022302462516e-16 0\n",
      "1.11022302462516e-16 0\n",
      "0 0\n",
      "0 0\n",
      "0 0\n",
      "0 0\n",
      "0 0\n",
      "0 0\n",
      "0 0\n",
      "0 0\n",
      "0 0\n",
      "0 0\n",
      "0 0\n",
      "0 0\n",
      "0 0\n",
      "0 0\n",
      "0 0\n",
      "0 0\n",
      "0 0\n",
      "0 0\n",
      "0 0\n",
      "0 0\n"
     ]
    }
   ],
   "source": [
    "import numpy as np\n",
    "for thz_n in np.linspace(-np.pi/2, np.pi/2, 10):\n",
    "    for thy_n in np.linspace(-np.pi/2, np.pi/2, 10):\n",
    "        test_dict = {thz: thz_n, thy: thy_n}\n",
    "        th1_n = solcam123[7][0].subs(test_dict).n()\n",
    "        th4_n = solcam45[0][0].subs(test_dict).n()\n",
    "        # print(thz_n, th1_n, thy_n, th4_n)\n",
    "        print(thz_n-th1_n, thy_n-th4_n)"
   ]
  }
 ],
 "metadata": {
  "kernelspec": {
   "display_name": "Python 3",
   "language": "python",
   "name": "python3"
  },
  "language_info": {
   "codemirror_mode": {
    "name": "ipython",
    "version": 3
   },
   "file_extension": ".py",
   "mimetype": "text/x-python",
   "name": "python",
   "nbconvert_exporter": "python",
   "pygments_lexer": "ipython3",
   "version": "3.10.6"
  },
  "orig_nbformat": 4
 },
 "nbformat": 4,
 "nbformat_minor": 2
}
