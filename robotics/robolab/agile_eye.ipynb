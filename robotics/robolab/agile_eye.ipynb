{
 "cells": [
  {
   "cell_type": "code",
   "execution_count": 2,
   "metadata": {},
   "outputs": [],
   "source": [
    "from sympy import *"
   ]
  },
  {
   "cell_type": "code",
   "execution_count": 3,
   "metadata": {},
   "outputs": [],
   "source": [
    "def Rx(th):\n",
    "    return Matrix([\n",
    "        [1, 0, 0],\n",
    "        [0, cos(th), -sin(th)],\n",
    "        [0, sin(th), cos(th)]\n",
    "    ])\n",
    "def Ry(th):\n",
    "    return Matrix([\n",
    "        [cos(th), 0, sin(th)],\n",
    "        [0, 1, 0],\n",
    "        [-sin(th), 0, cos(th)]\n",
    "    ])\n",
    "def Rz(th):\n",
    "    return Matrix([\n",
    "        [cos(th), -sin(th), 0],\n",
    "        [sin(th), cos(th), 0],\n",
    "        [0, 0, 1]\n",
    "    ])"
   ]
  },
  {
   "cell_type": "code",
   "execution_count": 4,
   "metadata": {},
   "outputs": [
    {
     "data": {
      "text/latex": [
       "$\\displaystyle \\left[\\begin{matrix}- \\sin{\\left(θ_{1} \\right)} \\sin{\\left(θ_{2} \\right)} \\sin{\\left(θ_{3} \\right)} + \\cos{\\left(θ_{1} \\right)} \\cos{\\left(θ_{3} \\right)} & - \\sin{\\left(θ_{1} \\right)} \\cos{\\left(θ_{2} \\right)} & \\sin{\\left(θ_{1} \\right)} \\sin{\\left(θ_{2} \\right)} \\cos{\\left(θ_{3} \\right)} + \\sin{\\left(θ_{3} \\right)} \\cos{\\left(θ_{1} \\right)}\\\\\\sin{\\left(θ_{1} \\right)} \\cos{\\left(θ_{3} \\right)} + \\sin{\\left(θ_{2} \\right)} \\sin{\\left(θ_{3} \\right)} \\cos{\\left(θ_{1} \\right)} & \\cos{\\left(θ_{1} \\right)} \\cos{\\left(θ_{2} \\right)} & \\sin{\\left(θ_{1} \\right)} \\sin{\\left(θ_{3} \\right)} - \\sin{\\left(θ_{2} \\right)} \\cos{\\left(θ_{1} \\right)} \\cos{\\left(θ_{3} \\right)}\\\\- \\sin{\\left(θ_{3} \\right)} \\cos{\\left(θ_{2} \\right)} & \\sin{\\left(θ_{2} \\right)} & \\cos{\\left(θ_{2} \\right)} \\cos{\\left(θ_{3} \\right)}\\end{matrix}\\right]$"
      ],
      "text/plain": [
       "Matrix([\n",
       "[-sin(θ1)*sin(θ2)*sin(θ3) + cos(θ1)*cos(θ3), -sin(θ1)*cos(θ2), sin(θ1)*sin(θ2)*cos(θ3) + sin(θ3)*cos(θ1)],\n",
       "[ sin(θ1)*cos(θ3) + sin(θ2)*sin(θ3)*cos(θ1),  cos(θ1)*cos(θ2), sin(θ1)*sin(θ3) - sin(θ2)*cos(θ1)*cos(θ3)],\n",
       "[                          -sin(θ3)*cos(θ2),          sin(θ2),                           cos(θ2)*cos(θ3)]])"
      ]
     },
     "execution_count": 4,
     "metadata": {},
     "output_type": "execute_result"
    }
   ],
   "source": [
    "th1, th2, th3, th4, th5 = symbols('θ1 θ2 θ3 θ4 θ5')\n",
    "\n",
    "R_2arm = trigsimp(Rz(th1)@Rx(th2)@Ry(th3))\n",
    "R_2arm\n"
   ]
  },
  {
   "cell_type": "code",
   "execution_count": 5,
   "metadata": {},
   "outputs": [
    {
     "data": {
      "text/latex": [
       "$\\displaystyle \\left[\\begin{matrix}\\cos{\\left(θ_{4} \\right)} \\cos{\\left(θ_{5} \\right)} & - \\sin{\\left(θ_{5} \\right)} \\cos{\\left(θ_{4} \\right)} & \\sin{\\left(θ_{4} \\right)}\\\\\\sin{\\left(θ_{5} \\right)} & \\cos{\\left(θ_{5} \\right)} & 0\\\\- \\sin{\\left(θ_{4} \\right)} \\cos{\\left(θ_{5} \\right)} & \\sin{\\left(θ_{4} \\right)} \\sin{\\left(θ_{5} \\right)} & \\cos{\\left(θ_{4} \\right)}\\end{matrix}\\right]$"
      ],
      "text/plain": [
       "Matrix([\n",
       "[ cos(θ4)*cos(θ5), -sin(θ5)*cos(θ4), sin(θ4)],\n",
       "[         sin(θ5),          cos(θ5),       0],\n",
       "[-sin(θ4)*cos(θ5),  sin(θ4)*sin(θ5), cos(θ4)]])"
      ]
     },
     "execution_count": 5,
     "metadata": {},
     "output_type": "execute_result"
    }
   ],
   "source": [
    "R_1arm = trigsimp(Ry(th4)@Rz(th5))\n",
    "R_1arm"
   ]
  },
  {
   "cell_type": "code",
   "execution_count": 6,
   "metadata": {},
   "outputs": [],
   "source": [
    "f = simplify(trigsimp(R_1arm - R_2arm))\n",
    "sol23 = solve(f, [th2,th3])"
   ]
  },
  {
   "cell_type": "code",
   "execution_count": 10,
   "metadata": {},
   "outputs": [
    {
     "data": {
      "text/plain": [
       "[(pi - asin(sin(θ4)*sin(θ5)),\n",
       "  -acos(-cos(θ4)/sqrt(-sin(θ4)**2*sin(θ5)**2 + 1)) + 2*pi),\n",
       " (pi - asin(sin(θ4)*sin(θ5)), acos(-cos(θ4)/sqrt(-sin(θ4)**2*sin(θ5)**2 + 1))),\n",
       " (asin(sin(θ4)*sin(θ5)),\n",
       "  -acos(cos(θ4)/sqrt(-sin(θ4)**2*sin(θ5)**2 + 1)) + 2*pi),\n",
       " (asin(sin(θ4)*sin(θ5)), acos(cos(θ4)/sqrt(-sin(θ4)**2*sin(θ5)**2 + 1)))]"
      ]
     },
     "execution_count": 10,
     "metadata": {},
     "output_type": "execute_result"
    }
   ],
   "source": [
    "sol23"
   ]
  },
  {
   "cell_type": "code",
   "execution_count": 7,
   "metadata": {},
   "outputs": [
    {
     "data": {
      "text/plain": [
       "[(-acos(cos(θ4)/cos(θ2)) + 2*pi, -acos(cos(θ1)*cos(θ2)) + 2*pi),\n",
       " (-acos(cos(θ4)/cos(θ2)) + 2*pi, acos(cos(θ1)*cos(θ2))),\n",
       " (acos(cos(θ4)/cos(θ2)), -acos(cos(θ1)*cos(θ2)) + 2*pi),\n",
       " (acos(cos(θ4)/cos(θ2)), acos(cos(θ1)*cos(θ2)))]"
      ]
     },
     "execution_count": 7,
     "metadata": {},
     "output_type": "execute_result"
    }
   ],
   "source": [
    "sol35 = solve(f, [th3,th5])\n",
    "sol35"
   ]
  },
  {
   "cell_type": "code",
   "execution_count": 14,
   "metadata": {},
   "outputs": [
    {
     "data": {
      "text/plain": [
       "[(-acos(-cos(θ5)/sqrt(-sin(θ4)**2*sin(θ5)**2 + 1)) + 2*pi,\n",
       "  pi - asin(sin(θ4)*sin(θ5)),\n",
       "  -acos(-cos(θ4)/sqrt(-sin(θ4)**2*sin(θ5)**2 + 1)) + 2*pi),\n",
       " (-acos(-cos(θ5)/sqrt(-sin(θ4)**2*sin(θ5)**2 + 1)) + 2*pi,\n",
       "  pi - asin(sin(θ4)*sin(θ5)),\n",
       "  acos(-cos(θ4)/sqrt(-sin(θ4)**2*sin(θ5)**2 + 1))),\n",
       " (-acos(cos(θ5)/sqrt(-sin(θ4)**2*sin(θ5)**2 + 1)) + 2*pi,\n",
       "  asin(sin(θ4)*sin(θ5)),\n",
       "  -acos(cos(θ4)/sqrt(-sin(θ4)**2*sin(θ5)**2 + 1)) + 2*pi),\n",
       " (-acos(cos(θ5)/sqrt(-sin(θ4)**2*sin(θ5)**2 + 1)) + 2*pi,\n",
       "  asin(sin(θ4)*sin(θ5)),\n",
       "  acos(cos(θ4)/sqrt(-sin(θ4)**2*sin(θ5)**2 + 1))),\n",
       " (acos(-cos(θ5)/sqrt(-sin(θ4)**2*sin(θ5)**2 + 1)),\n",
       "  pi - asin(sin(θ4)*sin(θ5)),\n",
       "  -acos(-cos(θ4)/sqrt(-sin(θ4)**2*sin(θ5)**2 + 1)) + 2*pi),\n",
       " (acos(-cos(θ5)/sqrt(-sin(θ4)**2*sin(θ5)**2 + 1)),\n",
       "  pi - asin(sin(θ4)*sin(θ5)),\n",
       "  acos(-cos(θ4)/sqrt(-sin(θ4)**2*sin(θ5)**2 + 1))),\n",
       " (acos(cos(θ5)/sqrt(-sin(θ4)**2*sin(θ5)**2 + 1)),\n",
       "  asin(sin(θ4)*sin(θ5)),\n",
       "  -acos(cos(θ4)/sqrt(-sin(θ4)**2*sin(θ5)**2 + 1)) + 2*pi),\n",
       " (acos(cos(θ5)/sqrt(-sin(θ4)**2*sin(θ5)**2 + 1)),\n",
       "  asin(sin(θ4)*sin(θ5)),\n",
       "  acos(cos(θ4)/sqrt(-sin(θ4)**2*sin(θ5)**2 + 1)))]"
      ]
     },
     "execution_count": 14,
     "metadata": {},
     "output_type": "execute_result"
    }
   ],
   "source": [
    "sol123 = solve(f, [th1,th2,th3])\n",
    "sol123"
   ]
  },
  {
   "cell_type": "code",
   "execution_count": 37,
   "metadata": {},
   "outputs": [
    {
     "name": "stdout",
     "output_type": "stream",
     "text": [
      "3.42893449550385 3.05414906580968 3.42893449550385\n",
      "3.42893449550385 3.05414906580968 2.85425081167574\n",
      "5.99584346526553 0.0874435877801117 5.99584346526553\n",
      "5.99584346526553 0.0874435877801117 0.287341841914053\n",
      "2.85425081167574 3.05414906580968 3.42893449550385\n",
      "2.85425081167574 3.05414906580968 2.85425081167574\n",
      "0.287341841914053 0.0874435877801117 5.99584346526553\n",
      "0.287341841914053 0.0874435877801117 0.287341841914053\n"
     ]
    }
   ],
   "source": [
    "test_dict = {th4: 0.3, th5: 0.3}\n",
    "for i in range(len(sol123)):\n",
    "    th1_n = sol123[i][0].subs(test_dict).n()\n",
    "    th2_n = sol123[i][1].subs(test_dict).n()\n",
    "    th3_n = sol123[i][2].subs(test_dict).n()\n",
    "    print(th1_n, th2_n, th3_n)"
   ]
  },
  {
   "cell_type": "code",
   "execution_count": 39,
   "metadata": {},
   "outputs": [
    {
     "ename": "AttributeError",
     "evalue": "'tuple' object has no attribute 'subs'",
     "output_type": "error",
     "traceback": [
      "\u001b[0;31m---------------------------------------------------------------------------\u001b[0m",
      "\u001b[0;31mAttributeError\u001b[0m                            Traceback (most recent call last)",
      "\u001b[1;32m/Users/christopherxu/Code/pythontests/robotics/robolab/agile_eye.ipynb Cell 10\u001b[0m in \u001b[0;36m<cell line: 1>\u001b[0;34m()\u001b[0m\n\u001b[0;32m----> <a href='vscode-notebook-cell:/Users/christopherxu/Code/pythontests/robotics/robolab/agile_eye.ipynb#X16sZmlsZQ%3D%3D?line=0'>1</a>\u001b[0m sol123[\u001b[39m7\u001b[39;49m]\u001b[39m.\u001b[39;49msubs(test_dict)\n",
      "\u001b[0;31mAttributeError\u001b[0m: 'tuple' object has no attribute 'subs'"
     ]
    }
   ],
   "source": []
  },
  {
   "cell_type": "code",
   "execution_count": null,
   "metadata": {},
   "outputs": [],
   "source": []
  }
 ],
 "metadata": {
  "kernelspec": {
   "display_name": "Python 3",
   "language": "python",
   "name": "python3"
  },
  "language_info": {
   "codemirror_mode": {
    "name": "ipython",
    "version": 3
   },
   "file_extension": ".py",
   "mimetype": "text/x-python",
   "name": "python",
   "nbconvert_exporter": "python",
   "pygments_lexer": "ipython3",
   "version": "3.10.6"
  },
  "orig_nbformat": 4
 },
 "nbformat": 4,
 "nbformat_minor": 2
}
