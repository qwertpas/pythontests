{
 "cells": [
  {
   "cell_type": "code",
   "execution_count": 1,
   "metadata": {},
   "outputs": [],
   "source": [
    "from sympy import *\n",
    "import numpy as np"
   ]
  },
  {
   "cell_type": "code",
   "execution_count": 2,
   "metadata": {},
   "outputs": [],
   "source": [
    "def Rx(th):\n",
    "    return Matrix([\n",
    "        [1, 0, 0],\n",
    "        [0, cos(th), -sin(th)],\n",
    "        [0, sin(th), cos(th)]\n",
    "    ])\n",
    "def Ry(th):\n",
    "    return Matrix([\n",
    "        [cos(th), 0, sin(th)],\n",
    "        [0, 1, 0],\n",
    "        [-sin(th), 0, cos(th)]\n",
    "    ])\n",
    "def Rz(th):\n",
    "    return Matrix([\n",
    "        [cos(th), -sin(th), 0],\n",
    "        [sin(th), cos(th), 0],\n",
    "        [0, 0, 1]\n",
    "    ])"
   ]
  },
  {
   "cell_type": "code",
   "execution_count": 8,
   "metadata": {},
   "outputs": [
    {
     "data": {
      "text/latex": [
       "$\\displaystyle \\left[\\begin{matrix}0.936293363584199 & 0.283321651448532 & 0.207565842875611\\\\-0.289629477625516 & 0.957138843475894 & 0\\\\-0.198669330795061 & -0.060117186644963 & 0.978221049084172\\end{matrix}\\right]$"
      ],
      "text/plain": [
       "Matrix([\n",
       "[ 0.936293363584199,  0.283321651448532, 0.207565842875611],\n",
       "[-0.289629477625516,  0.957138843475894,                 0],\n",
       "[-0.198669330795061, -0.060117186644963, 0.978221049084172]])"
      ]
     },
     "execution_count": 8,
     "metadata": {},
     "output_type": "execute_result"
    }
   ],
   "source": [
    "#Euler IMU angles\n",
    "y = 0.2\n",
    "z = -0.3\n",
    "\n",
    "sy = sin(y)\n",
    "cy = cos(y)\n",
    "sz = sin(z)\n",
    "cz = cos(z)\n",
    "\n",
    "# direction vector of line of sight (xhat in camera frame)\n",
    "r11 = cy*cz\n",
    "r21 = cy*sz\n",
    "r31 = -sy\n",
    "\n",
    "# agile chain 1's correponding angles for same direction \n",
    "my = atan2(-r31, r11)  # motor y\n",
    "az = asin(r21)         # chain1 z (passive)\n",
    "\n",
    "sy1 = sin(my)\n",
    "cy1 = cos(my)\n",
    "sz1 = sin(az)\n",
    "cz1 = cos(az)\n",
    "\n",
    "#Short link orientation\n",
    "Ry(my)@Rz(az)"
   ]
  },
  {
   "cell_type": "code",
   "execution_count": 9,
   "metadata": {},
   "outputs": [
    {
     "data": {
      "text/latex": [
       "$\\displaystyle \\left[\\begin{matrix}0.936293363584199 & 0.29552020666134 & 0.189796060978687\\\\-0.289629477625516 & 0.955336489125606 & -0.0587108016938265\\\\-0.198669330795061 & 0 & 0.980066577841242\\end{matrix}\\right]$"
      ],
      "text/plain": [
       "Matrix([\n",
       "[ 0.936293363584199,  0.29552020666134,   0.189796060978687],\n",
       "[-0.289629477625516, 0.955336489125606, -0.0587108016938265],\n",
       "[-0.198669330795061,                 0,   0.980066577841242]])"
      ]
     },
     "execution_count": 9,
     "metadata": {},
     "output_type": "execute_result"
    }
   ],
   "source": [
    "#Camera orientation\n",
    "Rz(z)@Ry(y)"
   ]
  },
  {
   "cell_type": "code",
   "execution_count": 10,
   "metadata": {},
   "outputs": [
    {
     "data": {
      "text/latex": [
       "$\\displaystyle \\left[\\begin{matrix}0.936293363584199 & 0.289629477625516 & 0.198669330795061\\\\-0.29552020666134 & 0.955336489125606 & 0\\\\-0.189796060978687 & -0.0587108016938265 & 0.980066577841242\\end{matrix}\\right]$"
      ],
      "text/plain": [
       "Matrix([\n",
       "[ 0.936293363584199,   0.289629477625516, 0.198669330795061],\n",
       "[ -0.29552020666134,   0.955336489125606,                 0],\n",
       "[-0.189796060978687, -0.0587108016938265, 0.980066577841242]])"
      ]
     },
     "execution_count": 10,
     "metadata": {},
     "output_type": "execute_result"
    }
   ],
   "source": [
    "Ry(y)@Rz(z)"
   ]
  },
  {
   "cell_type": "code",
   "execution_count": 16,
   "metadata": {},
   "outputs": [
    {
     "data": {
      "text/latex": [
       "$\\displaystyle 0.0867885863531516$"
      ],
      "text/plain": [
       "0.0867885863531516"
      ]
     },
     "execution_count": 16,
     "metadata": {},
     "output_type": "execute_result"
    }
   ],
   "source": [
    "(Ry(my)@Rz(az)-Rz(z)@Ry(y)).norm()"
   ]
  },
  {
   "cell_type": "code",
   "execution_count": 17,
   "metadata": {},
   "outputs": [
    {
     "data": {
      "text/latex": [
       "$\\displaystyle 0.0843847597773377$"
      ],
      "text/plain": [
       "0.0843847597773377"
      ]
     },
     "execution_count": 17,
     "metadata": {},
     "output_type": "execute_result"
    }
   ],
   "source": [
    "(Ry(y)@Rz(z)-Rz(z)@Ry(y)).norm()"
   ]
  },
  {
   "cell_type": "code",
   "execution_count": null,
   "metadata": {},
   "outputs": [],
   "source": []
  }
 ],
 "metadata": {
  "kernelspec": {
   "display_name": "Python 3",
   "language": "python",
   "name": "python3"
  },
  "language_info": {
   "codemirror_mode": {
    "name": "ipython",
    "version": 3
   },
   "file_extension": ".py",
   "mimetype": "text/x-python",
   "name": "python",
   "nbconvert_exporter": "python",
   "pygments_lexer": "ipython3",
   "version": "3.10.6"
  },
  "orig_nbformat": 4
 },
 "nbformat": 4,
 "nbformat_minor": 2
}
