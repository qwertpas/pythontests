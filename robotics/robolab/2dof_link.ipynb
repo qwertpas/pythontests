{
 "cells": [
  {
   "cell_type": "code",
   "execution_count": 207,
   "metadata": {},
   "outputs": [],
   "source": [
    "from sympy import *\n",
    "\n",
    "N = MatrixSymbol('N', 2, 1)\n",
    "m = MatrixSymbol('m', 2, 1)\n",
    "Ir = MatrixSymbol('Ir', 2, 1)\n",
    "Ic = MatrixSymbol('Ic', 2, 1)\n",
    "Lc = MatrixSymbol('Lc', 2, 1)\n",
    "L = MatrixSymbol('L', 2, 1)\n",
    "q = MatrixSymbol('q', 2, 1)\n",
    "qd = MatrixSymbol('\\dot{q}', 2, 1)\n",
    "qdd = MatrixSymbol('\\ddot{q}', 2, 1)\n",
    "tau = MatrixSymbol('tau', 2, 1)\n",
    "\n",
    "# Unit vector (global coordinate system)\n",
    "xhat = Matrix([1, 0])\n",
    "yhat = Matrix([0, 1])"
   ]
  },
  {
   "cell_type": "code",
   "execution_count": 208,
   "metadata": {},
   "outputs": [
    {
     "data": {
      "text/latex": [
       "$\\displaystyle \\left[\\begin{matrix}\\cos{\\left(q_{0, 0} \\right)} Lc_{0, 0}\\\\\\sin{\\left(q_{0, 0} \\right)} Lc_{0, 0}\\end{matrix}\\right]$"
      ],
      "text/plain": [
       "Matrix([\n",
       "[cos(q[0, 0])*Lc[0, 0]],\n",
       "[sin(q[0, 0])*Lc[0, 0]]])"
      ]
     },
     "metadata": {},
     "output_type": "display_data"
    },
    {
     "data": {
      "text/latex": [
       "$\\displaystyle \\left[\\begin{matrix}\\cos{\\left(q_{0, 0} + q_{1, 0} \\right)} Lc_{1, 0} + \\cos{\\left(q_{0, 0} \\right)} L_{0, 0}\\\\\\sin{\\left(q_{0, 0} + q_{1, 0} \\right)} Lc_{1, 0} + \\sin{\\left(q_{0, 0} \\right)} L_{0, 0}\\end{matrix}\\right]$"
      ],
      "text/plain": [
       "Matrix([\n",
       "[cos(q[0, 0] + q[1, 0])*Lc[1, 0] + cos(q[0, 0])*L[0, 0]],\n",
       "[sin(q[0, 0] + q[1, 0])*Lc[1, 0] + sin(q[0, 0])*L[0, 0]]])"
      ]
     },
     "metadata": {},
     "output_type": "display_data"
    },
    {
     "data": {
      "text/latex": [
       "$\\displaystyle \\left[\\begin{matrix}q_{0, 0}\\\\q_{0, 0} + q_{1, 0}\\end{matrix}\\right]$"
      ],
      "text/plain": [
       "Matrix([\n",
       "[          q[0, 0]],\n",
       "[q[0, 0] + q[1, 0]]])"
      ]
     },
     "metadata": {},
     "output_type": "display_data"
    }
   ],
   "source": [
    "# absolute joint angles\n",
    "a0 = q[0]\n",
    "a1 = q[0] + q[1]\n",
    "a = Matrix([a0, a1])\n",
    "\n",
    "# unit vector of limb directions\n",
    "e0  = cos(a0)*xhat + sin(a0)*yhat;\n",
    "e1  = cos(a1)*xhat + sin(a1)*yhat;\n",
    "\n",
    "# center of mass positions of link\n",
    "G0 = Lc[0]*e0;\n",
    "G1 = L[0]*e0 + Lc[1]*e1;\n",
    "\n",
    "display(G0, G1, a)"
   ]
  },
  {
   "cell_type": "code",
   "execution_count": 209,
   "metadata": {},
   "outputs": [
    {
     "data": {
      "text/latex": [
       "$\\displaystyle \\left[\\begin{matrix}- \\sin{\\left(q_{0, 0} \\right)} Lc_{0, 0} \\dot{q}_{0, 0}\\\\\\cos{\\left(q_{0, 0} \\right)} Lc_{0, 0} \\dot{q}_{0, 0}\\end{matrix}\\right]$"
      ],
      "text/plain": [
       "Matrix([\n",
       "[-sin(q[0, 0])*Lc[0, 0]*\\dot{q}[0, 0]],\n",
       "[ cos(q[0, 0])*Lc[0, 0]*\\dot{q}[0, 0]]])"
      ]
     },
     "metadata": {},
     "output_type": "display_data"
    },
    {
     "data": {
      "text/latex": [
       "$\\displaystyle \\left[\\begin{matrix}\\left(- \\sin{\\left(q_{0, 0} + q_{1, 0} \\right)} Lc_{1, 0} - \\sin{\\left(q_{0, 0} \\right)} L_{0, 0}\\right) \\dot{q}_{0, 0} - \\sin{\\left(q_{0, 0} + q_{1, 0} \\right)} Lc_{1, 0} \\dot{q}_{1, 0}\\\\\\left(\\cos{\\left(q_{0, 0} + q_{1, 0} \\right)} Lc_{1, 0} + \\cos{\\left(q_{0, 0} \\right)} L_{0, 0}\\right) \\dot{q}_{0, 0} + \\cos{\\left(q_{0, 0} + q_{1, 0} \\right)} Lc_{1, 0} \\dot{q}_{1, 0}\\end{matrix}\\right]$"
      ],
      "text/plain": [
       "Matrix([\n",
       "[(-sin(q[0, 0] + q[1, 0])*Lc[1, 0] - sin(q[0, 0])*L[0, 0])*\\dot{q}[0, 0] - sin(q[0, 0] + q[1, 0])*Lc[1, 0]*\\dot{q}[1, 0]],\n",
       "[ (cos(q[0, 0] + q[1, 0])*Lc[1, 0] + cos(q[0, 0])*L[0, 0])*\\dot{q}[0, 0] + cos(q[0, 0] + q[1, 0])*Lc[1, 0]*\\dot{q}[1, 0]]])"
      ]
     },
     "metadata": {},
     "output_type": "display_data"
    },
    {
     "data": {
      "text/latex": [
       "$\\displaystyle \\left[\\begin{matrix}\\dot{q}_{0, 0}\\\\\\dot{q}_{0, 0} + \\dot{q}_{1, 0}\\end{matrix}\\right]$"
      ],
      "text/plain": [
       "Matrix([\n",
       "[                \\dot{q}[0, 0]],\n",
       "[\\dot{q}[0, 0] + \\dot{q}[1, 0]]])"
      ]
     },
     "metadata": {},
     "output_type": "display_data"
    }
   ],
   "source": [
    "def derivative(x):\n",
    "    x = Matrix([x])\n",
    "    return x.jacobian(Matrix([q,qd])) * Matrix([qd,qdd])\n",
    "\n",
    "# time-derivatives of center of mass positions\n",
    "dG0 = derivative(G0)\n",
    "dG1 = derivative(G1)\n",
    "\n",
    "# time-derivatives of absolute joint angles\n",
    "da = derivative(a)\n",
    "\n",
    "display(dG0, dG1, da)"
   ]
  },
  {
   "cell_type": "code",
   "execution_count": 210,
   "metadata": {},
   "outputs": [
    {
     "data": {
      "text/latex": [
       "$\\displaystyle 0.5 \\left(\\sin^{2}{\\left(q_{0, 0} \\right)} Lc_{0, 0}^{2} \\dot{q}_{0, 0}^{2} + \\cos^{2}{\\left(q_{0, 0} \\right)} Lc_{0, 0}^{2} \\dot{q}_{0, 0}^{2}\\right) m_{0, 0} + 0.5 \\left(\\left(\\left(- \\sin{\\left(q_{0, 0} + q_{1, 0} \\right)} Lc_{1, 0} - \\sin{\\left(q_{0, 0} \\right)} L_{0, 0}\\right) \\dot{q}_{0, 0} - \\sin{\\left(q_{0, 0} + q_{1, 0} \\right)} Lc_{1, 0} \\dot{q}_{1, 0}\\right)^{2} + \\left(\\left(\\cos{\\left(q_{0, 0} + q_{1, 0} \\right)} Lc_{1, 0} + \\cos{\\left(q_{0, 0} \\right)} L_{0, 0}\\right) \\dot{q}_{0, 0} + \\cos{\\left(q_{0, 0} + q_{1, 0} \\right)} Lc_{1, 0} \\dot{q}_{1, 0}\\right)^{2}\\right) m_{1, 0}$"
      ],
      "text/plain": [
       "0.5*(sin(q[0, 0])**2*Lc[0, 0]**2*\\dot{q}[0, 0]**2 + cos(q[0, 0])**2*Lc[0, 0]**2*\\dot{q}[0, 0]**2)*m[0, 0] + 0.5*(((-sin(q[0, 0] + q[1, 0])*Lc[1, 0] - sin(q[0, 0])*L[0, 0])*\\dot{q}[0, 0] - sin(q[0, 0] + q[1, 0])*Lc[1, 0]*\\dot{q}[1, 0])**2 + ((cos(q[0, 0] + q[1, 0])*Lc[1, 0] + cos(q[0, 0])*L[0, 0])*\\dot{q}[0, 0] + cos(q[0, 0] + q[1, 0])*Lc[1, 0]*\\dot{q}[1, 0])**2)*m[1, 0]"
      ]
     },
     "metadata": {},
     "output_type": "display_data"
    },
    {
     "data": {
      "text/latex": [
       "$\\displaystyle 0.5 \\left(\\dot{q}_{0, 0} + \\dot{q}_{1, 0}\\right)^{2} Ic_{1, 0} + 0.5 Ic_{0, 0} \\dot{q}_{0, 0}^{2}$"
      ],
      "text/plain": [
       "0.5*(\\dot{q}[0, 0] + \\dot{q}[1, 0])**2*Ic[1, 0] + 0.5*Ic[0, 0]*\\dot{q}[0, 0]**2"
      ]
     },
     "metadata": {},
     "output_type": "display_data"
    }
   ],
   "source": [
    "# Kinetic energy of structural parts\n",
    "T0  = 0.5 * (m[0]*dG0.dot(dG0) + m[1]*dG1.dot(dG1))      # rectilinear\n",
    "T1  = 0.5 * (Ic[0]*da[0]*da[0] + Ic[1]*da[1]*da[1])      # rotational\n",
    "display(T0, T1)"
   ]
  },
  {
   "cell_type": "code",
   "execution_count": 211,
   "metadata": {},
   "outputs": [
    {
     "data": {
      "text/latex": [
       "$\\displaystyle N_{0, 0} \\dot{q}_{0, 0}$"
      ],
      "text/plain": [
       "N[0, 0]*\\dot{q}[0, 0]"
      ]
     },
     "metadata": {},
     "output_type": "display_data"
    },
    {
     "data": {
      "text/latex": [
       "$\\displaystyle N_{1, 0} \\dot{q}_{1, 0}$"
      ],
      "text/plain": [
       "N[1, 0]*\\dot{q}[1, 0]"
      ]
     },
     "metadata": {},
     "output_type": "display_data"
    },
    {
     "data": {
      "text/latex": [
       "$\\displaystyle 0.5 Ir_{0, 0} N_{0, 0}^{2} \\dot{q}_{0, 0}^{2} + 0.5 Ir_{1, 0} N_{1, 0}^{2} \\dot{q}_{1, 0}^{2}$"
      ],
      "text/plain": [
       "0.5*Ir[0, 0]*N[0, 0]**2*\\dot{q}[0, 0]**2 + 0.5*Ir[1, 0]*N[1, 0]**2*\\dot{q}[1, 0]**2"
      ]
     },
     "metadata": {},
     "output_type": "display_data"
    }
   ],
   "source": [
    "# Kinetic energy of actuators, rotors run x(gearRatio) times faster than joints\n",
    "dr0 = N[0]*qd[0]\n",
    "dr1 = N[1]*qd[1]\n",
    "T_act = 0.5*(Ir[0]*dr0*dr0 + Ir[1]*dr1*dr1)\n",
    "display(dr0, dr1, T_act)"
   ]
  },
  {
   "cell_type": "code",
   "execution_count": 212,
   "metadata": {},
   "outputs": [
    {
     "data": {
      "text/latex": [
       "$\\displaystyle \\frac{\\left(\\left(\\left(\\sin{\\left(q_{0, 0} + q_{1, 0} \\right)} Lc_{1, 0} + \\sin{\\left(q_{0, 0} \\right)} L_{0, 0}\\right) \\dot{q}_{0, 0} + \\sin{\\left(q_{0, 0} + q_{1, 0} \\right)} Lc_{1, 0} \\dot{q}_{1, 0}\\right)^{2} + \\left(\\left(\\cos{\\left(q_{0, 0} + q_{1, 0} \\right)} Lc_{1, 0} + \\cos{\\left(q_{0, 0} \\right)} L_{0, 0}\\right) \\dot{q}_{0, 0} + \\cos{\\left(q_{0, 0} + q_{1, 0} \\right)} Lc_{1, 0} \\dot{q}_{1, 0}\\right)^{2}\\right) m_{1, 0}}{2} + \\frac{\\left(\\dot{q}_{0, 0} + \\dot{q}_{1, 0}\\right)^{2} Ic_{1, 0}}{2} + \\frac{Ic_{0, 0} \\dot{q}_{0, 0}^{2}}{2} + \\frac{Ir_{0, 0} N_{0, 0}^{2} \\dot{q}_{0, 0}^{2}}{2} + \\frac{Ir_{1, 0} N_{1, 0}^{2} \\dot{q}_{1, 0}^{2}}{2} + \\frac{Lc_{0, 0}^{2} \\dot{q}_{0, 0}^{2} m_{0, 0}}{2}$"
      ],
      "text/plain": [
       "(((sin(q[0, 0] + q[1, 0])*Lc[1, 0] + sin(q[0, 0])*L[0, 0])*\\dot{q}[0, 0] + sin(q[0, 0] + q[1, 0])*Lc[1, 0]*\\dot{q}[1, 0])**2 + ((cos(q[0, 0] + q[1, 0])*Lc[1, 0] + cos(q[0, 0])*L[0, 0])*\\dot{q}[0, 0] + cos(q[0, 0] + q[1, 0])*Lc[1, 0]*\\dot{q}[1, 0])**2)*m[1, 0]/2 + (\\dot{q}[0, 0] + \\dot{q}[1, 0])**2*Ic[1, 0]/2 + Ic[0, 0]*\\dot{q}[0, 0]**2/2 + Ir[0, 0]*N[0, 0]**2*\\dot{q}[0, 0]**2/2 + Ir[1, 0]*N[1, 0]**2*\\dot{q}[1, 0]**2/2 + Lc[0, 0]**2*\\dot{q}[0, 0]**2*m[0, 0]/2"
      ]
     },
     "metadata": {},
     "output_type": "display_data"
    },
    {
     "data": {
      "text/latex": [
       "$\\displaystyle \\dot{q}_{0, 0} \\tau_{0, 0} + \\dot{q}_{1, 0} \\tau_{1, 0}$"
      ],
      "text/plain": [
       "\\dot{q}[0, 0]*tau[0, 0] + \\dot{q}[1, 0]*tau[1, 0]"
      ]
     },
     "metadata": {},
     "output_type": "display_data"
    }
   ],
   "source": [
    "# Define Lagrangian\n",
    "T = T0 + T1 + T_act     # Kinetic Energy\n",
    "V = 0                   # Potential Energy \n",
    "Lag = T-V               # Lagrangian\n",
    "Lag = simplify(nsimplify(Lag))\n",
    "\n",
    "# Define Generalized Work\n",
    "dW = tau[0]*qd[0] + tau[1]*qd[1]\n",
    "display(Lag, dW)"
   ]
  },
  {
   "cell_type": "code",
   "execution_count": 213,
   "metadata": {},
   "outputs": [
    {
     "data": {
      "text/latex": [
       "$\\displaystyle \\left[\\begin{matrix}\\left(- 2 \\sin{\\left(q_{1, 0} \\right)} L_{0, 0} Lc_{1, 0} \\dot{q}_{0, 0} m_{1, 0} - \\sin{\\left(q_{1, 0} \\right)} L_{0, 0} Lc_{1, 0} \\dot{q}_{1, 0} m_{1, 0}\\right) \\dot{q}_{1, 0} + \\left(\\cos{\\left(q_{1, 0} \\right)} L_{0, 0} Lc_{1, 0} m_{1, 0} + Ic_{1, 0} + Lc_{1, 0}^{2} m_{1, 0}\\right) \\ddot{q}_{1, 0} + \\left(2 \\cos{\\left(q_{1, 0} \\right)} L_{0, 0} Lc_{1, 0} m_{1, 0} + Ic_{0, 0} + Ic_{1, 0} + Ir_{0, 0} N_{0, 0}^{2} + L_{0, 0}^{2} m_{1, 0} + Lc_{0, 0}^{2} m_{0, 0} + Lc_{1, 0}^{2} m_{1, 0}\\right) \\ddot{q}_{0, 0}\\\\\\left(\\dot{q}_{0, 0} + \\dot{q}_{1, 0}\\right) \\sin{\\left(q_{1, 0} \\right)} L_{0, 0} Lc_{1, 0} \\dot{q}_{0, 0} m_{1, 0} + \\left(\\cos{\\left(q_{1, 0} \\right)} L_{0, 0} Lc_{1, 0} m_{1, 0} + Ic_{1, 0} + Lc_{1, 0}^{2} m_{1, 0}\\right) \\ddot{q}_{0, 0} + \\left(Ic_{1, 0} + Ir_{1, 0} N_{1, 0}^{2} + Lc_{1, 0}^{2} m_{1, 0}\\right) \\ddot{q}_{1, 0} - \\sin{\\left(q_{1, 0} \\right)} L_{0, 0} Lc_{1, 0} \\dot{q}_{0, 0} \\dot{q}_{1, 0} m_{1, 0}\\end{matrix}\\right]$"
      ],
      "text/plain": [
       "Matrix([\n",
       "[(-2*sin(q[1, 0])*L[0, 0]*Lc[1, 0]*\\dot{q}[0, 0]*m[1, 0] - sin(q[1, 0])*L[0, 0]*Lc[1, 0]*\\dot{q}[1, 0]*m[1, 0])*\\dot{q}[1, 0] + (cos(q[1, 0])*L[0, 0]*Lc[1, 0]*m[1, 0] + Ic[1, 0] + Lc[1, 0]**2*m[1, 0])*\\ddot{q}[1, 0] + (2*cos(q[1, 0])*L[0, 0]*Lc[1, 0]*m[1, 0] + Ic[0, 0] + Ic[1, 0] + Ir[0, 0]*N[0, 0]**2 + L[0, 0]**2*m[1, 0] + Lc[0, 0]**2*m[0, 0] + Lc[1, 0]**2*m[1, 0])*\\ddot{q}[0, 0]],\n",
       "[                                                                     (\\dot{q}[0, 0] + \\dot{q}[1, 0])*sin(q[1, 0])*L[0, 0]*Lc[1, 0]*\\dot{q}[0, 0]*m[1, 0] + (cos(q[1, 0])*L[0, 0]*Lc[1, 0]*m[1, 0] + Ic[1, 0] + Lc[1, 0]**2*m[1, 0])*\\ddot{q}[0, 0] + (Ic[1, 0] + Ir[1, 0]*N[1, 0]**2 + Lc[1, 0]**2*m[1, 0])*\\ddot{q}[1, 0] - sin(q[1, 0])*L[0, 0]*Lc[1, 0]*\\dot{q}[0, 0]*\\dot{q}[1, 0]*m[1, 0]]])"
      ]
     },
     "metadata": {},
     "output_type": "display_data"
    },
    {
     "data": {
      "text/latex": [
       "$\\displaystyle \\left[\\begin{matrix}\\tau_{0, 0} & \\tau_{1, 0}\\end{matrix}\\right]$"
      ],
      "text/plain": [
       "Matrix([[tau[0, 0], tau[1, 0]]])"
      ]
     },
     "metadata": {},
     "output_type": "display_data"
    }
   ],
   "source": [
    "# Euler-Lagrangian Equation of Motion (EoM)\n",
    "EoM_LHS = zeros(2, 1)\n",
    "for i in range(2):\n",
    "    partial_dq_ = simplify(diff(Lag, qd[i]))\n",
    "    partial_q_ = simplify(diff(Lag, q[i]))\n",
    "    EoM_LHS[i] = derivative(partial_dq_)[0] - partial_q_\n",
    "\n",
    "EoM_RHS = Matrix([dW]).jacobian(qd)\n",
    "display(EoM_LHS, EoM_RHS)"
   ]
  },
  {
   "cell_type": "code",
   "execution_count": 214,
   "metadata": {},
   "outputs": [
    {
     "data": {
      "text/latex": [
       "$\\displaystyle \\left[\\begin{matrix}2 \\cos{\\left(q_{1, 0} \\right)} L_{0, 0} Lc_{1, 0} m_{1, 0} + Ic_{0, 0} + Ic_{1, 0} + Ir_{0, 0} N_{0, 0}^{2} + L_{0, 0}^{2} m_{1, 0} + Lc_{0, 0}^{2} m_{0, 0} + Lc_{1, 0}^{2} m_{1, 0} & \\cos{\\left(q_{1, 0} \\right)} L_{0, 0} Lc_{1, 0} m_{1, 0} + Ic_{1, 0} + Lc_{1, 0}^{2} m_{1, 0}\\\\\\cos{\\left(q_{1, 0} \\right)} L_{0, 0} Lc_{1, 0} m_{1, 0} + Ic_{1, 0} + Lc_{1, 0}^{2} m_{1, 0} & Ic_{1, 0} + Ir_{1, 0} N_{1, 0}^{2} + Lc_{1, 0}^{2} m_{1, 0}\\end{matrix}\\right]$"
      ],
      "text/plain": [
       "Matrix([\n",
       "[2*cos(q[1, 0])*L[0, 0]*Lc[1, 0]*m[1, 0] + Ic[0, 0] + Ic[1, 0] + Ir[0, 0]*N[0, 0]**2 + L[0, 0]**2*m[1, 0] + Lc[0, 0]**2*m[0, 0] + Lc[1, 0]**2*m[1, 0], cos(q[1, 0])*L[0, 0]*Lc[1, 0]*m[1, 0] + Ic[1, 0] + Lc[1, 0]**2*m[1, 0]],\n",
       "[                                                                              cos(q[1, 0])*L[0, 0]*Lc[1, 0]*m[1, 0] + Ic[1, 0] + Lc[1, 0]**2*m[1, 0],                   Ic[1, 0] + Ir[1, 0]*N[1, 0]**2 + Lc[1, 0]**2*m[1, 0]]])"
      ]
     },
     "metadata": {},
     "output_type": "display_data"
    },
    {
     "data": {
      "text/latex": [
       "$\\displaystyle \\left[\\begin{matrix}\\left(- 2 \\sin{\\left(q_{1, 0} \\right)} L_{0, 0} Lc_{1, 0} \\dot{q}_{0, 0} m_{1, 0} - \\sin{\\left(q_{1, 0} \\right)} L_{0, 0} Lc_{1, 0} \\dot{q}_{1, 0} m_{1, 0}\\right) \\dot{q}_{1, 0} + \\left(\\cos{\\left(q_{1, 0} \\right)} L_{0, 0} Lc_{1, 0} m_{1, 0} + Ic_{1, 0} + Lc_{1, 0}^{2} m_{1, 0}\\right) \\ddot{q}_{1, 0} + \\left(2 \\cos{\\left(q_{1, 0} \\right)} L_{0, 0} Lc_{1, 0} m_{1, 0} + Ic_{0, 0} + Ic_{1, 0} + Ir_{0, 0} N_{0, 0}^{2} + L_{0, 0}^{2} m_{1, 0} + Lc_{0, 0}^{2} m_{0, 0} + Lc_{1, 0}^{2} m_{1, 0}\\right) \\ddot{q}_{0, 0}\\\\\\left(\\dot{q}_{0, 0} + \\dot{q}_{1, 0}\\right) \\sin{\\left(q_{1, 0} \\right)} L_{0, 0} Lc_{1, 0} \\dot{q}_{0, 0} m_{1, 0} + \\left(\\cos{\\left(q_{1, 0} \\right)} L_{0, 0} Lc_{1, 0} m_{1, 0} + Ic_{1, 0} + Lc_{1, 0}^{2} m_{1, 0}\\right) \\ddot{q}_{0, 0} + \\left(Ic_{1, 0} + Ir_{1, 0} N_{1, 0}^{2} + Lc_{1, 0}^{2} m_{1, 0}\\right) \\ddot{q}_{1, 0} - \\sin{\\left(q_{1, 0} \\right)} L_{0, 0} Lc_{1, 0} \\dot{q}_{0, 0} \\dot{q}_{1, 0} m_{1, 0}\\end{matrix}\\right] + \\left[\\begin{matrix}- 2 \\cos{\\left(q_{1, 0} \\right)} L_{0, 0} Lc_{1, 0} m_{1, 0} - Ic_{0, 0} - Ic_{1, 0} - Ir_{0, 0} N_{0, 0}^{2} - L_{0, 0}^{2} m_{1, 0} - Lc_{0, 0}^{2} m_{0, 0} - Lc_{1, 0}^{2} m_{1, 0} & - \\cos{\\left(q_{1, 0} \\right)} L_{0, 0} Lc_{1, 0} m_{1, 0} - Ic_{1, 0} - Lc_{1, 0}^{2} m_{1, 0}\\\\- \\cos{\\left(q_{1, 0} \\right)} L_{0, 0} Lc_{1, 0} m_{1, 0} - Ic_{1, 0} - Lc_{1, 0}^{2} m_{1, 0} & - Ic_{1, 0} - Ir_{1, 0} N_{1, 0}^{2} - Lc_{1, 0}^{2} m_{1, 0}\\end{matrix}\\right] \\ddot{q}$"
      ],
      "text/plain": [
       "Matrix([\n",
       "[(-2*sin(q[1, 0])*L[0, 0]*Lc[1, 0]*\\dot{q}[0, 0]*m[1, 0] - sin(q[1, 0])*L[0, 0]*Lc[1, 0]*\\dot{q}[1, 0]*m[1, 0])*\\dot{q}[1, 0] + (cos(q[1, 0])*L[0, 0]*Lc[1, 0]*m[1, 0] + Ic[1, 0] + Lc[1, 0]**2*m[1, 0])*\\ddot{q}[1, 0] + (2*cos(q[1, 0])*L[0, 0]*Lc[1, 0]*m[1, 0] + Ic[0, 0] + Ic[1, 0] + Ir[0, 0]*N[0, 0]**2 + L[0, 0]**2*m[1, 0] + Lc[0, 0]**2*m[0, 0] + Lc[1, 0]**2*m[1, 0])*\\ddot{q}[0, 0]],\n",
       "[                                                                     (\\dot{q}[0, 0] + \\dot{q}[1, 0])*sin(q[1, 0])*L[0, 0]*Lc[1, 0]*\\dot{q}[0, 0]*m[1, 0] + (cos(q[1, 0])*L[0, 0]*Lc[1, 0]*m[1, 0] + Ic[1, 0] + Lc[1, 0]**2*m[1, 0])*\\ddot{q}[0, 0] + (Ic[1, 0] + Ir[1, 0]*N[1, 0]**2 + Lc[1, 0]**2*m[1, 0])*\\ddot{q}[1, 0] - sin(q[1, 0])*L[0, 0]*Lc[1, 0]*\\dot{q}[0, 0]*\\dot{q}[1, 0]*m[1, 0]]]) + Matrix([\n",
       "[-2*cos(q[1, 0])*L[0, 0]*Lc[1, 0]*m[1, 0] - Ic[0, 0] - Ic[1, 0] - Ir[0, 0]*N[0, 0]**2 - L[0, 0]**2*m[1, 0] - Lc[0, 0]**2*m[0, 0] - Lc[1, 0]**2*m[1, 0], -cos(q[1, 0])*L[0, 0]*Lc[1, 0]*m[1, 0] - Ic[1, 0] - Lc[1, 0]**2*m[1, 0]],\n",
       "[                                                                              -cos(q[1, 0])*L[0, 0]*Lc[1, 0]*m[1, 0] - Ic[1, 0] - Lc[1, 0]**2*m[1, 0],                   -Ic[1, 0] - Ir[1, 0]*N[1, 0]**2 - Lc[1, 0]**2*m[1, 0]]])*\\ddot{q}"
      ]
     },
     "metadata": {},
     "output_type": "display_data"
    }
   ],
   "source": [
    "M = EoM_LHS.jacobian(qdd)\n",
    "c = EoM_LHS - M*qdd;\n",
    "display(M, c)"
   ]
  },
  {
   "cell_type": "code",
   "execution_count": 215,
   "metadata": {},
   "outputs": [
    {
     "data": {
      "text/latex": [
       "$\\displaystyle \\left[\\begin{matrix}2 \\cos{\\left(q_{1, 0} \\right)} L_{0, 0} Lc_{1, 0} m_{1, 0} + Ic_{0, 0} + Ic_{1, 0} + Ir_{0, 0} N_{0, 0}^{2} + L_{0, 0}^{2} m_{1, 0} + Lc_{0, 0}^{2} m_{0, 0} + Lc_{1, 0}^{2} m_{1, 0} & \\cos{\\left(q_{1, 0} \\right)} L_{0, 0} Lc_{1, 0} m_{1, 0} + Ic_{1, 0} + Lc_{1, 0}^{2} m_{1, 0}\\\\\\cos{\\left(q_{1, 0} \\right)} L_{0, 0} Lc_{1, 0} m_{1, 0} + Ic_{1, 0} + Lc_{1, 0}^{2} m_{1, 0} & Ic_{1, 0} + Ir_{1, 0} N_{1, 0}^{2} + Lc_{1, 0}^{2} m_{1, 0}\\end{matrix}\\right]$"
      ],
      "text/plain": [
       "Matrix([\n",
       "[2*cos(q[1, 0])*L[0, 0]*Lc[1, 0]*m[1, 0] + Ic[0, 0] + Ic[1, 0] + Ir[0, 0]*N[0, 0]**2 + L[0, 0]**2*m[1, 0] + Lc[0, 0]**2*m[0, 0] + Lc[1, 0]**2*m[1, 0], cos(q[1, 0])*L[0, 0]*Lc[1, 0]*m[1, 0] + Ic[1, 0] + Lc[1, 0]**2*m[1, 0]],\n",
       "[                                                                              cos(q[1, 0])*L[0, 0]*Lc[1, 0]*m[1, 0] + Ic[1, 0] + Lc[1, 0]**2*m[1, 0],                   Ic[1, 0] + Ir[1, 0]*N[1, 0]**2 + Lc[1, 0]**2*m[1, 0]]])"
      ]
     },
     "execution_count": 215,
     "metadata": {},
     "output_type": "execute_result"
    }
   ],
   "source": [
    "nsimplify(M)"
   ]
  }
 ],
 "metadata": {
  "kernelspec": {
   "display_name": "Python 3",
   "language": "python",
   "name": "python3"
  },
  "language_info": {
   "codemirror_mode": {
    "name": "ipython",
    "version": 3
   },
   "file_extension": ".py",
   "mimetype": "text/x-python",
   "name": "python",
   "nbconvert_exporter": "python",
   "pygments_lexer": "ipython3",
   "version": "3.11.4"
  },
  "orig_nbformat": 4
 },
 "nbformat": 4,
 "nbformat_minor": 2
}
