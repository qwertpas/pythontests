{
 "cells": [
  {
   "cell_type": "code",
   "execution_count": null,
   "metadata": {},
   "outputs": [],
   "source": [
    "import numpy as np"
   ]
  },
  {
   "cell_type": "code",
   "execution_count": null,
   "metadata": {},
   "outputs": [],
   "source": [
    "A = np.array([\n",
    "    [-3, -1, 2],\n",
    "    [2, 1, 0],\n",
    "    [-2, 1, 2]\n",
    "])\n",
    "\n",
    "A_inv = np.array([\n",
    "    [2, 4, ],\n",
    "    [-1, 0, 1],\n",
    "    [1, 1, 0]\n",
    "]) * (1/18.)\n",
    "\n",
    "print(np.linalg.solve(A, b))\n",
    "\n",
    "print((A) @ np.array([1, -1, 1]))\n",
    "\n",
    "# eigvals, eigvecs = np.linalg.eig(A)\n",
    "\n",
    "# eigvecs @ np.linalg.inv(eigvecs)\n"
   ]
  },
  {
   "cell_type": "code",
   "execution_count": null,
   "metadata": {},
   "outputs": [],
   "source": [
    "Q = np.array([\n",
    "    [0.707, 0.707],\n",
    "    [0.707, -0.707]\n",
    "])\n",
    "\n",
    "D = np.array([\n",
    "    [4, 0],\n",
    "    [0, 2]\n",
    "])\n",
    "\n",
    "print(Q@D@Q.T)\n",
    "\n"
   ]
  },
  {
   "cell_type": "code",
   "execution_count": 1,
   "metadata": {},
   "outputs": [
    {
     "ename": "NameError",
     "evalue": "name 'np' is not defined",
     "output_type": "error",
     "traceback": [
      "\u001b[0;31m---------------------------------------------------------------------------\u001b[0m",
      "\u001b[0;31mNameError\u001b[0m                                 Traceback (most recent call last)",
      "\u001b[1;32m/Users/chris/VScode/pythontests/257.ipynb Cell 4'\u001b[0m in \u001b[0;36m<module>\u001b[0;34m\u001b[0m\n\u001b[0;32m----> <a href='vscode-notebook-cell:/Users/chris/VScode/pythontests/257.ipynb#ch0000003?line=0'>1</a>\u001b[0m s11 \u001b[39m=\u001b[39m np\u001b[39m.\u001b[39marray([\u001b[39m-\u001b[39m\u001b[39m3\u001b[39m, \u001b[39m2\u001b[39m, \u001b[39m-\u001b[39m\u001b[39m2\u001b[39m])\n\u001b[1;32m      <a href='vscode-notebook-cell:/Users/chris/VScode/pythontests/257.ipynb#ch0000003?line=1'>2</a>\u001b[0m s11_norm \u001b[39m=\u001b[39m s11\u001b[39m/\u001b[39mnp\u001b[39m.\u001b[39mlinalg\u001b[39m.\u001b[39mnorm(s11)\n\u001b[1;32m      <a href='vscode-notebook-cell:/Users/chris/VScode/pythontests/257.ipynb#ch0000003?line=3'>4</a>\u001b[0m s12 \u001b[39m=\u001b[39m np\u001b[39m.\u001b[39marray([\u001b[39m-\u001b[39m\u001b[39m2\u001b[39m, \u001b[39m1\u001b[39m, \u001b[39m-\u001b[39m\u001b[39m2\u001b[39m])\n",
      "\u001b[0;31mNameError\u001b[0m: name 'np' is not defined"
     ]
    }
   ],
   "source": [
    "s11 = np.array([-3, 2, -2])\n",
    "s11_norm = s11/np.linalg.norm(s11)\n",
    "\n",
    "s12 = np.array([-2, 1, -2])\n",
    "s12 = s12 - s12@s11_norm*s11_norm\n",
    "s12_norm = s12/np.linalg.norm(s12)\n",
    "\n",
    "s2 = np.array([1, 1, 0])\n",
    "s2 = s2 - s2@s11_norm*s11_norm - s2@s12_norm*s12_norm\n",
    "s2_norm = s2/np.linalg.norm(s2)\n",
    "\n",
    "print(s11@s12)\n",
    "print(s11@s2)\n",
    "print(s12@s2)\n",
    "\n",
    "print(np.linalg.norm(s11_norm))\n",
    "print(np.linalg.norm(s12_norm))\n",
    "print(np.linalg.norm(s2_norm))\n",
    "\n",
    "print(s11_norm)\n",
    "print(s12_norm)\n",
    "print(s2_norm)"
   ]
  },
  {
   "cell_type": "code",
   "execution_count": null,
   "metadata": {},
   "outputs": [
    {
     "data": {
      "text/plain": [
       "array([ 4.,  0., -3.])"
      ]
     },
     "execution_count": 5,
     "metadata": {},
     "output_type": "execute_result"
    }
   ],
   "source": [
    "v1 = np.array([1,2,3])\n",
    "v2 = np.array([1,1,-1])\n",
    "v3 = np.array([-5,4,-1])\n",
    "\n",
    "-5/14*v1+7/3*v2+-17/42*v3"
   ]
  },
  {
   "cell_type": "code",
   "execution_count": null,
   "metadata": {},
   "outputs": [],
   "source": [
    "A = np.array([\n",
    "    [0, 1, 0],\n",
    "    [1, 0, 1]\n",
    "])\n",
    "\n",
    "# eigvals, V = np.linalg.eig(A.T @ A)\n",
    "\n",
    "# eigvals[1], eigvals[2] = eigvals[2], eigvals[1]\n",
    "# V[:, [1, 2]] = V[:, [2, 1]]\n",
    "\n",
    "# sigmas = np.sqrt(np.round(eigvals, 5))\n",
    "# sigmas = sigmas[sigmas != 0]\n",
    "\n",
    "# U = np.zeros((len(A), len(A)))\n",
    "# for i in range(len(A)):\n",
    "#     U[i] = 1/sigmas[i] * A @ V[:,i]\n",
    "\n",
    "# S = np.zeros(A.shape)\n",
    "# for i in range(len(sigmas)):\n",
    "#     S[i, i] = sigmas[i]\n",
    "\n",
    "# print('U=\\n', U)\n",
    "# print('Σ=\\n', S)\n",
    "# print('V=\\n', np.round(V, 5))\n",
    "\n",
    "# print('A-UΣV.T=\\n', A - U@S@V.T)\n"
   ]
  },
  {
   "cell_type": "code",
   "execution_count": null,
   "metadata": {},
   "outputs": [
    {
     "name": "stdout",
     "output_type": "stream",
     "text": [
      "(array([[0., 1.],\n",
      "       [1., 0.]]), array([1.41421356, 1.        ]), array([[ 0.70710678,  0.        ,  0.70710678],\n",
      "       [ 0.        ,  1.        ,  0.        ],\n",
      "       [-0.70710678,  0.        ,  0.70710678]]))\n"
     ]
    },
    {
     "data": {
      "text/plain": [
       "array([[0. , 0.5],\n",
       "       [1. , 0. ],\n",
       "       [0. , 0.5]])"
      ]
     },
     "execution_count": 7,
     "metadata": {},
     "output_type": "execute_result"
    }
   ],
   "source": [
    "U, S, VT = np.linalg.svd(A, full_matrices=True)\n",
    "print(np.linalg.svd(A, full_matrices=True))\n",
    "# Σ = np.zeros(A.shape)\n",
    "# for i in range(len(S)):\n",
    "#     Σ[i, i] = 1/S[i]\n",
    "# print(np.round(U, 3))\n",
    "# print(np.round(Σ, 3))\n",
    "# print(np.round(VT.T, 3))\n",
    "\n",
    "V = VT.T\n",
    "\n",
    "Σ = np.array([\n",
    "    [1/1.414, 0],\n",
    "    [0, 1],\n",
    "    [0, 0]\n",
    "])\n",
    "\n",
    "UT = U.T\n",
    "\n",
    "np.round(V @ Σ @ UT, 3)"
   ]
  },
  {
   "cell_type": "code",
   "execution_count": null,
   "metadata": {},
   "outputs": [
    {
     "name": "stdout",
     "output_type": "stream",
     "text": [
      "[[0. 1.]\n",
      " [1. 0.]\n",
      " [0. 1.]]\n"
     ]
    },
    {
     "data": {
      "text/plain": [
       "array([[0. , 0.5],\n",
       "       [1. , 0. ],\n",
       "       [0. , 0.5]])"
      ]
     },
     "execution_count": 8,
     "metadata": {},
     "output_type": "execute_result"
    }
   ],
   "source": [
    "pinv = np.round(VT.T @ Σ @ U.T)\n",
    "\n",
    "print(pinv)\n",
    "np.round(np.linalg.pinv(A), 3)\n",
    "\n",
    "# approx = np.zeros_like(A)\n",
    "# for i in range(2):\n",
    "#     approx = approx + (S[i] * np.outer(U[:,i], VT[i,:].T))\n",
    "# print(approx)"
   ]
  },
  {
   "cell_type": "code",
   "execution_count": null,
   "metadata": {},
   "outputs": [
    {
     "name": "stdout",
     "output_type": "stream",
     "text": [
      "-0.7692307692307693 -0.8461538461538461\n"
     ]
    }
   ],
   "source": [
    "print(-10/13, -11/13)"
   ]
  },
  {
   "cell_type": "code",
   "execution_count": null,
   "metadata": {},
   "outputs": [
    {
     "data": {
      "text/plain": [
       "(array([[ 1.11022302e-16, -1.00000000e+00,  2.22044605e-16],\n",
       "        [-6.15412209e-01, -2.35513869e-16, -7.88205438e-01],\n",
       "        [-7.88205438e-01,  0.00000000e+00,  6.15412209e-01]]),\n",
       " array([2.13577921, 1.41421356, 0.66215345]),\n",
       " array([[-0.36904818, -0.6571923 , -0.6571923 ],\n",
       "        [ 0.        , -0.70710678,  0.70710678],\n",
       "        [ 0.92941026, -0.26095647, -0.26095647]]))"
      ]
     },
     "execution_count": 10,
     "metadata": {},
     "output_type": "execute_result"
    }
   ],
   "source": [
    "import scipy as sp\n",
    "A = np.array([\n",
    "    [0, 1, -1],\n",
    "    [0, 1, 1],\n",
    "    [1, 1, 1]\n",
    "])\n",
    "\n",
    "\n",
    "np.linalg.svd(A)"
   ]
  },
  {
   "cell_type": "code",
   "execution_count": null,
   "metadata": {},
   "outputs": [
    {
     "name": "stdout",
     "output_type": "stream",
     "text": [
      "[ 4 -1  1]\n",
      "0\n",
      "0\n",
      "0\n"
     ]
    }
   ],
   "source": [
    "q1 = np.array([1,2,-2])\n",
    "v2 = np.array([0.707,0.707,0])\n",
    "v3 = np.array([-1, 1, 1])\n",
    "\n",
    "q2 = v2 - np.dot(q1, v2)*q1\n",
    "q2 = q2/np.linalg.norm(q2)\n",
    "\n",
    "q3 = (v3 - np.dot(q1, v3)*q1 - np.dot(q2, v3)*q1)\n",
    "q3 = q3/np.linalg.norm(q3)\n",
    "# q3 = np.array([-1, 0, 0])\n",
    "\n",
    "q1 = np.array([1, 2, -2])\n",
    "q2 = np.array([0, 1, 1])\n",
    "q3 = np.cross(q1, q2)\n",
    "\n",
    "print(q3)\n",
    "print(np.dot(q1, q2))\n",
    "print(np.dot(q1, q3))\n",
    "print(np.dot(q2, q3))"
   ]
  },
  {
   "cell_type": "code",
   "execution_count": null,
   "metadata": {},
   "outputs": [
    {
     "name": "stdout",
     "output_type": "stream",
     "text": [
      "Q [[ 0.78086881 -0.62469505]\n",
      " [ 0.62469505  0.78086881]]\n",
      "[5. 4.]\n",
      "[-8. 10.]\n"
     ]
    },
    {
     "data": {
      "text/plain": [
       "0.0"
      ]
     },
     "execution_count": 12,
     "metadata": {},
     "output_type": "execute_result"
    }
   ],
   "source": [
    "Q = np.array([\n",
    "    [5, -4],\n",
    "    [4, 5]\n",
    "])\n",
    "mag = (5**2 + 4**2)**0.5\n",
    "Q = Q/mag\n",
    "print(\"Q\", Q)\n",
    "\n",
    "D = np.diag([1, 2])\n",
    "\n",
    "A = Q@D@Q.T\n",
    "print(A@np.array([5, 4]))\n",
    "print(A@np.array([-4, 5]))\n",
    "\n",
    "q1 = np.array([ 0.78086881, -0.62469505])\n",
    "q2 = np.array([ 0.62469505,  0.78086881])\n",
    "q1@q2\n"
   ]
  },
  {
   "cell_type": "code",
   "execution_count": null,
   "metadata": {},
   "outputs": [
    {
     "name": "stdout",
     "output_type": "stream",
     "text": [
      "(array([1.02687495e+00, 2.50799698e-17, 1.73125051e-01]), array([[-6.05912800e-01, -7.07106781e-01, -3.64512933e-01],\n",
      "       [-6.05912800e-01,  7.07106781e-01, -3.64512933e-01],\n",
      "       [-5.15499134e-01,  6.15886491e-17,  8.56890100e-01]]))\n",
      "[-2.13333333 -2.13333333 -2.53333333]\n"
     ]
    }
   ],
   "source": [
    "Q = np.array([\n",
    "    [1, -1, 1],\n",
    "    [-1, -1, 1],\n",
    "    [-1, -1 , -1]\n",
    "])\n",
    "mag = 3**0.5\n",
    "Q = Q / mag\n",
    "D = np.diag([0, 1, 0.2])\n",
    "\n",
    "A = Q@D@Q.T\n",
    "print(np.linalg.eig(A))\n",
    "\n",
    "An = A.copy()\n",
    "for i in range(100):\n",
    "    An = An @ A\n",
    "\n",
    "\n",
    "v = 2*np.array([1, -1, -1]) + 2*np.array([-1, -1, -1]) + 1*np.array([1, 1, -1])\n",
    "print(A@v)"
   ]
  },
  {
   "cell_type": "code",
   "execution_count": null,
   "metadata": {},
   "outputs": [
    {
     "data": {
      "text/plain": [
       "0.7071067811865475"
      ]
     },
     "execution_count": 14,
     "metadata": {},
     "output_type": "execute_result"
    }
   ],
   "source": [
    "b2 = 1/np.sqrt(2) * np.array([-1, 0, 1])\n",
    "v = np.array([0, 0, 1])\n",
    "\n",
    "np.dot(b2, v)"
   ]
  },
  {
   "cell_type": "code",
   "execution_count": null,
   "metadata": {},
   "outputs": [
    {
     "data": {
      "text/plain": [
       "55"
      ]
     },
     "execution_count": 15,
     "metadata": {},
     "output_type": "execute_result"
    }
   ],
   "source": [
    "10+9+8+7+6+5+4+3+2+1"
   ]
  },
  {
   "cell_type": "code",
   "execution_count": null,
   "metadata": {},
   "outputs": [
    {
     "name": "stdout",
     "output_type": "stream",
     "text": [
      "[-10.  -6.  14.   6.]\n"
     ]
    }
   ],
   "source": [
    "A = np.array([\n",
    "    [1, 0, 1, -1],\n",
    "    [0, 1, 1, -1],\n",
    "    [0, 1, 0, 1],\n",
    "    [1, 1, 1, 1]\n",
    "\n",
    "])\n",
    "\n",
    "b = np.array([-2, 2, 0, 4])\n",
    "\n",
    "x = np.linalg.solve(A, b)\n",
    "\n",
    "print(x)\n",
    "# print(A @ inv)\n",
    "\n"
   ]
  },
  {
   "cell_type": "code",
   "execution_count": null,
   "metadata": {},
   "outputs": [
    {
     "data": {
      "text/plain": [
       "-2.25"
      ]
     },
     "execution_count": 22,
     "metadata": {},
     "output_type": "execute_result"
    }
   ],
   "source": [
    "-9/4"
   ]
  },
  {
   "cell_type": "code",
   "execution_count": null,
   "metadata": {},
   "outputs": [
    {
     "data": {
      "text/plain": [
       "(Matrix([\n",
       " [1, 0, 1],\n",
       " [0, 1, 1],\n",
       " [0, 0, 0],\n",
       " [0, 0, 0],\n",
       " [0, 0, 0]]),\n",
       " (0, 1))"
      ]
     },
     "execution_count": 27,
     "metadata": {},
     "output_type": "execute_result"
    }
   ],
   "source": [
    "from sympy import Matrix\n",
    "\n",
    "\n",
    "M = Matrix([\n",
    "    [-2, 4, 2],\n",
    "    [4, 0, 4],\n",
    "    [6, 2, 8],\n",
    "    [-8, -2, -10],\n",
    "    [-4, 6, 2]\n",
    "])\n",
    "\n",
    "M.rref()"
   ]
  }
 ],
 "metadata": {
  "interpreter": {
   "hash": "aee8b7b246df8f9039afb4144a1f6fd8d2ca17a180786b69acc140d282b71a49"
  },
  "kernelspec": {
   "display_name": "Python 3.9.5 64-bit",
   "language": "python",
   "name": "python3"
  },
  "language_info": {
   "codemirror_mode": {
    "name": "ipython",
    "version": 3
   },
   "file_extension": ".py",
   "mimetype": "text/x-python",
   "name": "python",
   "nbconvert_exporter": "python",
   "pygments_lexer": "ipython3",
   "version": "3.9.13"
  },
  "orig_nbformat": 4
 },
 "nbformat": 4,
 "nbformat_minor": 2
}
