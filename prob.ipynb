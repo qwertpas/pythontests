{
 "cells": [
  {
   "cell_type": "code",
   "execution_count": 145,
   "metadata": {},
   "outputs": [
    {
     "name": "stdout",
     "output_type": "stream",
     "text": [
      "0.138398\n",
      "0.89855\n",
      "0.1540237048578265\n"
     ]
    }
   ],
   "source": [
    "import numpy as np\n",
    "\n",
    "n = 1000000\n",
    "p = 0.24\n",
    "\n",
    "#A is the prob that a fails. 0 means success and 1 is fail\n",
    "A = np.random.choice([0, 1], p=[1-p, p], size=n)\n",
    "B = np.random.choice([0, 1], p=[1-p, p], size=n)\n",
    "C = np.random.choice([0, 1], p=[1-p, p], size=n)\n",
    "\n",
    "passes = 0\n",
    "passandcfail = 0\n",
    "\n",
    "for i in range(len(A)):\n",
    "    if((not A[i] and not B[i]) or not C[i]):\n",
    "        passes += 1\n",
    "        if(C[i]):\n",
    "            passandcfail += 1\n",
    "    \n",
    "\n",
    "print(passandcfail/n)\n",
    "print(passes/n)\n",
    "\n",
    "print(passandcfail/passes)\n",
    "\n"
   ]
  },
  {
   "cell_type": "code",
   "execution_count": 232,
   "metadata": {},
   "outputs": [
    {
     "name": "stdout",
     "output_type": "stream",
     "text": [
      "0.7763\n"
     ]
    }
   ],
   "source": [
    "import numpy as np\n",
    "\n",
    "trials = 10000\n",
    "good = 0\n",
    "tickets = 219\n",
    "prob_attend = 0.9\n",
    "\n",
    "for i in range(trials):\n",
    "    attendees = np.random.choice([0, 1], p=[1-prob_attend, prob_attend], size=tickets)\n",
    "    if sum(attendees) <= 200:\n",
    "        good += 1\n",
    "\n",
    "print(good/trials)"
   ]
  },
  {
   "cell_type": "code",
   "execution_count": 25,
   "metadata": {},
   "outputs": [
    {
     "data": {
      "text/plain": [
       "array([3.14, 3.14, 3.14])"
      ]
     },
     "execution_count": 25,
     "metadata": {},
     "output_type": "execute_result"
    }
   ],
   "source": [
    "from math import pi, sqrt\n",
    "import numpy as np\n",
    "from numpy import sin, cos\n",
    "from scipy.linalg import expm\n",
    "\n",
    "\n",
    "sqrt3 = sqrt(3)/3\n",
    "w = np.array([\n",
    "    [0, -sqrt(3)/3, sqrt(3)/3],\n",
    "    [sqrt(3)/3, 0, -sqrt(3)/3],\n",
    "    [-sqrt(3)/3, sqrt(3)/3, 0]\n",
    "])\n",
    "\n",
    "theta = pi\n",
    "\n",
    "x = (theta*np.eye(3) + (1-cos(theta))*w + (theta-sin(theta))*(w@w)) @ np.array([1, 1, 1])\n",
    "\n",
    "np.round(x, 2)\n",
    "\n",
    "# S = np.array()"
   ]
  },
  {
   "cell_type": "code",
   "execution_count": 26,
   "metadata": {},
   "outputs": [
    {
     "data": {
      "text/plain": [
       "array([[-0.33333333,  0.66666667,  0.66666667],\n",
       "       [ 0.66666667, -0.33333333,  0.66666667],\n",
       "       [ 0.66666667,  0.66666667, -0.33333333]])"
      ]
     },
     "execution_count": 26,
     "metadata": {},
     "output_type": "execute_result"
    }
   ],
   "source": [
    "expm(theta*w)"
   ]
  },
  {
   "cell_type": "code",
   "execution_count": null,
   "metadata": {},
   "outputs": [],
   "source": [
    "epis = np.array([\n",
    "    [-1/3, 2/3, 2/3, pi],\n",
    "    [2/3, -1/3, 2/3, pi],\n",
    "    [2/3, 2/3, -1/3, pi],\n",
    "    [0, 0, 0, 1]\n",
    "])\n"
   ]
  },
  {
   "cell_type": "code",
   "execution_count": 14,
   "metadata": {},
   "outputs": [
    {
     "data": {
      "text/plain": [
       "array([[-1.,  0.,  0., -2.],\n",
       "       [ 0.,  0.,  1., -3.],\n",
       "       [ 0.,  1.,  0.,  2.],\n",
       "       [ 0.,  0.,  0.,  1.]])"
      ]
     },
     "execution_count": 14,
     "metadata": {},
     "output_type": "execute_result"
    }
   ],
   "source": [
    "Tsb = np.array([\n",
    "    [0, 1, 0, 0],\n",
    "    [-1, 0, 0, -2],\n",
    "    [0, 0, 1, -2],\n",
    "    [0, 0, 0, 1]\n",
    "])\n",
    "\n",
    "Tsa = np.array([\n",
    "    [0, 0, 1, -3],\n",
    "    [1, 0, 0, 0],\n",
    "    [0, 1, 0, 0],\n",
    "    [0, 0, 0, 1]\n",
    "])\n",
    "\n",
    "np.linalg.inv(Tsb)@Tsa"
   ]
  },
  {
   "cell_type": "code",
   "execution_count": 27,
   "metadata": {},
   "outputs": [
    {
     "data": {
      "text/plain": [
       "array([[ 0,  1,  0, -3],\n",
       "       [ 0,  0,  1, -3],\n",
       "       [ 1,  0,  0,  0],\n",
       "       [ 0,  0,  0,  1]])"
      ]
     },
     "execution_count": 27,
     "metadata": {},
     "output_type": "execute_result"
    }
   ],
   "source": [
    "Tsa@Tsa"
   ]
  },
  {
   "cell_type": "code",
   "execution_count": 24,
   "metadata": {},
   "outputs": [
    {
     "data": {
      "text/plain": [
       "array([-2.96467442,  1.63216537, -0.09988544])"
      ]
     },
     "execution_count": 24,
     "metadata": {},
     "output_type": "execute_result"
    }
   ],
   "source": [
    "R = np.array([\n",
    "    [0, 0, 1],\n",
    "    [1, 0, 0],\n",
    "    [0, 1, 0]\n",
    "])\n",
    "\n",
    "theta = np.arccos(1/2*(np.trace(R) - 1))\n",
    "w1 = 1/(2*(sin(theta)))\n",
    "w2 = 1/(2*(sin(theta)))\n",
    "w3 = 1/(2*(sin(theta)))\n",
    "# print(w1, w2, w3)\n",
    "\n",
    "w=1/(2*sin(theta)) * (R - R.T)\n",
    "\n",
    "v = (1/theta * np.eye(3) - 1/2*w - (1/theta - 1/2*(1/np.tan(theta/1)))*(w@w))@np.array([-3, 0, 0])\n",
    "v"
   ]
  }
 ],
 "metadata": {
  "kernelspec": {
   "display_name": "Python 3.10.6 64-bit",
   "language": "python",
   "name": "python3"
  },
  "language_info": {
   "codemirror_mode": {
    "name": "ipython",
    "version": 3
   },
   "file_extension": ".py",
   "mimetype": "text/x-python",
   "name": "python",
   "nbconvert_exporter": "python",
   "pygments_lexer": "ipython3",
   "version": "3.10.6"
  },
  "orig_nbformat": 4,
  "vscode": {
   "interpreter": {
    "hash": "aee8b7b246df8f9039afb4144a1f6fd8d2ca17a180786b69acc140d282b71a49"
   }
  }
 },
 "nbformat": 4,
 "nbformat_minor": 2
}
