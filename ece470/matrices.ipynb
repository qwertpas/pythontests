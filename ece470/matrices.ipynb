{
 "cells": [
  {
   "cell_type": "code",
   "execution_count": 1,
   "metadata": {},
   "outputs": [],
   "source": [
    "import numpy as np\n",
    "from numpy import sin, cos, tan, pi, arccos, arcsin, sqrt, radians, degrees\n",
    "from scipy.linalg import expm, logm\n",
    "import matplotlib.pyplot as plt\n",
    "from fractions import Fraction\n",
    "\n",
    "from util import *\n",
    "\n",
    "np.set_printoptions(precision=3, suppress=True)"
   ]
  },
  {
   "cell_type": "code",
   "execution_count": 2,
   "metadata": {},
   "outputs": [
    {
     "name": "stdout",
     "output_type": "stream",
     "text": [
      "[[-1.    -0.     0.   ]\n",
      " [ 0.     0.5    0.866]\n",
      " [-0.     0.866 -0.5  ]]\n",
      "there are 6 solutions for W\n",
      "[[ 0.    -0.5    0.866]\n",
      " [ 0.5    0.    -0.   ]\n",
      " [-0.866  0.     0.   ]] [0.    0.866 0.5  ] 180.0\n"
     ]
    }
   ],
   "source": [
    "w = [0, 0.866, 0.5]\n",
    "theta = radians(180)\n",
    "R = get_rotation_from_axis_angle(axis=skew(w), angle=theta)\n",
    "print(R)\n",
    "W, theta = get_axis_angle_from_rotation(R)\n",
    "print(W, unskew(W), degrees(theta))"
   ]
  },
  {
   "cell_type": "code",
   "execution_count": 3,
   "metadata": {},
   "outputs": [
    {
     "name": "stdout",
     "output_type": "stream",
     "text": [
      "twist_s: [ 0  0  2 -2 -4  0], twist_b: [ 0.   0.  -2.   2.8  4.   0. ]\n",
      "[ 0.  0.  2. -2. -4.  0.]\n"
     ]
    }
   ],
   "source": [
    "#example 3.23, the tricycle\n",
    "R_sb = np.array([ #car frame rotation in space frame\n",
    "    [-1, 0, 0],\n",
    "    [0, 1, 0],\n",
    "    [0, 0, -1]\n",
    "])\n",
    "p_sb = np.array((4, 0.4, 0)) #position of car in space frame\n",
    "r_s = np.array((2, -1, 0))\n",
    "T_sb = format_transformation(R_sb, p_sb)\n",
    "r_b = transform_point(np.linalg.inv(T_sb), r_s)\n",
    "w_s = np.array((0, 0, 2))\n",
    "w_b = np.array((0, 0, -2))\n",
    "v_s = cross(r_s, w_s)       #v = r x ω\n",
    "v_b = cross(r_b, w_b)\n",
    "twist_s = np.concatenate((w_s, v_s))\n",
    "twist_b = np.concatenate((w_b, v_b))\n",
    "print(f\"twist_s: {twist_s}, twist_b: {twist_b}\")\n",
    "Adj_Tsb = adjoint(T_sb)\n",
    "print(Adj_Tsb @ twist_b)    #show that Adj can convert body twist to space twist"
   ]
  },
  {
   "cell_type": "code",
   "execution_count": 4,
   "metadata": {},
   "outputs": [
    {
     "name": "stdout",
     "output_type": "stream",
     "text": [
      "[0. 0. 2. 2. 0. 0.]\n"
     ]
    }
   ],
   "source": [
    "print(get_twist_from_screw_qsh(2, (0, 1, 0), (0, 0, 1), 0))"
   ]
  },
  {
   "cell_type": "code",
   "execution_count": 5,
   "metadata": {},
   "outputs": [
    {
     "name": "stdout",
     "output_type": "stream",
     "text": [
      "[[ 0.866 -0.5    0.     2.136]\n",
      " [ 0.5    0.866  0.    -1.234]\n",
      " [ 0.     0.     1.     0.   ]\n",
      " [ 0.     0.     0.     1.   ]]\n",
      "[ 0.    0.    1.    3.37 -3.37  0.  ] 29.99999999999998\n"
     ]
    }
   ],
   "source": [
    "s = (0, 0, 1, 3.37, -3.37, 0)\n",
    "T = get_transformation_from_screw_axis_angle(s, radians(30))\n",
    "print(T)\n",
    "\n",
    "S, theta = get_screw_axis_angle_from_transformation(T)\n",
    "s = extract_twist_vector_from_matrix(S)\n",
    "print(s, degrees(theta))"
   ]
  }
 ],
 "metadata": {
  "kernelspec": {
   "display_name": "Python 3.10.6 64-bit",
   "language": "python",
   "name": "python3"
  },
  "language_info": {
   "codemirror_mode": {
    "name": "ipython",
    "version": 3
   },
   "file_extension": ".py",
   "mimetype": "text/x-python",
   "name": "python",
   "nbconvert_exporter": "python",
   "pygments_lexer": "ipython3",
   "version": "3.10.6"
  },
  "orig_nbformat": 4,
  "vscode": {
   "interpreter": {
    "hash": "aee8b7b246df8f9039afb4144a1f6fd8d2ca17a180786b69acc140d282b71a49"
   }
  }
 },
 "nbformat": 4,
 "nbformat_minor": 2
}
