{
 "cells": [
  {
   "cell_type": "code",
   "execution_count": 2,
   "metadata": {},
   "outputs": [],
   "source": [
    "import numpy as np\n",
    "from numpy import sin, cos, tan, pi, arccos, arcsin, sqrt\n",
    "from scipy.linalg import expm, logm\n",
    "import matplotlib.pyplot as plt\n",
    "from fractions import Fraction\n",
    "\n",
    "from util import *\n",
    "\n",
    "np.set_printoptions(precision=3, suppress=True)"
   ]
  },
  {
   "cell_type": "code",
   "execution_count": null,
   "metadata": {},
   "outputs": [],
   "source": []
  },
  {
   "cell_type": "code",
   "execution_count": 5,
   "metadata": {},
   "outputs": [
    {
     "ename": "ValueError",
     "evalue": "matmul: Input operand 1 does not have enough dimensions (has 0, gufunc core with signature (n?,k),(k,m?)->(n?,m?) requires 1)",
     "output_type": "error",
     "traceback": [
      "\u001b[0;31m---------------------------------------------------------------------------\u001b[0m",
      "\u001b[0;31mValueError\u001b[0m                                Traceback (most recent call last)",
      "\u001b[1;32m/Users/christopherxu/Code/pythontests/ece470/matrices.ipynb Cell 2\u001b[0m in \u001b[0;36m<cell line: 7>\u001b[0;34m()\u001b[0m\n\u001b[1;32m      <a href='vscode-notebook-cell:/Users/christopherxu/Code/pythontests/ece470/matrices.ipynb#W2sZmlsZQ%3D%3D?line=0'>1</a>\u001b[0m R \u001b[39m=\u001b[39m np\u001b[39m.\u001b[39marray([\n\u001b[1;32m      <a href='vscode-notebook-cell:/Users/christopherxu/Code/pythontests/ece470/matrices.ipynb#W2sZmlsZQ%3D%3D?line=1'>2</a>\u001b[0m     [\u001b[39m0\u001b[39m, \u001b[39m0\u001b[39m, \u001b[39m1\u001b[39m],\n\u001b[1;32m      <a href='vscode-notebook-cell:/Users/christopherxu/Code/pythontests/ece470/matrices.ipynb#W2sZmlsZQ%3D%3D?line=2'>3</a>\u001b[0m     [\u001b[39m1\u001b[39m, \u001b[39m0\u001b[39m, \u001b[39m0\u001b[39m],\n\u001b[1;32m      <a href='vscode-notebook-cell:/Users/christopherxu/Code/pythontests/ece470/matrices.ipynb#W2sZmlsZQ%3D%3D?line=3'>4</a>\u001b[0m     [\u001b[39m0\u001b[39m, \u001b[39m1\u001b[39m, \u001b[39m0\u001b[39m]\n\u001b[1;32m      <a href='vscode-notebook-cell:/Users/christopherxu/Code/pythontests/ece470/matrices.ipynb#W2sZmlsZQ%3D%3D?line=4'>5</a>\u001b[0m ])\n\u001b[1;32m      <a href='vscode-notebook-cell:/Users/christopherxu/Code/pythontests/ece470/matrices.ipynb#W2sZmlsZQ%3D%3D?line=5'>6</a>\u001b[0m theta\u001b[39m=\u001b[39m\u001b[39m2\u001b[39m\u001b[39m*\u001b[39mpi\u001b[39m/\u001b[39m\u001b[39m3\u001b[39m\n\u001b[0;32m----> <a href='vscode-notebook-cell:/Users/christopherxu/Code/pythontests/ece470/matrices.ipynb#W2sZmlsZQ%3D%3D?line=6'>7</a>\u001b[0m get_S_theta(R, theta)\n",
      "\u001b[1;32m/Users/christopherxu/Code/pythontests/ece470/matrices.ipynb Cell 2\u001b[0m in \u001b[0;36mget_S_theta\u001b[0;34m(R, p)\u001b[0m\n\u001b[1;32m     <a href='vscode-notebook-cell:/Users/christopherxu/Code/pythontests/ece470/matrices.ipynb#W2sZmlsZQ%3D%3D?line=53'>54</a>\u001b[0m omega \u001b[39m=\u001b[39m logm(R)\n\u001b[1;32m     <a href='vscode-notebook-cell:/Users/christopherxu/Code/pythontests/ece470/matrices.ipynb#W2sZmlsZQ%3D%3D?line=54'>55</a>\u001b[0m G_inv \u001b[39m=\u001b[39m (\u001b[39m1\u001b[39m\u001b[39m/\u001b[39mtheta)\u001b[39m*\u001b[39mnp\u001b[39m.\u001b[39meye(\u001b[39m3\u001b[39m) \u001b[39m-\u001b[39m (\u001b[39m1\u001b[39m\u001b[39m/\u001b[39m\u001b[39m2\u001b[39m)\u001b[39m*\u001b[39momega \u001b[39m+\u001b[39m (\u001b[39m1\u001b[39m\u001b[39m/\u001b[39mtheta \u001b[39m-\u001b[39m \u001b[39m1\u001b[39m\u001b[39m/\u001b[39m\u001b[39m2\u001b[39m\u001b[39m*\u001b[39mcot(theta\u001b[39m/\u001b[39m\u001b[39m2\u001b[39m))\u001b[39m*\u001b[39m(omega\u001b[39m@omega\u001b[39m)\n\u001b[0;32m---> <a href='vscode-notebook-cell:/Users/christopherxu/Code/pythontests/ece470/matrices.ipynb#W2sZmlsZQ%3D%3D?line=55'>56</a>\u001b[0m v \u001b[39m=\u001b[39m G_inv \u001b[39m@\u001b[39;49m p\n\u001b[1;32m     <a href='vscode-notebook-cell:/Users/christopherxu/Code/pythontests/ece470/matrices.ipynb#W2sZmlsZQ%3D%3D?line=56'>57</a>\u001b[0m S \u001b[39m=\u001b[39m get_screw(omega, v)\n\u001b[1;32m     <a href='vscode-notebook-cell:/Users/christopherxu/Code/pythontests/ece470/matrices.ipynb#W2sZmlsZQ%3D%3D?line=57'>58</a>\u001b[0m \u001b[39mreturn\u001b[39;00m S, theta\n",
      "\u001b[0;31mValueError\u001b[0m: matmul: Input operand 1 does not have enough dimensions (has 0, gufunc core with signature (n?,k),(k,m?)->(n?,m?) requires 1)"
     ]
    }
   ],
   "source": [
    "R = np.array([\n",
    "    [0, 0, 1],\n",
    "    [1, 0, 0],\n",
    "    [0, 1, 0]\n",
    "])\n",
    "theta=2*pi/3\n",
    "get_S_theta(R, theta)"
   ]
  },
  {
   "cell_type": "code",
   "execution_count": null,
   "metadata": {},
   "outputs": [
    {
     "data": {
      "text/plain": [
       "array([[-0.333,  0.667,  0.667,  3.142],\n",
       "       [ 0.667, -0.333,  0.667,  3.142],\n",
       "       [ 0.667,  0.667, -0.333,  3.142],\n",
       "       [-0.   ,  0.   , -0.   ,  1.   ]])"
      ]
     },
     "execution_count": 72,
     "metadata": {},
     "output_type": "execute_result"
    }
   ],
   "source": [
    "omega = np.array([1, 1, 1]) * sqrt(3)/3\n",
    "v = np.array([1, 1, 1])\n",
    "theta = pi\n",
    "\n",
    "S = get_screw(omega, v)\n",
    "\n",
    "T = expm(S*theta)\n",
    "T@origin"
   ]
  },
  {
   "cell_type": "code",
   "execution_count": null,
   "metadata": {},
   "outputs": [
    {
     "data": {
      "text/plain": [
       "array([[-0.   , -1.209,  1.209,  2.209],\n",
       "       [ 1.209,  0.   , -1.209, -1.418],\n",
       "       [-1.209,  1.209,  0.   ,  2.209],\n",
       "       [ 0.   ,  0.   ,  0.   ,  0.   ]])"
      ]
     },
     "execution_count": 64,
     "metadata": {},
     "output_type": "execute_result"
    }
   ],
   "source": [
    "Tsa = np.array([\n",
    "    [0, 0, 1, 3],\n",
    "    [1, 0, 0, 0],\n",
    "    [0, 1, 0, 0],\n",
    "    [0, 0, 0, 1]\n",
    "])\n",
    "\n",
    "logm(Tsa)"
   ]
  },
  {
   "cell_type": "code",
   "execution_count": null,
   "metadata": {},
   "outputs": [
    {
     "data": {
      "text/plain": [
       "array([ 0,  0, -1])"
      ]
     },
     "execution_count": 81,
     "metadata": {},
     "output_type": "execute_result"
    }
   ],
   "source": [
    "-np.cross([0, 1, 0], [-1, 1, 0])"
   ]
  }
 ],
 "metadata": {
  "kernelspec": {
   "display_name": "Python 3.10.6 64-bit",
   "language": "python",
   "name": "python3"
  },
  "language_info": {
   "codemirror_mode": {
    "name": "ipython",
    "version": 3
   },
   "file_extension": ".py",
   "mimetype": "text/x-python",
   "name": "python",
   "nbconvert_exporter": "python",
   "pygments_lexer": "ipython3",
   "version": "3.10.6"
  },
  "orig_nbformat": 4,
  "vscode": {
   "interpreter": {
    "hash": "aee8b7b246df8f9039afb4144a1f6fd8d2ca17a180786b69acc140d282b71a49"
   }
  }
 },
 "nbformat": 4,
 "nbformat_minor": 2
}
