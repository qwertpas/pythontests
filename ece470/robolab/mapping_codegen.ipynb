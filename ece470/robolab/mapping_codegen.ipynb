{
 "cells": [
  {
   "cell_type": "code",
   "execution_count": 318,
   "metadata": {},
   "outputs": [],
   "source": [
    "import numpy as np\n",
    "from sympy import *"
   ]
  },
  {
   "cell_type": "code",
   "execution_count": 319,
   "metadata": {},
   "outputs": [],
   "source": [
    "theta_joy1 = symbols('th_j1')\n",
    "theta_joy2 = symbols('th_j2')\n",
    "theta_joy3 = symbols('th_j3')\n",
    "theta_joy4 = symbols('th_j4')\n",
    "\n",
    "L_joy_shoulder_from_body = symbols('L_joy_shoulder_from_body')\n",
    "L_joy_shoulder_x = symbols('L_joy_shoulder_x')\n",
    "L_joy_shoulder_y = symbols('L_joy_shoulder_y')\n",
    "L_joy_arm = symbols('L_joy_arm')\n",
    "L_joy_forearm = symbols('L_joy_forearm')\n",
    "L_joy_hand = symbols('L_joy_hand')\n",
    "L_sat_shoulder_from_body = symbols('L_sat_shoulder_from_body')\n",
    "L_sat_forearm = symbols('L_sat_forearm')\n",
    "L_sat_arm = symbols('L_sat_arm')\n",
    "\n",
    "joy_right_shoulder = Matrix([0, -L_joy_shoulder_from_body-L_joy_shoulder_y, 0])\n",
    "sat_right_shoulder = Matrix([0, -L_sat_shoulder_from_body, 0])"
   ]
  },
  {
   "cell_type": "code",
   "execution_count": 320,
   "metadata": {},
   "outputs": [
    {
     "name": "stdout",
     "output_type": "stream",
     "text": [
      "joy_eff[0] = -sin(th_j1)*sin(th_j2)*sin(th_j3 - th_j4) + cos(th_j1)*cos(th_j3 - th_j4);\n",
      "joy_eff[1] = -sin(th_j1)*cos(th_j2);\n",
      "joy_eff[2] = sin(th_j1)*sin(th_j2)*cos(th_j3 - th_j4) + sin(th_j3 - th_j4)*cos(th_j1);\n",
      "joy_eff[3] = -L_joy_arm*(sin(th_j1)*sin(th_j2)*cos(th_j3) + sin(th_j3)*cos(th_j1)) - L_joy_forearm*(sin(th_j1)*sin(th_j2)*cos(th_j3 - th_j4) + sin(th_j3 - th_j4)*cos(th_j1)) - L_joy_hand*sin(th_j1)*cos(th_j2) + L_joy_shoulder_x*cos(th_j1) + L_joy_shoulder_y*sin(th_j1)*cos(th_j2);\n",
      "joy_eff[4] = sin(th_j1)*cos(th_j3 - th_j4) + sin(th_j2)*sin(th_j3 - th_j4)*cos(th_j1);\n",
      "joy_eff[5] = cos(th_j1)*cos(th_j2);\n",
      "joy_eff[6] = sin(th_j1)*sin(th_j3 - th_j4) - sin(th_j2)*cos(th_j1)*cos(th_j3 - th_j4);\n",
      "joy_eff[7] = -L_joy_arm*(sin(th_j1)*sin(th_j3) - sin(th_j2)*cos(th_j1)*cos(th_j3)) - L_joy_forearm*(sin(th_j1)*sin(th_j3 - th_j4) - sin(th_j2)*cos(th_j1)*cos(th_j3 - th_j4)) + L_joy_hand*cos(th_j1)*cos(th_j2) - L_joy_shoulder_from_body + L_joy_shoulder_x*sin(th_j1) - L_joy_shoulder_y*cos(th_j1)*cos(th_j2);\n",
      "joy_eff[8] = -sin(th_j3 - th_j4)*cos(th_j2);\n",
      "joy_eff[9] = sin(th_j2);\n",
      "joy_eff[10] = cos(th_j2)*cos(th_j3 - th_j4);\n",
      "joy_eff[11] = -L_joy_arm*cos(th_j2)*cos(th_j3) - L_joy_forearm*cos(th_j2)*cos(th_j3 - th_j4) + L_joy_hand*sin(th_j2) - L_joy_shoulder_y*sin(th_j2);\n",
      "joy_eff[12] = 0;\n",
      "joy_eff[13] = 0;\n",
      "joy_eff[14] = 0;\n",
      "joy_eff[15] = 1;\n"
     ]
    }
   ],
   "source": [
    "def HTM(axis, theta, displacement):\n",
    "    R = eye(3)\n",
    "    if(axis == 'x'):\n",
    "        R = Matrix([\n",
    "            [1, 0, 0],\n",
    "            [0, cos(theta), -sin(theta)],\n",
    "            [0, sin(theta), cos(theta)],\n",
    "        ]\n",
    "    )\n",
    "    if(axis == 'y'):\n",
    "        R = Matrix([\n",
    "            [cos(theta), 0, sin(theta)],\n",
    "            [0, 1, 0],\n",
    "            [-sin(theta), 0, cos(theta)],\n",
    "        ]\n",
    "    )\n",
    "    if(axis == 'z'):\n",
    "        R = Matrix([\n",
    "            [cos(theta), -sin(theta), 0],\n",
    "            [sin(theta), cos(theta), 0],\n",
    "            [0, 0, 1]\n",
    "        ]\n",
    "    )\n",
    "    return R.row_join(Matrix(displacement)).col_join(Matrix([0, 0, 0, 1]).T)\n",
    "\n",
    "H_shoulder_1 = HTM('z', theta_joy1, [0, -L_joy_shoulder_from_body, 0])\n",
    "H_shoulder_2 = HTM('x', theta_joy2, [0, 0, 0])\n",
    "H_shoulder_3 = HTM('y', theta_joy3, [L_joy_shoulder_x, -L_joy_shoulder_y, 0])\n",
    "H_elbow = HTM('y', -theta_joy4, [0, 0, -L_joy_arm])\n",
    "H_end = HTM('', 0, [0, L_joy_hand, -L_joy_forearm])\n",
    "\n",
    "H_end_0 = simplify(Matrix(H_shoulder_1@H_shoulder_2@H_shoulder_3@H_elbow@H_end))\n",
    "\n",
    "print(ccode(H_end_0, assign_to=MatrixSymbol('joy_eff', 4, 4)))"
   ]
  },
  {
   "cell_type": "code",
   "execution_count": 321,
   "metadata": {},
   "outputs": [
    {
     "name": "stdout",
     "output_type": "stream",
     "text": [
      "sat_elb_dir[0] = L_joy_forearm*joy_eff[2] - L_joy_shoulder_x + joy_eff[3];\n",
      "sat_elb_dir[1] = L_joy_forearm*joy_eff[6] - L_joy_hand + L_joy_shoulder_from_body + L_joy_shoulder_y + joy_eff[7];\n",
      "sat_elb_dir[2] = L_joy_forearm*joy_eff[10] + joy_eff[11];\n"
     ]
    }
   ],
   "source": [
    "Rxx, Rxy, Rxz, dx = symbols('joy_eff[0] joy_eff[1] joy_eff[2] joy_eff[3]')\n",
    "Ryx, Ryy, Ryz, dy = symbols('joy_eff[4] joy_eff[5] joy_eff[6] joy_eff[7]')\n",
    "Rzx, Rzy, Rzz, dz = symbols('joy_eff[8] joy_eff[9] joy_eff[10] joy_eff[11]')\n",
    "\n",
    "p_joy_end = Matrix([dx, dy, dz])\n",
    "yaxis_joy_end = Matrix([Rxy, Ryy, Rzy])\n",
    "zaxis_joy_end = Matrix([Rxz, Ryz, Rzz])\n",
    "\n",
    "p_joy_elb = p_joy_end - L_joy_forearm * -zaxis_joy_end\n",
    "p_shoulder_zero = Matrix([L_joy_shoulder_x, -L_joy_shoulder_from_body - L_joy_shoulder_y + L_joy_hand, 0])\n",
    "\n",
    "sat_elb_dir = p_joy_elb - p_shoulder_zero\n",
    "print(ccode(sat_elb_dir, assign_to=MatrixSymbol('sat_elb_dir', 3, 1)))"
   ]
  },
  {
   "cell_type": "code",
   "execution_count": 322,
   "metadata": {},
   "outputs": [
    {
     "name": "stdout",
     "output_type": "stream",
     "text": [
      "Rz[0] = -sat_elb_dir[0]/sqrt(pow(sat_elb_dir[0], 2) + pow(sat_elb_dir[1], 2) + pow(sat_elb_dir[2], 2));\n",
      "Rz[1] = -sat_elb_dir[1]/sqrt(pow(sat_elb_dir[0], 2) + pow(sat_elb_dir[1], 2) + pow(sat_elb_dir[2], 2));\n",
      "Rz[2] = -sat_elb_dir[2]/sqrt(pow(sat_elb_dir[0], 2) + pow(sat_elb_dir[1], 2) + pow(sat_elb_dir[2], 2));\n"
     ]
    }
   ],
   "source": [
    "def norm3d(v):\n",
    "    mag = sqrt(v[0]**2 + v[1]**2 + v[2]**2)\n",
    "    return v/mag\n",
    "\n",
    "sat_elb_dir0, sat_elb_dir1, sat_elb_dir2 = symbols('sat_elb_dir[0] sat_elb_dir[1] sat_elb_dir[2]')\n",
    "sat_elb_dir_sym = Matrix([sat_elb_dir0, sat_elb_dir1, sat_elb_dir2])\n",
    "p_sat_elb = L_sat_arm * norm3d(sat_elb_dir_sym)\n",
    "\n",
    "Rz = simplify(-norm3d(sat_elb_dir_sym))\n",
    "print(ccode(Rz, assign_to=MatrixSymbol('Rz', 3, 1)))"
   ]
  },
  {
   "cell_type": "code",
   "execution_count": 323,
   "metadata": {},
   "outputs": [
    {
     "name": "stdout",
     "output_type": "stream",
     "text": [
      "Ry[0] = -Rz[0]*(Rz[0]*joy_eff[1] + Rz[1]*joy_eff[5] + Rz[2]*joy_eff[9]) + joy_eff[1];\n",
      "Ry[1] = -Rz[1]*(Rz[0]*joy_eff[1] + Rz[1]*joy_eff[5] + Rz[2]*joy_eff[9]) + joy_eff[5];\n",
      "Ry[2] = -Rz[2]*(Rz[0]*joy_eff[1] + Rz[1]*joy_eff[5] + Rz[2]*joy_eff[9]) + joy_eff[9];\n"
     ]
    }
   ],
   "source": [
    "Rz0, Rz1, Rz2 = symbols('Rz[0] Rz[1] Rz[2]')\n",
    "Rz_sym = Matrix([Rz0, Rz1, Rz2])\n",
    "\n",
    "Ry = simplify((yaxis_joy_end - Rz_sym*yaxis_joy_end.dot(Rz_sym)))\n",
    "print(ccode(Ry, assign_to=MatrixSymbol('Ry', 3, 1)))\n",
    "\n",
    "#and then normalize later"
   ]
  },
  {
   "cell_type": "code",
   "execution_count": 324,
   "metadata": {},
   "outputs": [
    {
     "name": "stdout",
     "output_type": "stream",
     "text": [
      "Rx[0] = Ry[1]*Rz[2] - Ry[2]*Rz[1];\n",
      "Rx[1] = -Ry[0]*Rz[2] + Ry[2]*Rz[0];\n",
      "Rx[2] = Ry[0]*Rz[1] - Ry[1]*Rz[0];\n"
     ]
    }
   ],
   "source": [
    "Ry0, Ry1, Ry2 = symbols('Ry[0] Ry[1] Ry[2]')\n",
    "Ry_sym = Matrix([Ry0, Ry1, Ry2])\n",
    "\n",
    "Rx = (Ry_sym.cross(Rz_sym))\n",
    "print(ccode(Rx, assign_to=MatrixSymbol('Rx', 3, 1)))\n",
    "\n",
    "Rx0, Rx1, Rx2 = symbols('Rx[0] Rx[1] Rx[2]')\n",
    "Rx_sym = Matrix([Rx0, Rx1, Rx2])\n"
   ]
  },
  {
   "cell_type": "code",
   "execution_count": 325,
   "metadata": {},
   "outputs": [
    {
     "name": "stdout",
     "output_type": "stream",
     "text": [
      "acos(Rz[0]*joy_eff[2] + Rz[1]*joy_eff[6] + Rz[2]*joy_eff[10])\n"
     ]
    }
   ],
   "source": [
    "v1 = zaxis_joy_end\n",
    "v2 = Rz_sym\n",
    "axis = Ry_sym\n",
    "\n",
    "th_s4 = acos(v1.dot(v2))\n",
    "print(ccode(simplify(th_s4)))\n",
    "\n",
    "# print(ccode(simplify(v1.cross(v2).dot(axis))))\n"
   ]
  },
  {
   "cell_type": "code",
   "execution_count": 326,
   "metadata": {},
   "outputs": [
    {
     "name": "stdout",
     "output_type": "stream",
     "text": [
      "M_PI - (fmod(atan2(Rz[2], Rz[0]) + M_PI_2, 2*M_PI))\n",
      "M_PI - (fmod(atan2(Rz[1], sqrt(1 - pow(Rz[1], 2))) + M_PI, 2*M_PI))\n",
      "M_PI - (fmod(atan2(-Rx[1], Ry[1]) + M_PI, 2*M_PI))\n"
     ]
    }
   ],
   "source": [
    "R = Matrix([Rx_sym.T, Ry_sym.T, Rz_sym.T]).T\n",
    "shift = Matrix([\n",
    "    [0, 0, 1],\n",
    "    [1, 0, 0],\n",
    "    [0, 1, 0]\n",
    "])\n",
    "\n",
    "R = shift @ R\n",
    "\n",
    "s5 = sqrt(1 - R[2,2]*R[2,2])\n",
    "\n",
    "th_s1 = atan2(R[0,2], R[1,2]) - pi/2\n",
    "th_s2 = atan2(R[2,2], s5)\n",
    "th_s3 = atan2(-R[2,0], R[2,1])\n",
    "\n",
    "\n",
    "def ang_wrap(num):\n",
    "    return Mod(num + pi, 2*pi) - pi;\n",
    "\n",
    "th_s1 = -ang_wrap(th_s1)\n",
    "th_s2 = -ang_wrap(th_s2)\n",
    "th_s3 = -ang_wrap(th_s3)\n",
    "\n",
    "print(ccode(simplify(th_s1)))\n",
    "print(ccode(simplify(th_s2)))\n",
    "print(ccode(simplify(th_s3)))\n",
    "# Vector3d sol1(-ang_wrap(theta4), -ang_wrap(theta5), -ang_wrap(theta6));"
   ]
  }
 ],
 "metadata": {
  "kernelspec": {
   "display_name": "Python 3",
   "language": "python",
   "name": "python3"
  },
  "language_info": {
   "codemirror_mode": {
    "name": "ipython",
    "version": 3
   },
   "file_extension": ".py",
   "mimetype": "text/x-python",
   "name": "python",
   "nbconvert_exporter": "python",
   "pygments_lexer": "ipython3",
   "version": "3.10.6"
  },
  "orig_nbformat": 4,
  "vscode": {
   "interpreter": {
    "hash": "7e1998ff7f8aa20ada591c520b972326324e5ea05489af9e422744c7c09f6dad"
   }
  }
 },
 "nbformat": 4,
 "nbformat_minor": 2
}
