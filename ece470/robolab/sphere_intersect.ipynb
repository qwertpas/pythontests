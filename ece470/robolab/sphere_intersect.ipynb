{
 "cells": [
  {
   "cell_type": "code",
   "execution_count": 9,
   "metadata": {},
   "outputs": [],
   "source": [
    "import numpy as np"
   ]
  },
  {
   "cell_type": "code",
   "execution_count": 10,
   "metadata": {},
   "outputs": [],
   "source": [
    "#satyrr dimensions\n",
    "L_arm = 0.11945     #distance from shoulder to elbow\n",
    "L_forearm = 0.2115  #distance from elbow to end effector"
   ]
  },
  {
   "cell_type": "code",
   "execution_count": 11,
   "metadata": {},
   "outputs": [],
   "source": [
    "def norm(vec):\n",
    "    return np.sqrt(np.dot(vec, vec))\n",
    "\n",
    "'''https://en.wikipedia.org/wiki/Line%E2%80%93sphere_intersection'''\n",
    "def sphere_intersect(line_origin, line_dir, sphere_center, sphere_radius):\n",
    "    o = np.array(line_origin)\n",
    "    u = np.array(line_dir)/norm(line_dir)\n",
    "    c = np.array(sphere_center)\n",
    "    r = sphere_radius\n",
    "\n",
    "    determinant = np.dot(u, o-c)**2 - (np.dot(o-c,o-c) - r**2)\n",
    "    if(determinant < 0):\n",
    "        print(f\"No solution found: determinant={determinant}\")\n",
    "        return 0\n",
    "    else:\n",
    "        dist_from_line_origin = -np.dot(u, o-c) + np.sqrt(determinant)\n",
    "        intersect_pt = o + u*dist_from_line_origin\n",
    "        return intersect_pt, dist_from_line_origin\n",
    "\n",
    "'''uses law of cosines to get an angle C of a triangle that has known sides a, b, c'''\n",
    "def get_angle_of_tri(a, b, c):\n",
    "    return np.arccos((a**2 + b**2 - c**2)/(2*a*b))\n",
    "\n",
    "def spherical_invk(angx, angy, angz):\n",
    "    return 0, 0, 0"
   ]
  },
  {
   "cell_type": "code",
   "execution_count": 13,
   "metadata": {},
   "outputs": [
    {
     "name": "stdout",
     "output_type": "stream",
     "text": [
      "0.0\n"
     ]
    }
   ],
   "source": [
    "joy_end = np.array([1, 1, 0])   #position of joystick end effector\n",
    "end_ang = np.array([1, 0, 0])       #unit vector \n",
    "end_ang = end_ang / norm(end_ang)\n",
    "\n",
    "joy_elb= joy_end - L_forearm * end_ang\n",
    "\n",
    "sat_elb, _ = sphere_intersect(\n",
    "    line_origin=joy_end,\n",
    "    line_dir=joy_end,\n",
    "    sphere_center=(0,0,0),\n",
    "    sphere_radius=L_arm\n",
    ")\n",
    "\n",
    "sat_end = sat_elb + end_ang*L_forearm\n",
    "L_sat_end = norm(sat_end)\n",
    "\n",
    "theta4 = get_angle_of_tri(L_arm, L_forearm, norm(L_sat_end))\n",
    "\n",
    "theta1 = np.arccos(norm([sat_end[0], sat_end[1]]) / L_sat_end)\n",
    "# theta1, theta2, theta3 = spherical_invk(angx, angy, angz)\n",
    "\n",
    "print(theta1)\n",
    "\n",
    "\n",
    "\n",
    "\n",
    "\n",
    "\n",
    "\n"
   ]
  }
 ],
 "metadata": {
  "kernelspec": {
   "display_name": "Python 3.10.6 64-bit",
   "language": "python",
   "name": "python3"
  },
  "language_info": {
   "codemirror_mode": {
    "name": "ipython",
    "version": 3
   },
   "file_extension": ".py",
   "mimetype": "text/x-python",
   "name": "python",
   "nbconvert_exporter": "python",
   "pygments_lexer": "ipython3",
   "version": "3.10.6"
  },
  "orig_nbformat": 4,
  "vscode": {
   "interpreter": {
    "hash": "aee8b7b246df8f9039afb4144a1f6fd8d2ca17a180786b69acc140d282b71a49"
   }
  }
 },
 "nbformat": 4,
 "nbformat_minor": 2
}
