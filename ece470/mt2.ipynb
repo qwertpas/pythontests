{
 "cells": [
  {
   "cell_type": "code",
   "execution_count": 2,
   "metadata": {},
   "outputs": [],
   "source": [
    "import numpy as np\n",
    "import sympy\n"
   ]
  },
  {
   "cell_type": "code",
   "execution_count": 6,
   "metadata": {},
   "outputs": [
    {
     "data": {
      "text/plain": [
       "array([[9, 0, 0],\n",
       "       [0, 4, 2],\n",
       "       [0, 2, 1]])"
      ]
     },
     "execution_count": 6,
     "metadata": {},
     "output_type": "execute_result"
    }
   ],
   "source": [
    "J_A = np.array([\n",
    "    [-3, 0, 0],\n",
    "    [0, 0, 0],\n",
    "    [0, 2, 1]\n",
    "])\n",
    "\n",
    "J_A.T@J_A"
   ]
  },
  {
   "cell_type": "code",
   "execution_count": 7,
   "metadata": {},
   "outputs": [
    {
     "data": {
      "text/plain": [
       "array([[0, 0, 0],\n",
       "       [0, 2, 1],\n",
       "       [0, 1, 1]])"
      ]
     },
     "execution_count": 7,
     "metadata": {},
     "output_type": "execute_result"
    }
   ],
   "source": [
    "J_B = np.array([\n",
    "    [0, 0, 0],\n",
    "    [0, -1, 0],\n",
    "    [0, -1, -1]\n",
    "])\n",
    "\n",
    "J_B.T@J_B"
   ]
  },
  {
   "cell_type": "code",
   "execution_count": 10,
   "metadata": {},
   "outputs": [],
   "source": [
    "from sympy import *\n",
    "\n",
    "T = symbols('T')\n",
    "a5, a4, a3 = symbols('a5 a4 a3')\n",
    "\n",
    "res = linsolve(Matrix(([T**5, T**4, T**3, 1], [5*T**4, 4*T**3, 3*T**2, 0], [20*T**3, 12*T**2, 6*T, 1])), (a5, a4, a3))"
   ]
  },
  {
   "cell_type": "code",
   "execution_count": 19,
   "metadata": {},
   "outputs": [],
   "source": [
    "a5 = res.args[0][0]\n",
    "a4 = res.args[0][1]\n",
    "a3 = res.args[0][2]"
   ]
  },
  {
   "cell_type": "code",
   "execution_count": 27,
   "metadata": {},
   "outputs": [
    {
     "data": {
      "text/latex": [
       "$\\displaystyle \\frac{T \\left(\\sqrt{2} T^{4} \\sqrt{\\frac{3 T^{4} + 80 T^{2} + 600}{T^{8}}} + 4 T^{2} + 60\\right)}{10 \\left(T^{2} + 12\\right)}$"
      ],
      "text/plain": [
       "T*(sqrt(2)*T**4*sqrt((3*T**4 + 80*T**2 + 600)/T**8) + 4*T**2 + 60)/(10*(T**2 + 12))"
      ]
     },
     "execution_count": 27,
     "metadata": {},
     "output_type": "execute_result"
    }
   ],
   "source": [
    "expr = (-4*a4+sqrt(16*a4**2-4*10*a5*a3))/(2*10*a5)\n",
    "simplify(expr)"
   ]
  },
  {
   "cell_type": "code",
   "execution_count": 28,
   "metadata": {},
   "outputs": [
    {
     "data": {
      "text/latex": [
       "$\\displaystyle 2.23517672626098$"
      ],
      "text/plain": [
       "2.23517672626098"
      ]
     },
     "execution_count": 28,
     "metadata": {},
     "output_type": "execute_result"
    }
   ],
   "source": [
    "expr.subs({T:3.1})"
   ]
  },
  {
   "cell_type": "code",
   "execution_count": null,
   "metadata": {},
   "outputs": [],
   "source": []
  },
  {
   "cell_type": "code",
   "execution_count": 23,
   "metadata": {},
   "outputs": [
    {
     "data": {
      "text/latex": [
       "$\\displaystyle \\frac{T \\left(- \\sqrt{2} T^{4} \\sqrt{\\frac{3 T^{4} + 80 T^{2} + 600}{T^{8}}} + 4 T^{2} + 60\\right)}{10 \\left(T^{2} + 12\\right)}$"
      ],
      "text/plain": [
       "T*(-sqrt(2)*T**4*sqrt((3*T**4 + 80*T**2 + 600)/T**8) + 4*T**2 + 60)/(10*(T**2 + 12))"
      ]
     },
     "execution_count": 23,
     "metadata": {},
     "output_type": "execute_result"
    }
   ],
   "source": [
    "expr = (-4*a4-sqrt(16*a4**2-4*10*a5*a3))/(2*10*a5)\n",
    "simplify(expr)"
   ]
  },
  {
   "cell_type": "code",
   "execution_count": 25,
   "metadata": {},
   "outputs": [
    {
     "data": {
      "text/latex": [
       "$\\displaystyle 0.589108326955126$"
      ],
      "text/plain": [
       "0.589108326955126"
      ]
     },
     "execution_count": 25,
     "metadata": {},
     "output_type": "execute_result"
    }
   ],
   "source": [
    "expr.subs({T:3.1})"
   ]
  },
  {
   "cell_type": "code",
   "execution_count": 30,
   "metadata": {},
   "outputs": [
    {
     "data": {
      "text/plain": [
       "array([-1.+0.j        , -1.+1.41421356j, -1.-1.41421356j])"
      ]
     },
     "execution_count": 30,
     "metadata": {},
     "output_type": "execute_result"
    }
   ],
   "source": [
    "A = np.array([\n",
    "    [0, 1, 0],\n",
    "    [0, 0, 1],\n",
    "    [-3, -5, -3]\n",
    "])\n",
    "np.linalg.eigvals(A)"
   ]
  }
 ],
 "metadata": {
  "kernelspec": {
   "display_name": "Python 3.10.6 64-bit",
   "language": "python",
   "name": "python3"
  },
  "language_info": {
   "codemirror_mode": {
    "name": "ipython",
    "version": 3
   },
   "file_extension": ".py",
   "mimetype": "text/x-python",
   "name": "python",
   "nbconvert_exporter": "python",
   "pygments_lexer": "ipython3",
   "version": "3.10.6"
  },
  "orig_nbformat": 4,
  "vscode": {
   "interpreter": {
    "hash": "aee8b7b246df8f9039afb4144a1f6fd8d2ca17a180786b69acc140d282b71a49"
   }
  }
 },
 "nbformat": 4,
 "nbformat_minor": 2
}
