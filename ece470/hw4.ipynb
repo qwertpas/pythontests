{
 "cells": [
  {
   "cell_type": "code",
   "execution_count": 1,
   "metadata": {},
   "outputs": [],
   "source": [
    "import numpy as np\n",
    "import scipy\n",
    "from sympy import *\n",
    "import matplotlib.pyplot as plt\n",
    "%matplotlib widget\n",
    "init_printing(use_unicode=True)"
   ]
  },
  {
   "cell_type": "code",
   "execution_count": 2,
   "metadata": {},
   "outputs": [
    {
     "data": {
      "image/png": "[encoded data removed]",
      "text/latex": [
       "$\\displaystyle - θ_{3}{\\left(t \\right)} \\sin{\\left(θ_{1}{\\left(t \\right)} \\right)} \\cos{\\left(θ_{2}{\\left(t \\right)} \\right)} \\frac{d}{d t} θ_{1}{\\left(t \\right)} - θ_{3}{\\left(t \\right)} \\sin{\\left(θ_{2}{\\left(t \\right)} \\right)} \\cos{\\left(θ_{1}{\\left(t \\right)} \\right)} \\frac{d}{d t} θ_{2}{\\left(t \\right)} + \\cos{\\left(θ_{1}{\\left(t \\right)} \\right)} \\cos{\\left(θ_{2}{\\left(t \\right)} \\right)} \\frac{d}{d t} θ_{3}{\\left(t \\right)}$"
      ],
      "text/plain": [
       "                              d                                       d       \n",
       "- θ₃(t)⋅sin(θ₁(t))⋅cos(θ₂(t))⋅──(θ₁(t)) - θ₃(t)⋅sin(θ₂(t))⋅cos(θ₁(t))⋅──(θ₂(t)\n",
       "                              dt                                      dt      \n",
       "\n",
       "                          d        \n",
       ") + cos(θ₁(t))⋅cos(θ₂(t))⋅──(θ₃(t))\n",
       "                          dt       "
      ]
     },
     "execution_count": 2,
     "metadata": {},
     "output_type": "execute_result"
    }
   ],
   "source": [
    "theta1, theta2, theta3 = symbols('θ1, θ2, θ3', cls=Function)\n",
    "t = symbols('t')\n",
    "# theta1(t)\n",
    "x = theta3(t)*cos(theta2(t))*cos(theta1(t))\n",
    "x_dot = diff(x, t)\n",
    "x_dot\n"
   ]
  },
  {
   "cell_type": "code",
   "execution_count": 3,
   "metadata": {},
   "outputs": [
    {
     "data": {
      "image/png": "[encoded data removed]",
      "text/latex": [
       "$\\displaystyle - θ_{3}{\\left(t \\right)} \\sin{\\left(θ_{1}{\\left(t \\right)} \\right)} \\sin{\\left(θ_{2}{\\left(t \\right)} \\right)} \\frac{d}{d t} θ_{2}{\\left(t \\right)} + θ_{3}{\\left(t \\right)} \\cos{\\left(θ_{1}{\\left(t \\right)} \\right)} \\cos{\\left(θ_{2}{\\left(t \\right)} \\right)} \\frac{d}{d t} θ_{1}{\\left(t \\right)} + \\sin{\\left(θ_{1}{\\left(t \\right)} \\right)} \\cos{\\left(θ_{2}{\\left(t \\right)} \\right)} \\frac{d}{d t} θ_{3}{\\left(t \\right)}$"
      ],
      "text/plain": [
       "                              d                                       d       \n",
       "- θ₃(t)⋅sin(θ₁(t))⋅sin(θ₂(t))⋅──(θ₂(t)) + θ₃(t)⋅cos(θ₁(t))⋅cos(θ₂(t))⋅──(θ₁(t)\n",
       "                              dt                                      dt      \n",
       "\n",
       "                          d        \n",
       ") + sin(θ₁(t))⋅cos(θ₂(t))⋅──(θ₃(t))\n",
       "                          dt       "
      ]
     },
     "execution_count": 3,
     "metadata": {},
     "output_type": "execute_result"
    }
   ],
   "source": [
    "y = theta3(t)*cos(theta2(t))*sin(theta1(t))\n",
    "y_dot = diff(y, t)\n",
    "y_dot"
   ]
  },
  {
   "cell_type": "code",
   "execution_count": 4,
   "metadata": {},
   "outputs": [
    {
     "data": {
      "image/png": "[encoded data removed]",
      "text/latex": [
       "$\\displaystyle θ_{3}{\\left(t \\right)} \\cos{\\left(θ_{2}{\\left(t \\right)} \\right)} \\frac{d}{d t} θ_{2}{\\left(t \\right)} + \\sin{\\left(θ_{2}{\\left(t \\right)} \\right)} \\frac{d}{d t} θ_{3}{\\left(t \\right)}$"
      ],
      "text/plain": [
       "                 d                      d        \n",
       "θ₃(t)⋅cos(θ₂(t))⋅──(θ₂(t)) + sin(θ₂(t))⋅──(θ₃(t))\n",
       "                 dt                     dt       "
      ]
     },
     "execution_count": 4,
     "metadata": {},
     "output_type": "execute_result"
    }
   ],
   "source": [
    "z = theta3(t)*sin(theta2(t))\n",
    "z_dot = diff(z, t)\n",
    "z_dot"
   ]
  },
  {
   "cell_type": "code",
   "execution_count": 5,
   "metadata": {},
   "outputs": [
    {
     "data": {
      "image/png": "[encoded data removed]",
      "text/latex": [
       "$\\displaystyle 0.5 m \\left(θ_{3}^{2}{\\left(t \\right)} \\cos^{2}{\\left(θ_{2}{\\left(t \\right)} \\right)} \\left(\\frac{d}{d t} θ_{1}{\\left(t \\right)}\\right)^{2} + θ_{3}^{2}{\\left(t \\right)} \\left(\\frac{d}{d t} θ_{2}{\\left(t \\right)}\\right)^{2} + \\left(\\frac{d}{d t} θ_{3}{\\left(t \\right)}\\right)^{2}\\right)$"
      ],
      "text/plain": [
       "      ⎛                              2                     2              2⎞\n",
       "      ⎜  2       2        ⎛d        ⎞      2    ⎛d        ⎞    ⎛d        ⎞ ⎟\n",
       "0.5⋅m⋅⎜θ₃ (t)⋅cos (θ₂(t))⋅⎜──(θ₁(t))⎟  + θ₃ (t)⋅⎜──(θ₂(t))⎟  + ⎜──(θ₃(t))⎟ ⎟\n",
       "      ⎝                   ⎝dt       ⎠           ⎝dt       ⎠    ⎝dt       ⎠ ⎠"
      ]
     },
     "execution_count": 5,
     "metadata": {},
     "output_type": "execute_result"
    }
   ],
   "source": [
    "m = symbols('m')\n",
    "K = 1/2*m*(x_dot**2 + y_dot**2 + z_dot**2)\n",
    "K = simplify(K)\n",
    "K"
   ]
  },
  {
   "cell_type": "code",
   "execution_count": 6,
   "metadata": {},
   "outputs": [
    {
     "data": {
      "image/png": "[encoded data removed]",
      "text/latex": [
       "$\\displaystyle 0.5 m \\left(θ_{3}^{2}{\\left(t \\right)} \\cos^{2}{\\left(θ_{2}{\\left(t \\right)} \\right)} \\left(\\frac{d}{d t} θ_{1}{\\left(t \\right)}\\right)^{2} + θ_{3}^{2}{\\left(t \\right)} \\left(\\frac{d}{d t} θ_{2}{\\left(t \\right)}\\right)^{2} + \\left(\\frac{d}{d t} θ_{3}{\\left(t \\right)}\\right)^{2}\\right) - 9.8 m θ_{3}{\\left(t \\right)} \\sin{\\left(θ_{2}{\\left(t \\right)} \\right)}$"
      ],
      "text/plain": [
       "      ⎛                              2                     2              2⎞  \n",
       "      ⎜  2       2        ⎛d        ⎞      2    ⎛d        ⎞    ⎛d        ⎞ ⎟  \n",
       "0.5⋅m⋅⎜θ₃ (t)⋅cos (θ₂(t))⋅⎜──(θ₁(t))⎟  + θ₃ (t)⋅⎜──(θ₂(t))⎟  + ⎜──(θ₃(t))⎟ ⎟ -\n",
       "      ⎝                   ⎝dt       ⎠           ⎝dt       ⎠    ⎝dt       ⎠ ⎠  \n",
       "\n",
       "                       \n",
       "                       \n",
       " 9.8⋅m⋅θ₃(t)⋅sin(θ₂(t))\n",
       "                       "
      ]
     },
     "execution_count": 6,
     "metadata": {},
     "output_type": "execute_result"
    }
   ],
   "source": [
    "g = 98/10\n",
    "P = m*g*z\n",
    "L = K - P\n",
    "L"
   ]
  },
  {
   "cell_type": "code",
   "execution_count": 7,
   "metadata": {},
   "outputs": [
    {
     "data": {
      "text/latex": [
       "$\\displaystyle \\left[\\begin{matrix}θ_{3}^{2}{\\left(t \\right)} \\cos^{2}{\\left(θ_{2}{\\left(t \\right)} \\right)} \\left(\\frac{d}{d t} θ_{1}{\\left(t \\right)}\\right)^{2} + θ_{3}^{2}{\\left(t \\right)} \\left(\\frac{d}{d t} θ_{2}{\\left(t \\right)}\\right)^{2} + \\left(\\frac{d}{d t} θ_{3}{\\left(t \\right)}\\right)^{2}\\end{matrix}\\right]$"
      ],
      "text/plain": [
       "⎡                              2                     2              2⎤\n",
       "⎢  2       2        ⎛d        ⎞      2    ⎛d        ⎞    ⎛d        ⎞ ⎥\n",
       "⎢θ₃ (t)⋅cos (θ₂(t))⋅⎜──(θ₁(t))⎟  + θ₃ (t)⋅⎜──(θ₂(t))⎟  + ⎜──(θ₃(t))⎟ ⎥\n",
       "⎣                   ⎝dt       ⎠           ⎝dt       ⎠    ⎝dt       ⎠ ⎦"
      ]
     },
     "execution_count": 7,
     "metadata": {},
     "output_type": "execute_result"
    }
   ],
   "source": [
    "from sympy.matrices import Matrix\n",
    "J_s = Matrix([\n",
    "    [0, sin(theta1(t)), 0],\n",
    "    [0, -cos(theta1(t)), 0],\n",
    "    [1, 0, 0],\n",
    "    [0, 0, cos(theta2(t))*cos(theta1(t))],\n",
    "    [0, 0, cos(theta2(t))*sin(theta1(t))],\n",
    "    [0, 0, sin(theta2(t))]\n",
    "]);J_s\n",
    "\n",
    "J = Matrix([\n",
    "    [diff(x, theta1(t)), diff(x, theta2(t)), diff(x, theta3(t))],\n",
    "    [diff(y, theta1(t)), diff(y, theta2(t)), diff(y, theta3(t))],\n",
    "    [diff(z, theta1(t)), diff(z, theta2(t)), diff(z, theta3(t))],\n",
    "]);J\n",
    "\n",
    "theta_dot = Matrix([\n",
    "    [diff(theta1(t), t)],\n",
    "    [diff(theta2(t), t)],\n",
    "    [diff(theta3(t), t)],\n",
    "]);theta_dot\n",
    "\n",
    "v_sq = (J@theta_dot).T@(J@theta_dot)\n",
    "simplify(v_sq)"
   ]
  },
  {
   "cell_type": "code",
   "execution_count": 17,
   "metadata": {},
   "outputs": [
    {
     "data": {
      "text/latex": [
       "$\\displaystyle \\left[\\begin{matrix}θ_{3}^{2}{\\left(t \\right)} \\sin^{2}{\\left(θ_{1}{\\left(t \\right)} \\right)} \\cos^{2}{\\left(θ_{2}{\\left(t \\right)} \\right)} + θ_{3}^{2}{\\left(t \\right)} \\cos^{2}{\\left(θ_{1}{\\left(t \\right)} \\right)} \\cos^{2}{\\left(θ_{2}{\\left(t \\right)} \\right)} & 0 & 0\\\\0 & θ_{3}^{2}{\\left(t \\right)} \\sin^{2}{\\left(θ_{1}{\\left(t \\right)} \\right)} \\sin^{2}{\\left(θ_{2}{\\left(t \\right)} \\right)} + θ_{3}^{2}{\\left(t \\right)} \\sin^{2}{\\left(θ_{2}{\\left(t \\right)} \\right)} \\cos^{2}{\\left(θ_{1}{\\left(t \\right)} \\right)} + θ_{3}^{2}{\\left(t \\right)} \\cos^{2}{\\left(θ_{2}{\\left(t \\right)} \\right)} & - θ_{3}{\\left(t \\right)} \\sin^{2}{\\left(θ_{1}{\\left(t \\right)} \\right)} \\sin{\\left(θ_{2}{\\left(t \\right)} \\right)} \\cos{\\left(θ_{2}{\\left(t \\right)} \\right)} - θ_{3}{\\left(t \\right)} \\sin{\\left(θ_{2}{\\left(t \\right)} \\right)} \\cos^{2}{\\left(θ_{1}{\\left(t \\right)} \\right)} \\cos{\\left(θ_{2}{\\left(t \\right)} \\right)} + θ_{3}{\\left(t \\right)} \\sin{\\left(θ_{2}{\\left(t \\right)} \\right)} \\cos{\\left(θ_{2}{\\left(t \\right)} \\right)}\\\\0 & - θ_{3}{\\left(t \\right)} \\sin^{2}{\\left(θ_{1}{\\left(t \\right)} \\right)} \\sin{\\left(θ_{2}{\\left(t \\right)} \\right)} \\cos{\\left(θ_{2}{\\left(t \\right)} \\right)} - θ_{3}{\\left(t \\right)} \\sin{\\left(θ_{2}{\\left(t \\right)} \\right)} \\cos^{2}{\\left(θ_{1}{\\left(t \\right)} \\right)} \\cos{\\left(θ_{2}{\\left(t \\right)} \\right)} + θ_{3}{\\left(t \\right)} \\sin{\\left(θ_{2}{\\left(t \\right)} \\right)} \\cos{\\left(θ_{2}{\\left(t \\right)} \\right)} & \\sin^{2}{\\left(θ_{1}{\\left(t \\right)} \\right)} \\cos^{2}{\\left(θ_{2}{\\left(t \\right)} \\right)} + \\sin^{2}{\\left(θ_{2}{\\left(t \\right)} \\right)} + \\cos^{2}{\\left(θ_{1}{\\left(t \\right)} \\right)} \\cos^{2}{\\left(θ_{2}{\\left(t \\right)} \\right)}\\end{matrix}\\right]$"
      ],
      "text/plain": [
       "⎡  2       2           2            2       2           2                     \n",
       "⎢θ₃ (t)⋅sin (θ₁(t))⋅cos (θ₂(t)) + θ₃ (t)⋅cos (θ₁(t))⋅cos (θ₂(t))              \n",
       "⎢                                                                             \n",
       "⎢                                                                             \n",
       "⎢                               0                                             \n",
       "⎢                                                                             \n",
       "⎢                                                                            2\n",
       "⎣                               0                                 - θ₃(t)⋅sin \n",
       "\n",
       "                                                                              \n",
       "                                            0                                 \n",
       "                                                                              \n",
       "    2       2           2            2       2           2            2       \n",
       "  θ₃ (t)⋅sin (θ₁(t))⋅sin (θ₂(t)) + θ₃ (t)⋅sin (θ₂(t))⋅cos (θ₁(t)) + θ₃ (t)⋅cos\n",
       "                                                                              \n",
       "                                                    2                         \n",
       "(θ₁(t))⋅sin(θ₂(t))⋅cos(θ₂(t)) - θ₃(t)⋅sin(θ₂(t))⋅cos (θ₁(t))⋅cos(θ₂(t)) + θ₃(t\n",
       "\n",
       "                                                                              \n",
       "                                                                              \n",
       "                                                                              \n",
       "2                                   2                                         \n",
       " (θ₂(t))                 - θ₃(t)⋅sin (θ₁(t))⋅sin(θ₂(t))⋅cos(θ₂(t)) - θ₃(t)⋅sin\n",
       "                                                                              \n",
       "                                                     2           2            \n",
       ")⋅sin(θ₂(t))⋅cos(θ₂(t))                           sin (θ₁(t))⋅cos (θ₂(t)) + si\n",
       "\n",
       "                                                            ⎤\n",
       "   0                                                        ⎥\n",
       "                                                            ⎥\n",
       "           2                                                ⎥\n",
       "(θ₂(t))⋅cos (θ₁(t))⋅cos(θ₂(t)) + θ₃(t)⋅sin(θ₂(t))⋅cos(θ₂(t))⎥\n",
       "                                                            ⎥\n",
       " 2             2           2                                ⎥\n",
       "n (θ₂(t)) + cos (θ₁(t))⋅cos (θ₂(t))                         ⎦"
      ]
     },
     "execution_count": 17,
     "metadata": {},
     "output_type": "execute_result"
    }
   ],
   "source": [
    "J.T@J"
   ]
  },
  {
   "cell_type": "code",
   "execution_count": 8,
   "metadata": {},
   "outputs": [
    {
     "data": {
      "text/latex": [
       "$\\displaystyle \\left[\\begin{matrix}m \\left(- 1.0 θ_{3}{\\left(t \\right)} \\sin{\\left(2 θ_{2}{\\left(t \\right)} \\right)} \\frac{d}{d t} θ_{1}{\\left(t \\right)} \\frac{d}{d t} θ_{2}{\\left(t \\right)} + 0.5 θ_{3}{\\left(t \\right)} \\cos{\\left(2 θ_{2}{\\left(t \\right)} \\right)} \\frac{d^{2}}{d t^{2}} θ_{1}{\\left(t \\right)} + 0.5 θ_{3}{\\left(t \\right)} \\frac{d^{2}}{d t^{2}} θ_{1}{\\left(t \\right)} + \\cos{\\left(2 θ_{2}{\\left(t \\right)} \\right)} \\frac{d}{d t} θ_{1}{\\left(t \\right)} \\frac{d}{d t} θ_{3}{\\left(t \\right)} + \\frac{d}{d t} θ_{1}{\\left(t \\right)} \\frac{d}{d t} θ_{3}{\\left(t \\right)}\\right) θ_{3}{\\left(t \\right)}\\\\m \\left(1.0 θ_{3}{\\left(t \\right)} \\frac{d^{2}}{d t^{2}} θ_{2}{\\left(t \\right)} + 2.0 \\frac{d}{d t} θ_{2}{\\left(t \\right)} \\frac{d}{d t} θ_{3}{\\left(t \\right)}\\right) θ_{3}{\\left(t \\right)}\\\\1.0 m \\frac{d^{2}}{d t^{2}} θ_{3}{\\left(t \\right)}\\end{matrix}\\right]$"
      ],
      "text/plain": [
       "⎡  ⎛                                                                    2     \n",
       "⎢  ⎜                     d         d                                   d      \n",
       "⎢m⋅⎜- θ₃(t)⋅sin(2⋅θ₂(t))⋅──(θ₁(t))⋅──(θ₂(t)) + 0.5⋅θ₃(t)⋅cos(2⋅θ₂(t))⋅───(θ₁(t\n",
       "⎢  ⎜                     dt        dt                                   2     \n",
       "⎢  ⎝                                                                  dt      \n",
       "⎢                                                                             \n",
       "⎢                                                         ⎛            2      \n",
       "⎢                                                         ⎜           d       \n",
       "⎢                                                       m⋅⎜1.0⋅θ₃(t)⋅───(θ₂(t)\n",
       "⎢                                                         ⎜            2      \n",
       "⎢                                                         ⎝          dt       \n",
       "⎢                                                                             \n",
       "⎢                                                                             \n",
       "⎢                                                                             \n",
       "⎢                                                                           1.\n",
       "⎢                                                                             \n",
       "⎣                                                                             \n",
       "\n",
       "                 2                                                            \n",
       "                d                        d         d           d         d    \n",
       ")) + 0.5⋅θ₃(t)⋅───(θ₁(t)) + cos(2⋅θ₂(t))⋅──(θ₁(t))⋅──(θ₃(t)) + ──(θ₁(t))⋅──(θ₃\n",
       "                 2                       dt        dt          dt        dt   \n",
       "               dt                                                             \n",
       "                                                                              \n",
       "                           ⎞                                                  \n",
       "        d         d        ⎟                                                  \n",
       ") + 2.0⋅──(θ₂(t))⋅──(θ₃(t))⎟⋅θ₃(t)                                            \n",
       "        dt        dt       ⎟                                                  \n",
       "                           ⎠                                                  \n",
       "                                                                              \n",
       "      2                                                                       \n",
       "     d                                                                        \n",
       "0⋅m⋅───(θ₃(t))                                                                \n",
       "      2                                                                       \n",
       "    dt                                                                        \n",
       "\n",
       "    ⎞      ⎤\n",
       "    ⎟      ⎥\n",
       "(t))⎟⋅θ₃(t)⎥\n",
       "    ⎟      ⎥\n",
       "    ⎠      ⎥\n",
       "           ⎥\n",
       "           ⎥\n",
       "           ⎥\n",
       "           ⎥\n",
       "           ⎥\n",
       "           ⎥\n",
       "           ⎥\n",
       "           ⎥\n",
       "           ⎥\n",
       "           ⎥\n",
       "           ⎥\n",
       "           ⎦"
      ]
     },
     "execution_count": 8,
     "metadata": {},
     "output_type": "execute_result"
    }
   ],
   "source": [
    "dLdtheta_dot = Matrix([\n",
    "    [diff(L, diff(theta1(t),t))],\n",
    "    [diff(L, diff(theta2(t),t))],\n",
    "    [diff(L, diff(theta3(t),t))],\n",
    "])\n",
    "simplify(diff(dLdtheta_dot,t))"
   ]
  },
  {
   "cell_type": "code",
   "execution_count": 9,
   "metadata": {},
   "outputs": [
    {
     "data": {
      "text/latex": [
       "$\\displaystyle \\left[\\begin{matrix}0\\\\- 1.0 m θ_{3}^{2}{\\left(t \\right)} \\sin{\\left(θ_{2}{\\left(t \\right)} \\right)} \\cos{\\left(θ_{2}{\\left(t \\right)} \\right)} \\left(\\frac{d}{d t} θ_{1}{\\left(t \\right)}\\right)^{2} - 9.8 m θ_{3}{\\left(t \\right)} \\cos{\\left(θ_{2}{\\left(t \\right)} \\right)}\\\\0.5 m \\left(2 θ_{3}{\\left(t \\right)} \\cos^{2}{\\left(θ_{2}{\\left(t \\right)} \\right)} \\left(\\frac{d}{d t} θ_{1}{\\left(t \\right)}\\right)^{2} + 2 θ_{3}{\\left(t \\right)} \\left(\\frac{d}{d t} θ_{2}{\\left(t \\right)}\\right)^{2}\\right) - 9.8 m \\sin{\\left(θ_{2}{\\left(t \\right)} \\right)}\\end{matrix}\\right]$"
      ],
      "text/plain": [
       "⎡                                        0                                    \n",
       "⎢                                                                             \n",
       "⎢                                                  2                          \n",
       "⎢            2                          ⎛d        ⎞                           \n",
       "⎢      - m⋅θ₃ (t)⋅sin(θ₂(t))⋅cos(θ₂(t))⋅⎜──(θ₁(t))⎟  - 9.8⋅m⋅θ₃(t)⋅cos(θ₂(t)) \n",
       "⎢                                       ⎝dt       ⎠                           \n",
       "⎢                                                                             \n",
       "⎢      ⎛                               2                      2⎞              \n",
       "⎢      ⎜           2        ⎛d        ⎞            ⎛d        ⎞ ⎟              \n",
       "⎢0.5⋅m⋅⎜2⋅θ₃(t)⋅cos (θ₂(t))⋅⎜──(θ₁(t))⎟  + 2⋅θ₃(t)⋅⎜──(θ₂(t))⎟ ⎟ - 9.8⋅m⋅sin(θ\n",
       "⎣      ⎝                    ⎝dt       ⎠            ⎝dt       ⎠ ⎠              \n",
       "\n",
       "     ⎤\n",
       "     ⎥\n",
       "     ⎥\n",
       "     ⎥\n",
       "     ⎥\n",
       "     ⎥\n",
       "     ⎥\n",
       "     ⎥\n",
       "     ⎥\n",
       "₂(t))⎥\n",
       "     ⎦"
      ]
     },
     "execution_count": 9,
     "metadata": {},
     "output_type": "execute_result"
    }
   ],
   "source": [
    "dLdtheta = Matrix([\n",
    "    [diff(L, theta1(t))],\n",
    "    [diff(L, theta2(t))],\n",
    "    [diff(L, theta3(t))],\n",
    "])\n",
    "(dLdtheta)"
   ]
  },
  {
   "cell_type": "code",
   "execution_count": 10,
   "metadata": {},
   "outputs": [
    {
     "data": {
      "image/png": "[encoded data removed]",
      "text/latex": [
       "$\\displaystyle 0.5 m \\left(θ_{3}^{2}{\\left(t \\right)} \\cos^{2}{\\left(θ_{2}{\\left(t \\right)} \\right)} \\left(\\frac{d}{d t} θ_{1}{\\left(t \\right)}\\right)^{2} + θ_{3}^{2}{\\left(t \\right)} \\left(\\frac{d}{d t} θ_{2}{\\left(t \\right)}\\right)^{2} + \\left(\\frac{d}{d t} θ_{3}{\\left(t \\right)}\\right)^{2}\\right) - 9.8 m θ_{3}{\\left(t \\right)} \\sin{\\left(θ_{2}{\\left(t \\right)} \\right)}$"
      ],
      "text/plain": [
       "      ⎛                              2                     2              2⎞  \n",
       "      ⎜  2       2        ⎛d        ⎞      2    ⎛d        ⎞    ⎛d        ⎞ ⎟  \n",
       "0.5⋅m⋅⎜θ₃ (t)⋅cos (θ₂(t))⋅⎜──(θ₁(t))⎟  + θ₃ (t)⋅⎜──(θ₂(t))⎟  + ⎜──(θ₃(t))⎟ ⎟ -\n",
       "      ⎝                   ⎝dt       ⎠           ⎝dt       ⎠    ⎝dt       ⎠ ⎠  \n",
       "\n",
       "                       \n",
       "                       \n",
       " 9.8⋅m⋅θ₃(t)⋅sin(θ₂(t))\n",
       "                       "
      ]
     },
     "execution_count": 10,
     "metadata": {},
     "output_type": "execute_result"
    }
   ],
   "source": [
    "L"
   ]
  },
  {
   "cell_type": "code",
   "execution_count": 11,
   "metadata": {},
   "outputs": [
    {
     "data": {
      "text/plain": [
       "2"
      ]
     },
     "execution_count": 11,
     "metadata": {},
     "output_type": "execute_result"
    }
   ],
   "source": [
    "J_a = np.array([\n",
    "    [-2, 0, 1],\n",
    "    [0, -1, 0],\n",
    "    [0, 1, 0]\n",
    "])\n",
    "np.linalg.matrix_rank(J_a)"
   ]
  },
  {
   "cell_type": "code",
   "execution_count": 12,
   "metadata": {},
   "outputs": [
    {
     "data": {
      "text/plain": [
       "2"
      ]
     },
     "execution_count": 12,
     "metadata": {},
     "output_type": "execute_result"
    }
   ],
   "source": [
    "J_a = np.array([\n",
    "    [-2, 0, 1],\n",
    "    [0, -1, 0],\n",
    "    [0, 1, 0]\n",
    "])\n",
    "np.linalg.matrix_rank(J_a)"
   ]
  },
  {
   "cell_type": "code",
   "execution_count": 13,
   "metadata": {},
   "outputs": [],
   "source": [
    "L_a = (-2*diff(theta1(t),t) + diff(theta3(t),t))**2 + 2*diff(theta2(t),t)**2-sin(theta2(t))\n"
   ]
  },
  {
   "cell_type": "code",
   "execution_count": 14,
   "metadata": {},
   "outputs": [
    {
     "data": {
      "text/latex": [
       "$\\displaystyle \\left[\\begin{matrix}8 \\frac{d^{2}}{d t^{2}} θ_{1}{\\left(t \\right)} - 4 \\frac{d^{2}}{d t^{2}} θ_{3}{\\left(t \\right)}\\\\4 \\frac{d^{2}}{d t^{2}} θ_{2}{\\left(t \\right)}\\\\- 4 \\frac{d^{2}}{d t^{2}} θ_{1}{\\left(t \\right)} + 2 \\frac{d^{2}}{d t^{2}} θ_{3}{\\left(t \\right)}\\end{matrix}\\right]$"
      ],
      "text/plain": [
       "⎡     2              2        ⎤\n",
       "⎢    d              d         ⎥\n",
       "⎢ 8⋅───(θ₁(t)) - 4⋅───(θ₃(t)) ⎥\n",
       "⎢     2              2        ⎥\n",
       "⎢   dt             dt         ⎥\n",
       "⎢                             ⎥\n",
       "⎢            2                ⎥\n",
       "⎢           d                 ⎥\n",
       "⎢        4⋅───(θ₂(t))         ⎥\n",
       "⎢            2                ⎥\n",
       "⎢          dt                 ⎥\n",
       "⎢                             ⎥\n",
       "⎢      2              2       ⎥\n",
       "⎢     d              d        ⎥\n",
       "⎢- 4⋅───(θ₁(t)) + 2⋅───(θ₃(t))⎥\n",
       "⎢      2              2       ⎥\n",
       "⎣    dt             dt        ⎦"
      ]
     },
     "execution_count": 14,
     "metadata": {},
     "output_type": "execute_result"
    }
   ],
   "source": [
    "dL_adtheta_dot = Matrix([\n",
    "    [diff(L_a, diff(theta1(t),t))],\n",
    "    [diff(L_a, diff(theta2(t),t))],\n",
    "    [diff(L_a, diff(theta3(t),t))],\n",
    "])\n",
    "simplify(diff(dL_adtheta_dot,t))"
   ]
  },
  {
   "cell_type": "code",
   "execution_count": 15,
   "metadata": {},
   "outputs": [
    {
     "data": {
      "text/latex": [
       "$\\displaystyle \\left[\\begin{matrix}0\\\\- 1.0 m θ_{3}^{2}{\\left(t \\right)} \\sin{\\left(θ_{2}{\\left(t \\right)} \\right)} \\cos{\\left(θ_{2}{\\left(t \\right)} \\right)} \\left(\\frac{d}{d t} θ_{1}{\\left(t \\right)}\\right)^{2} - 9.8 m θ_{3}{\\left(t \\right)} \\cos{\\left(θ_{2}{\\left(t \\right)} \\right)}\\\\0.5 m \\left(2 θ_{3}{\\left(t \\right)} \\cos^{2}{\\left(θ_{2}{\\left(t \\right)} \\right)} \\left(\\frac{d}{d t} θ_{1}{\\left(t \\right)}\\right)^{2} + 2 θ_{3}{\\left(t \\right)} \\left(\\frac{d}{d t} θ_{2}{\\left(t \\right)}\\right)^{2}\\right) - 9.8 m \\sin{\\left(θ_{2}{\\left(t \\right)} \\right)}\\end{matrix}\\right]$"
      ],
      "text/plain": [
       "⎡                                        0                                    \n",
       "⎢                                                                             \n",
       "⎢                                                  2                          \n",
       "⎢            2                          ⎛d        ⎞                           \n",
       "⎢      - m⋅θ₃ (t)⋅sin(θ₂(t))⋅cos(θ₂(t))⋅⎜──(θ₁(t))⎟  - 9.8⋅m⋅θ₃(t)⋅cos(θ₂(t)) \n",
       "⎢                                       ⎝dt       ⎠                           \n",
       "⎢                                                                             \n",
       "⎢      ⎛                               2                      2⎞              \n",
       "⎢      ⎜           2        ⎛d        ⎞            ⎛d        ⎞ ⎟              \n",
       "⎢0.5⋅m⋅⎜2⋅θ₃(t)⋅cos (θ₂(t))⋅⎜──(θ₁(t))⎟  + 2⋅θ₃(t)⋅⎜──(θ₂(t))⎟ ⎟ - 9.8⋅m⋅sin(θ\n",
       "⎣      ⎝                    ⎝dt       ⎠            ⎝dt       ⎠ ⎠              \n",
       "\n",
       "     ⎤\n",
       "     ⎥\n",
       "     ⎥\n",
       "     ⎥\n",
       "     ⎥\n",
       "     ⎥\n",
       "     ⎥\n",
       "     ⎥\n",
       "     ⎥\n",
       "₂(t))⎥\n",
       "     ⎦"
      ]
     },
     "execution_count": 15,
     "metadata": {},
     "output_type": "execute_result"
    }
   ],
   "source": [
    "dLdtheta = Matrix([\n",
    "    [diff(L, theta1(t))],\n",
    "    [diff(L, theta2(t))],\n",
    "    [diff(L, theta3(t))],\n",
    "])\n",
    "(dLdtheta)"
   ]
  },
  {
   "cell_type": "code",
   "execution_count": 16,
   "metadata": {},
   "outputs": [
    {
     "data": {
      "text/latex": [
       "$\\displaystyle \\left[\\begin{matrix}m \\frac{d^{2}}{d t^{2}} θ_{1}{\\left(t \\right)}\\\\m \\left(\\frac{d^{2}}{d t^{2}} θ_{2}{\\left(t \\right)} - \\frac{d^{2}}{d t^{2}} θ_{3}{\\left(t \\right)}\\right)\\\\m \\left(- \\frac{d^{2}}{d t^{2}} θ_{2}{\\left(t \\right)} + \\frac{d^{2}}{d t^{2}} θ_{3}{\\left(t \\right)}\\right)\\end{matrix}\\right]$"
      ],
      "text/plain": [
       "⎡            2                ⎤\n",
       "⎢           d                 ⎥\n",
       "⎢        m⋅───(θ₁(t))         ⎥\n",
       "⎢            2                ⎥\n",
       "⎢          dt                 ⎥\n",
       "⎢                             ⎥\n",
       "⎢   ⎛  2            2       ⎞ ⎥\n",
       "⎢   ⎜ d            d        ⎟ ⎥\n",
       "⎢ m⋅⎜───(θ₂(t)) - ───(θ₃(t))⎟ ⎥\n",
       "⎢   ⎜  2            2       ⎟ ⎥\n",
       "⎢   ⎝dt           dt        ⎠ ⎥\n",
       "⎢                             ⎥\n",
       "⎢  ⎛    2            2       ⎞⎥\n",
       "⎢  ⎜   d            d        ⎟⎥\n",
       "⎢m⋅⎜- ───(θ₂(t)) + ───(θ₃(t))⎟⎥\n",
       "⎢  ⎜    2            2       ⎟⎥\n",
       "⎣  ⎝  dt           dt        ⎠⎦"
      ]
     },
     "execution_count": 16,
     "metadata": {},
     "output_type": "execute_result"
    }
   ],
   "source": [
    "L_b = m/2 * (diff(theta1(t),t)**2 + (diff(theta3(t),t)-diff(theta2(t),t))**2)\n",
    "\n",
    "dL_bdtheta_dot = Matrix([\n",
    "    [diff(L_b, diff(theta1(t),t))],\n",
    "    [diff(L_b, diff(theta2(t),t))],\n",
    "    [diff(L_b, diff(theta3(t),t))],\n",
    "])\n",
    "simplify(diff(dL_bdtheta_dot,t))"
   ]
  }
 ],
 "metadata": {
  "kernelspec": {
   "display_name": "Python 3.10.6 64-bit",
   "language": "python",
   "name": "python3"
  },
  "language_info": {
   "codemirror_mode": {
    "name": "ipython",
    "version": 3
   },
   "file_extension": ".py",
   "mimetype": "text/x-python",
   "name": "python",
   "nbconvert_exporter": "python",
   "pygments_lexer": "ipython3",
   "version": "3.10.6"
  },
  "orig_nbformat": 4,
  "vscode": {
   "interpreter": {
    "hash": "aee8b7b246df8f9039afb4144a1f6fd8d2ca17a180786b69acc140d282b71a49"
   }
  }
 },
 "nbformat": 4,
 "nbformat_minor": 2
}
