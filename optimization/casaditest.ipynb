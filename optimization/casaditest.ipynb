{
 "cells": [
  {
   "cell_type": "code",
   "execution_count": 3,
   "metadata": {},
   "outputs": [],
   "source": [
    "from casadi import *"
   ]
  },
  {
   "cell_type": "code",
   "execution_count": 74,
   "metadata": {},
   "outputs": [
    {
     "name": "stdout",
     "output_type": "stream",
     "text": [
      "f:(p,q,r)->(x,y,z) SXFunction\n",
      "f_jac:(p,q,r)->(jac_x_p,x,y,z) SXFunction\n"
     ]
    }
   ],
   "source": [
    "p = SX.sym('p')\n",
    "q = SX.sym('q')\n",
    "r = SX.sym('r')\n",
    "f = Function('f',\n",
    "    [p, q, r],\n",
    "    [\n",
    "        1*p+2*sin(q)+3*cos(r),\n",
    "        2*p+3*sin(q)+2*cos(r),\n",
    "        3*p+1*sin(q)+1*cos(r)\n",
    "    ],\n",
    "    ['p', 'q', 'r'],\n",
    "    ['x', 'y', 'z']\n",
    ")\n",
    "\n",
    "jac = f.jacobian_old(0, 0)\n",
    "\n",
    "print(f)\n",
    "print(jac)"
   ]
  },
  {
   "cell_type": "code",
   "execution_count": 72,
   "metadata": {},
   "outputs": [
    {
     "data": {
      "text/plain": [
       "Function(f_jac:(p,q,r)->(jac_x_p,x,y,z) SXFunction)"
      ]
     },
     "metadata": {},
     "output_type": "display_data"
    }
   ],
   "source": [
    "display(jac)"
   ]
  },
  {
   "cell_type": "code",
   "execution_count": 52,
   "metadata": {},
   "outputs": [
    {
     "name": "stdout",
     "output_type": "stream",
     "text": [
      "jac_eval: \n",
      "[[1, -1.97998, -0.42336], \n",
      " [2, -2.96998, -0.28224], \n",
      " [3, -0.989992, -0.14112]]\n",
      "[[ 1.         -1.97998499 -0.42336002]\n",
      " [ 2.         -2.96997749 -0.28224002]\n",
      " [ 3.         -0.9899925  -0.14112001]]\n"
     ]
    }
   ],
   "source": [
    "jac_eval = jac(2, 3, 3, 2, 3, 4)\n",
    "print('jac_eval:', jac_eval)\n",
    "\n",
    "print(np.array(jac(2, 3, 3, 2, 3, 4)))\n"
   ]
  },
  {
   "cell_type": "code",
   "execution_count": 51,
   "metadata": {},
   "outputs": [
    {
     "data": {
      "text/plain": [
       "Function(f:(p,q,r)->(x,y,z) SXFunction)"
      ]
     },
     "metadata": {},
     "output_type": "display_data"
    }
   ],
   "source": [
    "display(f)"
   ]
  },
  {
   "cell_type": "code",
   "execution_count": 67,
   "metadata": {},
   "outputs": [
    {
     "ename": "NotImplementedError",
     "evalue": "Wrong number or type of arguments for function 'Function_jacobian_old'.\n  Prototype:\njacobian_old(self,int,int)\n  You have: \n",
     "output_type": "error",
     "traceback": [
      "\u001b[0;31m---------------------------------------------------------------------------\u001b[0m",
      "\u001b[0;31mNotImplementedError\u001b[0m                       Traceback (most recent call last)",
      "\u001b[1;32m/Users/chris/VScode/pythontests/optimization/casaditest.ipynb Cell 5\u001b[0m in \u001b[0;36m<module>\u001b[0;34m\u001b[0m\n\u001b[1;32m      <a href='vscode-notebook-cell:/Users/chris/VScode/pythontests/optimization/casaditest.ipynb#ch0000003?line=7'>8</a>\u001b[0m p[\u001b[39m0\u001b[39m,\u001b[39m0\u001b[39m] \u001b[39m=\u001b[39m \u001b[39m1\u001b[39m \u001b[39m-\u001b[39m p[\u001b[39m1\u001b[39m,\u001b[39m0\u001b[39m]\n\u001b[1;32m     <a href='vscode-notebook-cell:/Users/chris/VScode/pythontests/optimization/casaditest.ipynb#ch0000003?line=9'>10</a>\u001b[0m f \u001b[39m=\u001b[39m Function(\u001b[39m'\u001b[39m\u001b[39mf\u001b[39m\u001b[39m'\u001b[39m,\n\u001b[1;32m     <a href='vscode-notebook-cell:/Users/chris/VScode/pythontests/optimization/casaditest.ipynb#ch0000003?line=10'>11</a>\u001b[0m     [t,d],\n\u001b[1;32m     <a href='vscode-notebook-cell:/Users/chris/VScode/pythontests/optimization/casaditest.ipynb#ch0000003?line=11'>12</a>\u001b[0m     [p]\n\u001b[1;32m     <a href='vscode-notebook-cell:/Users/chris/VScode/pythontests/optimization/casaditest.ipynb#ch0000003?line=12'>13</a>\u001b[0m )\n\u001b[0;32m---> <a href='vscode-notebook-cell:/Users/chris/VScode/pythontests/optimization/casaditest.ipynb#ch0000003?line=14'>15</a>\u001b[0m f\u001b[39m.\u001b[39;49mjacobian_old()\n",
      "File \u001b[0;32m/usr/local/lib/python3.9/site-packages/casadi/casadi.py:12193\u001b[0m, in \u001b[0;36mFunction.jacobian_old\u001b[0;34m(self, *args)\u001b[0m\n\u001b[1;32m  12173\u001b[0m \u001b[39mdef\u001b[39;00m \u001b[39mjacobian_old\u001b[39m(\u001b[39mself\u001b[39m, \u001b[39m*\u001b[39margs) \u001b[39m-\u001b[39m\u001b[39m>\u001b[39m \u001b[39m\"\u001b[39m\u001b[39mcasadi::Function\u001b[39m\u001b[39m\"\u001b[39m:\n\u001b[1;32m  12174\u001b[0m     \u001b[39m\"\"\"\u001b[39;00m\n\u001b[1;32m  12175\u001b[0m \u001b[39m      Generate a Jacobian function of output oind with respect to input iind.\u001b[39;00m\n\u001b[1;32m  12176\u001b[0m \n\u001b[0;32m   (...)\u001b[0m\n\u001b[1;32m  12191\u001b[0m \n\u001b[1;32m  12192\u001b[0m \u001b[39m    \"\"\"\u001b[39;00m\n\u001b[0;32m> 12193\u001b[0m     \u001b[39mreturn\u001b[39;00m _casadi\u001b[39m.\u001b[39;49mFunction_jacobian_old(\u001b[39mself\u001b[39;49m, \u001b[39m*\u001b[39;49margs)\n",
      "\u001b[0;31mNotImplementedError\u001b[0m: Wrong number or type of arguments for function 'Function_jacobian_old'.\n  Prototype:\njacobian_old(self,int,int)\n  You have: \n"
     ]
    }
   ],
   "source": [
    "t = SX.sym(\"t\")\n",
    "d = SX.sym(\"d\")\n",
    "\n",
    "p = SX.zeros(2,1)\n",
    "\n",
    "p[1,0] = 1/(1+exp(-(t-d)))\n",
    "\n",
    "p[0,0] = 1 - p[1,0]\n",
    "\n",
    "f = Function('f',\n",
    "    [t,d],\n",
    "    [p]\n",
    ")\n",
    "\n",
    "f.jacobian_old()"
   ]
  },
  {
   "cell_type": "code",
   "execution_count": 77,
   "metadata": {},
   "outputs": [
    {
     "data": {
      "text/plain": [
       "SX(((((((((((sq((x*sq(x)))/y)*(y*sq(y)))/x)/x)/x)/x)/y)/y)/x)/x))"
      ]
     },
     "execution_count": 77,
     "metadata": {},
     "output_type": "execute_result"
    }
   ],
   "source": [
    "x = SX.sym('x')\n",
    "y = SX.sym('y')\n",
    "x**6/y*y**3/x/x/x/x/y/y/x/x"
   ]
  }
 ],
 "metadata": {
  "kernelspec": {
   "display_name": "Python 3.9.13 64-bit",
   "language": "python",
   "name": "python3"
  },
  "language_info": {
   "codemirror_mode": {
    "name": "ipython",
    "version": 3
   },
   "file_extension": ".py",
   "mimetype": "text/x-python",
   "name": "python",
   "nbconvert_exporter": "python",
   "pygments_lexer": "ipython3",
   "version": "3.9.13"
  },
  "orig_nbformat": 4,
  "vscode": {
   "interpreter": {
    "hash": "aee8b7b246df8f9039afb4144a1f6fd8d2ca17a180786b69acc140d282b71a49"
   }
  }
 },
 "nbformat": 4,
 "nbformat_minor": 2
}
