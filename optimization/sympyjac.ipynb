{
 "cells": [
  {
   "cell_type": "code",
   "execution_count": 1,
   "metadata": {},
   "outputs": [
    {
     "data": {
      "text/latex": [
       "$\\displaystyle \\left[\\begin{matrix}1 & 2 \\cos{\\left(q \\right)} & - 3 \\sin{\\left(r \\right)}\\\\2 & 3 \\cos{\\left(q \\right)} & - 2 \\sin{\\left(r \\right)}\\\\3 & \\cos{\\left(q \\right)} & - \\sin{\\left(r \\right)}\\end{matrix}\\right]$"
      ],
      "text/plain": [
       "Matrix([\n",
       "[1, 2*cos(q), -3*sin(r)],\n",
       "[2, 3*cos(q), -2*sin(r)],\n",
       "[3,   cos(q),   -sin(r)]])"
      ]
     },
     "execution_count": 1,
     "metadata": {},
     "output_type": "execute_result"
    }
   ],
   "source": [
    "from sympy import sin, cos, Matrix\n",
    "from sympy.abc import p, q, r\n",
    "\n",
    "A = Matrix([\n",
    "    1*p+2*sin(q)+3*cos(r),\n",
    "    2*p+3*sin(q)+2*cos(r),\n",
    "    3*p+1*sin(q)+1*cos(r)\n",
    "])\n",
    "\n",
    "state = Matrix([p, q, r])\n",
    "\n",
    "A.jacobian(state)\n"
   ]
  }
 ],
 "metadata": {
  "kernelspec": {
   "display_name": "Python 3.9.13 64-bit",
   "language": "python",
   "name": "python3"
  },
  "language_info": {
   "codemirror_mode": {
    "name": "ipython",
    "version": 3
   },
   "file_extension": ".py",
   "mimetype": "text/x-python",
   "name": "python",
   "nbconvert_exporter": "python",
   "pygments_lexer": "ipython3",
   "version": "3.9.13"
  },
  "orig_nbformat": 4,
  "vscode": {
   "interpreter": {
    "hash": "aee8b7b246df8f9039afb4144a1f6fd8d2ca17a180786b69acc140d282b71a49"
   }
  }
 },
 "nbformat": 4,
 "nbformat_minor": 2
}
