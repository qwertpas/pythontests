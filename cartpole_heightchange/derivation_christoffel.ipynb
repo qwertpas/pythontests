{
 "cells": [
  {
   "cell_type": "code",
   "execution_count": 8,
   "metadata": {},
   "outputs": [
    {
     "name": "stdout",
     "output_type": "stream",
     "text": [
      "M=\n"
     ]
    },
    {
     "data": {
      "text/latex": [
       "$\\displaystyle \\left[\\begin{matrix}m_{b} + m_{w} & m_{b} \\sin{\\left(\\theta \\right)} & L m_{b} \\cos{\\left(\\theta \\right)}\\\\m_{b} \\sin{\\left(\\theta \\right)} & m_{b} & 0\\\\L m_{b} \\cos{\\left(\\theta \\right)} & 0 & L^{2} m_{b}\\end{matrix}\\right]$"
      ],
      "text/plain": [
       "Matrix([\n",
       "[       m_b + m_w, m_b*sin(theta), L*m_b*cos(theta)],\n",
       "[  m_b*sin(theta),            m_b,                0],\n",
       "[L*m_b*cos(theta),              0,         L**2*m_b]])"
      ]
     },
     "metadata": {},
     "output_type": "display_data"
    },
    {
     "name": "stdout",
     "output_type": "stream",
     "text": [
      "C*q_dot=\n"
     ]
    },
    {
     "data": {
      "text/latex": [
       "$\\displaystyle \\left[\\begin{matrix}\\dot{θ} m_{b} \\left(- L \\dot{θ} \\sin{\\left(\\theta \\right)} + 2 \\dot{L} \\cos{\\left(\\theta \\right)}\\right)\\\\- L \\dot{θ}^{2} m_{b}\\\\2 L \\dot{L} \\dot{θ} m_{b}\\end{matrix}\\right]$"
      ],
      "text/plain": [
       "Matrix([\n",
       "[\\dot{θ}*m_b*(-L*\\dot{θ}*sin(theta) + 2*\\dot{L}*cos(theta))],\n",
       "[                                         -L*\\dot{θ}**2*m_b],\n",
       "[                                   2*L*\\dot{L}*\\dot{θ}*m_b]])"
      ]
     },
     "metadata": {},
     "output_type": "display_data"
    },
    {
     "name": "stdout",
     "output_type": "stream",
     "text": [
      "G=\n"
     ]
    },
    {
     "data": {
      "text/latex": [
       "$\\displaystyle \\left[\\begin{matrix}0\\\\g m_{b} \\cos{\\left(\\theta \\right)}\\\\- L g m_{b} \\sin{\\left(\\theta \\right)}\\end{matrix}\\right]$"
      ],
      "text/plain": [
       "Matrix([\n",
       "[                  0],\n",
       "[   g*m_b*cos(theta)],\n",
       "[-L*g*m_b*sin(theta)]])"
      ]
     },
     "metadata": {},
     "output_type": "display_data"
    }
   ],
   "source": [
    "import sympy as sp\n",
    "import numpy as np\n",
    "from sympy import sin, cos, Matrix, zeros, simplify, diff, symbols, Eq, Rational\n",
    "\n",
    "# Define symbolic variables\n",
    "r_w, m_w, m_b, g = symbols('r_w, m_w, m_b, g')  # wheel radius, wheel mass, body mass, grav accel\n",
    "x, L, theta = symbols('x, L, theta')  # coordinates (displacement, angle, length)\n",
    "xd, Ld, thetad = symbols('\\dot{x}, \\dot{L}, \\dot{θ}')  # velocities\n",
    "\n",
    "q = Matrix([x, L, theta])  # coordinate vector\n",
    "qd = Matrix([xd, Ld, thetad])  # velocity vector\n",
    "\n",
    "h_b = L*cos(theta)\n",
    "J_w = Matrix([\n",
    "    [1, 0, 0], # effect of xd, Ld, thetad on x vel of wheel\n",
    "    [0, 0, 0], # effect of xd, Ld, thetad on z vel of wheel\n",
    "])\n",
    "\n",
    "J_b = Matrix([\n",
    "    [1, sin(theta), L*cos(theta)], # effect of xd, Ld, thetad on x vel of body\n",
    "    [0, cos(theta), -L*sin(theta)], # effect of xd, Ld, thetad on z vel of body\n",
    "])\n",
    "\n",
    "\n",
    "# Potential energy\n",
    "P = m_b * g * h_b  # Potential energy (J)\n",
    "G = P.diff(q)\n",
    "\n",
    "# Mass matrix\n",
    "M = m_w * (J_w.T * J_w) + m_b * (J_b.T * J_b)\n",
    "M = simplify(M)\n",
    "\n",
    "half = Rational(1,2)\n",
    "\n",
    "# Coriolis matrix\n",
    "C = zeros(3, 3)\n",
    "for k in range(3):\n",
    "    for j in range(3):\n",
    "        # print(f\"Computing row {k}, column {j} of C\")\n",
    "        for i in range(3):\n",
    "            C[k, j] += half * (diff(M[k, j], q[i]) + diff(M[k, i], q[j]) - diff(M[i, j], q[k])) * qd[i]\n",
    "C = simplify(C)\n",
    "\n",
    "print(\"M=\")\n",
    "display(M)\n",
    "\n",
    "print('C*q_dot=')\n",
    "display(simplify(C@qd))\n",
    "\n",
    "print('G=')\n",
    "display(G)"
   ]
  },
  {
   "cell_type": "code",
   "execution_count": 20,
   "metadata": {},
   "outputs": [
    {
     "data": {
      "text/latex": [
       "$\\displaystyle \\left[\\begin{matrix}\\frac{- F_{L} L \\sin{\\left(\\theta \\right)} + F_{x} L - F_{θ} \\cos{\\left(\\theta \\right)}}{L m_{w}}\\\\- \\frac{F_{L} \\cos{\\left(2 \\theta \\right)}}{2 m_{w}} + \\frac{F_{L}}{2 m_{w}} + \\frac{F_{L}}{m_{b}} - \\frac{F_{x} \\sin{\\left(\\theta \\right)}}{m_{w}} + \\frac{F_{θ} \\sin{\\left(2 \\theta \\right)}}{2 L m_{w}} + L \\dot{θ}^{2} - g \\cos{\\left(\\theta \\right)}\\\\\\frac{F_{L} \\sin{\\left(2 \\theta \\right)}}{2 L m_{w}} - \\frac{F_{x} \\cos{\\left(\\theta \\right)}}{L m_{w}} + \\frac{F_{θ} \\cos{\\left(2 \\theta \\right)}}{2 L^{2} m_{w}} + \\frac{F_{θ}}{2 L^{2} m_{w}} + \\frac{F_{θ}}{L^{2} m_{b}} - \\frac{2 \\dot{L} \\dot{θ}}{L} + \\frac{g \\sin{\\left(\\theta \\right)}}{L}\\end{matrix}\\right]$"
      ],
      "text/plain": [
       "Matrix([\n",
       "[                                                                                                          (-F_L*L*sin(theta) + F_x*L - F_θ*cos(theta))/(L*m_w)],\n",
       "[                             -F_L*cos(2*theta)/(2*m_w) + F_L/(2*m_w) + F_L/m_b - F_x*sin(theta)/m_w + F_θ*sin(2*theta)/(2*L*m_w) + L*\\dot{θ}**2 - g*cos(theta)],\n",
       "[F_L*sin(2*theta)/(2*L*m_w) - F_x*cos(theta)/(L*m_w) + F_θ*cos(2*theta)/(2*L**2*m_w) + F_θ/(2*L**2*m_w) + F_θ/(L**2*m_b) - 2*\\dot{L}*\\dot{θ}/L + g*sin(theta)/L]])"
      ]
     },
     "metadata": {},
     "output_type": "display_data"
    },
    {
     "name": "stdout",
     "output_type": "stream",
     "text": [
      "x_dd=\n"
     ]
    },
    {
     "data": {
      "text/latex": [
       "$\\displaystyle \\frac{- F_{L} L \\sin{\\left(\\theta \\right)} + F_{x} L - F_{θ} \\cos{\\left(\\theta \\right)}}{L m_{w}}$"
      ],
      "text/plain": [
       "(-F_L*L*sin(theta) + F_x*L - F_θ*cos(theta))/(L*m_w)"
      ]
     },
     "metadata": {},
     "output_type": "display_data"
    },
    {
     "name": "stdout",
     "output_type": "stream",
     "text": [
      "L_dd=\n"
     ]
    },
    {
     "data": {
      "text/latex": [
       "$\\displaystyle - \\frac{F_{L} \\cos{\\left(2 \\theta \\right)}}{2 m_{w}} + \\frac{F_{L}}{2 m_{w}} + \\frac{F_{L}}{m_{b}} - \\frac{F_{x} \\sin{\\left(\\theta \\right)}}{m_{w}} + \\frac{F_{θ} \\sin{\\left(2 \\theta \\right)}}{2 L m_{w}} + L \\dot{θ}^{2} - g \\cos{\\left(\\theta \\right)}$"
      ],
      "text/plain": [
       "-F_L*cos(2*theta)/(2*m_w) + F_L/(2*m_w) + F_L/m_b - F_x*sin(theta)/m_w + F_θ*sin(2*theta)/(2*L*m_w) + L*\\dot{θ}**2 - g*cos(theta)"
      ]
     },
     "metadata": {},
     "output_type": "display_data"
    },
    {
     "name": "stdout",
     "output_type": "stream",
     "text": [
      "theta_dd=\n"
     ]
    },
    {
     "data": {
      "text/latex": [
       "$\\displaystyle \\frac{F_{L} \\sin{\\left(2 \\theta \\right)}}{2 L m_{w}} - \\frac{F_{x} \\cos{\\left(\\theta \\right)}}{L m_{w}} + \\frac{F_{θ} \\cos{\\left(2 \\theta \\right)}}{2 L^{2} m_{w}} + \\frac{F_{θ}}{2 L^{2} m_{w}} + \\frac{F_{θ}}{L^{2} m_{b}} - \\frac{2 \\dot{L} \\dot{θ}}{L} + \\frac{g \\sin{\\left(\\theta \\right)}}{L}$"
      ],
      "text/plain": [
       "F_L*sin(2*theta)/(2*L*m_w) - F_x*cos(theta)/(L*m_w) + F_θ*cos(2*theta)/(2*L**2*m_w) + F_θ/(2*L**2*m_w) + F_θ/(L**2*m_b) - 2*\\dot{L}*\\dot{θ}/L + g*sin(theta)/L"
      ]
     },
     "metadata": {},
     "output_type": "display_data"
    }
   ],
   "source": [
    "F_x, F_L, F_theta = symbols('F_x, F_L, F_θ') #forces\n",
    "tau = Matrix([F_x, F_L, F_theta]) #force vector\n",
    "\n",
    "accels = simplify(sp.inv_quick(M) * (tau - C*qd - G))\n",
    "display(accels)\n",
    "\n",
    "print('x_dd=')\n",
    "display(accels[0])\n",
    "\n",
    "print('L_dd=')\n",
    "display(accels[1])\n",
    "\n",
    "print('theta_dd=')\n",
    "display(accels[2])"
   ]
  }
 ],
 "metadata": {
  "kernelspec": {
   "display_name": "Python 3",
   "language": "python",
   "name": "python3"
  },
  "language_info": {
   "codemirror_mode": {
    "name": "ipython",
    "version": 3
   },
   "file_extension": ".py",
   "mimetype": "text/x-python",
   "name": "python",
   "nbconvert_exporter": "python",
   "pygments_lexer": "ipython3",
   "version": "3.11.4"
  }
 },
 "nbformat": 4,
 "nbformat_minor": 2
}
