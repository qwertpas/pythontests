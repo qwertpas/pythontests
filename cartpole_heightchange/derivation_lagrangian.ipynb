{
 "cells": [
  {
   "cell_type": "code",
   "execution_count": 27,
   "metadata": {},
   "outputs": [
    {
     "data": {
      "text/latex": [
       "$\\displaystyle - L g m_{b} \\sin{\\left(θ \\right)} + \\frac{\\dot{x}^{2} m_{w}}{2} + \\frac{m_{b} \\sqrt{L^{2} \\dot{θ}^{2} - 2 L \\dot{x} \\dot{θ} \\sin{\\left(θ \\right)} + \\dot{L}^{2} + 2 \\dot{L} \\dot{x} \\cos{\\left(θ \\right)} + \\dot{x}^{2}}}{2}$"
      ],
      "text/plain": [
       "-L*g*m_b*sin(θ) + \\dot{x}**2*m_w/2 + m_b*sqrt(L**2*\\dot{θ}**2 - 2*L*\\dot{x}*\\dot{θ}*sin(θ) + \\dot{L}**2 + 2*\\dot{L}*\\dot{x}*cos(θ) + \\dot{x}**2)/2"
      ]
     },
     "execution_count": 27,
     "metadata": {},
     "output_type": "execute_result"
    }
   ],
   "source": [
    "import sympy as sp\n",
    "import numpy as np\n",
    "from sympy import sin, cos, sqrt, Matrix, zeros, simplify, diff, symbols, Eq, Rational, Function\n",
    "import warnings\n",
    "warnings.filterwarnings(\"ignore\", category=DeprecationWarning) \n",
    "\n",
    "# Define symbolic variables\n",
    "t = symbols('t')\n",
    "x = Function('x')(t)\n",
    "L = Function('L')(t)\n",
    "theta = Function('θ')(t)\n",
    "all_states = [x,L,theta]\n",
    "\n",
    "r_w, m_w, m_b, g = symbols('r_w, m_w, m_b, g')  # wheel radius, wheel mass, body mass, grav accel\n",
    "\n",
    "#use clean() to render d/dt as dots and remove the (t) in functions\n",
    "dots = {}\n",
    "no_t = {}\n",
    "for state in all_states:\n",
    "    d_disp = Function('\\dot{' + state.name + '}')(t)\n",
    "    dd_disp = Function('\\ddot{' + state.name + '}')(t)\n",
    "    dots[state.diff(t)] = d_disp\n",
    "    dots[d_disp.diff(t)] = dd_disp\n",
    "    no_t[state] = symbols(state.name)\n",
    "    no_t[d_disp] = symbols('\\dot{' + state.name + '}')\n",
    "    no_t[dd_disp] = symbols('\\ddot{' + state.name + '}')\n",
    "clean = lambda expr : expr.subs(dots).subs(dots).subs(no_t)\n",
    "\n",
    "\n",
    "x_b = x + L*cos(theta)\n",
    "z_b = L*sin(theta)\n",
    "\n",
    "half = Rational(1,2)\n",
    "K = half * (m_w*diff(x,t)**2 + m_b*sqrt(diff(x_b,t)**2 + diff(z_b,t)**2))\n",
    "P = m_b * g * z_b\n",
    "Lagrangian = simplify(K - P)\n",
    "clean(Lagrangian) "
   ]
  },
  {
   "cell_type": "code",
   "execution_count": 29,
   "metadata": {},
   "outputs": [
    {
     "data": {
      "text/latex": [
       "$\\displaystyle \\left[\\begin{matrix}\\ddot{x} m_{w} + \\frac{m_{b} \\left(- L \\dot{θ} \\sin{\\left(θ \\right)} + \\dot{L} \\cos{\\left(θ \\right)} + \\dot{x}\\right) \\left(- L^{2} \\ddot{θ} \\dot{θ} + L \\ddot{x} \\dot{θ} \\sin{\\left(θ \\right)} + L \\ddot{θ} \\dot{x} \\sin{\\left(θ \\right)} - L \\dot{L} \\dot{θ}^{2} + L \\dot{x} \\dot{θ}^{2} \\cos{\\left(θ \\right)} - \\ddot{L} \\dot{L} - \\ddot{L} \\dot{x} \\cos{\\left(θ \\right)} - \\ddot{x} \\dot{L} \\cos{\\left(θ \\right)} - \\ddot{x} \\dot{x} + 2 \\dot{L} \\dot{x} \\dot{θ} \\sin{\\left(θ \\right)}\\right)}{2 \\left(L^{2} \\dot{θ}^{2} - 2 L \\dot{x} \\dot{θ} \\sin{\\left(θ \\right)} + \\dot{L}^{2} + 2 \\dot{L} \\dot{x} \\cos{\\left(θ \\right)} + \\dot{x}^{2}\\right)^{\\frac{3}{2}}} + \\frac{m_{b} \\left(- L \\ddot{θ} \\sin{\\left(θ \\right)} - L \\dot{θ}^{2} \\cos{\\left(θ \\right)} + \\ddot{L} \\cos{\\left(θ \\right)} + \\ddot{x} - 2 \\dot{L} \\dot{θ} \\sin{\\left(θ \\right)}\\right)}{2 \\sqrt{L^{2} \\dot{θ}^{2} - 2 L \\dot{x} \\dot{θ} \\sin{\\left(θ \\right)} + \\dot{L}^{2} + 2 \\dot{L} \\dot{x} \\cos{\\left(θ \\right)} + \\dot{x}^{2}}} = F_{x}\\\\g m_{b} \\sin{\\left(θ \\right)} + \\frac{m_{b} \\left(\\dot{L} + \\dot{x} \\cos{\\left(θ \\right)}\\right) \\left(- L^{2} \\ddot{θ} \\dot{θ} + L \\ddot{x} \\dot{θ} \\sin{\\left(θ \\right)} + L \\ddot{θ} \\dot{x} \\sin{\\left(θ \\right)} - L \\dot{L} \\dot{θ}^{2} + L \\dot{x} \\dot{θ}^{2} \\cos{\\left(θ \\right)} - \\ddot{L} \\dot{L} - \\ddot{L} \\dot{x} \\cos{\\left(θ \\right)} - \\ddot{x} \\dot{L} \\cos{\\left(θ \\right)} - \\ddot{x} \\dot{x} + 2 \\dot{L} \\dot{x} \\dot{θ} \\sin{\\left(θ \\right)}\\right)}{2 \\left(L^{2} \\dot{θ}^{2} - 2 L \\dot{x} \\dot{θ} \\sin{\\left(θ \\right)} + \\dot{L}^{2} + 2 \\dot{L} \\dot{x} \\cos{\\left(θ \\right)} + \\dot{x}^{2}\\right)^{\\frac{3}{2}}} - \\frac{m_{b} \\left(L \\dot{θ}^{2} - \\dot{x} \\dot{θ} \\sin{\\left(θ \\right)}\\right)}{2 \\sqrt{L^{2} \\dot{θ}^{2} - 2 L \\dot{x} \\dot{θ} \\sin{\\left(θ \\right)} + \\dot{L}^{2} + 2 \\dot{L} \\dot{x} \\cos{\\left(θ \\right)} + \\dot{x}^{2}}} + \\frac{m_{b} \\left(\\ddot{L} + \\ddot{x} \\cos{\\left(θ \\right)} - \\dot{x} \\dot{θ} \\sin{\\left(θ \\right)}\\right)}{2 \\sqrt{L^{2} \\dot{θ}^{2} - 2 L \\dot{x} \\dot{θ} \\sin{\\left(θ \\right)} + \\dot{L}^{2} + 2 \\dot{L} \\dot{x} \\cos{\\left(θ \\right)} + \\dot{x}^{2}}} = F_{L}\\\\L g m_{b} \\cos{\\left(θ \\right)} + \\frac{m_{b} \\left(L^{2} \\dot{θ} - L \\dot{x} \\sin{\\left(θ \\right)}\\right) \\left(- L^{2} \\ddot{θ} \\dot{θ} + L \\ddot{x} \\dot{θ} \\sin{\\left(θ \\right)} + L \\ddot{θ} \\dot{x} \\sin{\\left(θ \\right)} - L \\dot{L} \\dot{θ}^{2} + L \\dot{x} \\dot{θ}^{2} \\cos{\\left(θ \\right)} - \\ddot{L} \\dot{L} - \\ddot{L} \\dot{x} \\cos{\\left(θ \\right)} - \\ddot{x} \\dot{L} \\cos{\\left(θ \\right)} - \\ddot{x} \\dot{x} + 2 \\dot{L} \\dot{x} \\dot{θ} \\sin{\\left(θ \\right)}\\right)}{2 \\left(L^{2} \\dot{θ}^{2} - 2 L \\dot{x} \\dot{θ} \\sin{\\left(θ \\right)} + \\dot{L}^{2} + 2 \\dot{L} \\dot{x} \\cos{\\left(θ \\right)} + \\dot{x}^{2}\\right)^{\\frac{3}{2}}} - \\frac{m_{b} \\left(- L \\dot{x} \\dot{θ} \\cos{\\left(θ \\right)} - \\dot{L} \\dot{x} \\sin{\\left(θ \\right)}\\right)}{2 \\sqrt{L^{2} \\dot{θ}^{2} - 2 L \\dot{x} \\dot{θ} \\sin{\\left(θ \\right)} + \\dot{L}^{2} + 2 \\dot{L} \\dot{x} \\cos{\\left(θ \\right)} + \\dot{x}^{2}}} + \\frac{m_{b} \\left(L^{2} \\ddot{θ} - L \\ddot{x} \\sin{\\left(θ \\right)} + 2 L \\dot{L} \\dot{θ} - L \\dot{x} \\dot{θ} \\cos{\\left(θ \\right)} - \\dot{L} \\dot{x} \\sin{\\left(θ \\right)}\\right)}{2 \\sqrt{L^{2} \\dot{θ}^{2} - 2 L \\dot{x} \\dot{θ} \\sin{\\left(θ \\right)} + \\dot{L}^{2} + 2 \\dot{L} \\dot{x} \\cos{\\left(θ \\right)} + \\dot{x}^{2}}} = F_{θ}\\end{matrix}\\right]$"
      ],
      "text/plain": [
       "Matrix([\n",
       "[                                                                                                                                                                       Eq(\\ddot{x}*m_w + m_b*(-L*\\dot{θ}*sin(θ) + \\dot{L}*cos(θ) + \\dot{x})*(-L**2*\\ddot{θ}*\\dot{θ} + L*\\ddot{x}*\\dot{θ}*sin(θ) + L*\\ddot{θ}*\\dot{x}*sin(θ) - L*\\dot{L}*\\dot{θ}**2 + L*\\dot{x}*\\dot{θ}**2*cos(θ) - \\ddot{L}*\\dot{L} - \\ddot{L}*\\dot{x}*cos(θ) - \\ddot{x}*\\dot{L}*cos(θ) - \\ddot{x}*\\dot{x} + 2*\\dot{L}*\\dot{x}*\\dot{θ}*sin(θ))/(2*(L**2*\\dot{θ}**2 - 2*L*\\dot{x}*\\dot{θ}*sin(θ) + \\dot{L}**2 + 2*\\dot{L}*\\dot{x}*cos(θ) + \\dot{x}**2)**(3/2)) + m_b*(-L*\\ddot{θ}*sin(θ) - L*\\dot{θ}**2*cos(θ) + \\ddot{L}*cos(θ) + \\ddot{x} - 2*\\dot{L}*\\dot{θ}*sin(θ))/(2*sqrt(L**2*\\dot{θ}**2 - 2*L*\\dot{x}*\\dot{θ}*sin(θ) + \\dot{L}**2 + 2*\\dot{L}*\\dot{x}*cos(θ) + \\dot{x}**2)), F_x)],\n",
       "[                                                                              Eq(g*m_b*sin(θ) + m_b*(\\dot{L} + \\dot{x}*cos(θ))*(-L**2*\\ddot{θ}*\\dot{θ} + L*\\ddot{x}*\\dot{θ}*sin(θ) + L*\\ddot{θ}*\\dot{x}*sin(θ) - L*\\dot{L}*\\dot{θ}**2 + L*\\dot{x}*\\dot{θ}**2*cos(θ) - \\ddot{L}*\\dot{L} - \\ddot{L}*\\dot{x}*cos(θ) - \\ddot{x}*\\dot{L}*cos(θ) - \\ddot{x}*\\dot{x} + 2*\\dot{L}*\\dot{x}*\\dot{θ}*sin(θ))/(2*(L**2*\\dot{θ}**2 - 2*L*\\dot{x}*\\dot{θ}*sin(θ) + \\dot{L}**2 + 2*\\dot{L}*\\dot{x}*cos(θ) + \\dot{x}**2)**(3/2)) - m_b*(L*\\dot{θ}**2 - \\dot{x}*\\dot{θ}*sin(θ))/(2*sqrt(L**2*\\dot{θ}**2 - 2*L*\\dot{x}*\\dot{θ}*sin(θ) + \\dot{L}**2 + 2*\\dot{L}*\\dot{x}*cos(θ) + \\dot{x}**2)) + m_b*(\\ddot{L} + \\ddot{x}*cos(θ) - \\dot{x}*\\dot{θ}*sin(θ))/(2*sqrt(L**2*\\dot{θ}**2 - 2*L*\\dot{x}*\\dot{θ}*sin(θ) + \\dot{L}**2 + 2*\\dot{L}*\\dot{x}*cos(θ) + \\dot{x}**2)), F_L)],\n",
       "[Eq(L*g*m_b*cos(θ) + m_b*(L**2*\\dot{θ} - L*\\dot{x}*sin(θ))*(-L**2*\\ddot{θ}*\\dot{θ} + L*\\ddot{x}*\\dot{θ}*sin(θ) + L*\\ddot{θ}*\\dot{x}*sin(θ) - L*\\dot{L}*\\dot{θ}**2 + L*\\dot{x}*\\dot{θ}**2*cos(θ) - \\ddot{L}*\\dot{L} - \\ddot{L}*\\dot{x}*cos(θ) - \\ddot{x}*\\dot{L}*cos(θ) - \\ddot{x}*\\dot{x} + 2*\\dot{L}*\\dot{x}*\\dot{θ}*sin(θ))/(2*(L**2*\\dot{θ}**2 - 2*L*\\dot{x}*\\dot{θ}*sin(θ) + \\dot{L}**2 + 2*\\dot{L}*\\dot{x}*cos(θ) + \\dot{x}**2)**(3/2)) - m_b*(-L*\\dot{x}*\\dot{θ}*cos(θ) - \\dot{L}*\\dot{x}*sin(θ))/(2*sqrt(L**2*\\dot{θ}**2 - 2*L*\\dot{x}*\\dot{θ}*sin(θ) + \\dot{L}**2 + 2*\\dot{L}*\\dot{x}*cos(θ) + \\dot{x}**2)) + m_b*(L**2*\\ddot{θ} - L*\\ddot{x}*sin(θ) + 2*L*\\dot{L}*\\dot{θ} - L*\\dot{x}*\\dot{θ}*cos(θ) - \\dot{L}*\\dot{x}*sin(θ))/(2*sqrt(L**2*\\dot{θ}**2 - 2*L*\\dot{x}*\\dot{θ}*sin(θ) + \\dot{L}**2 + 2*\\dot{L}*\\dot{x}*cos(θ) + \\dot{x}**2)), F_θ)]])"
      ]
     },
     "execution_count": 29,
     "metadata": {},
     "output_type": "execute_result"
    }
   ],
   "source": [
    "#Euler-Lagrange\n",
    "F_x, F_L, F_theta = symbols('F_x, F_L, F_θ')\n",
    "Eq_x = Eq(diff(diff(Lagrangian, diff(x)), t) - diff(Lagrangian, x), F_x)\n",
    "Eq_L = Eq(diff(diff(Lagrangian, diff(L)), t) - diff(Lagrangian, L), F_L)\n",
    "Eq_theta = Eq(diff(diff(Lagrangian, diff(theta)), t) - diff(Lagrangian, theta), F_theta)\n",
    "\n",
    "# Eq_x = simplify(Eq_x)\n",
    "# Eq_L = simplify(Eq_L)\n",
    "# Eq_theta = simplify(Eq_theta)\n",
    "\n",
    "\n",
    "clean(Matrix([\n",
    "    Eq_x, \n",
    "    Eq_L, \n",
    "    Eq_theta\n",
    "]))"
   ]
  },
  {
   "cell_type": "code",
   "execution_count": 31,
   "metadata": {},
   "outputs": [],
   "source": [
    "Eq_x = simplify(Eq_x)"
   ]
  },
  {
   "cell_type": "code",
   "execution_count": 34,
   "metadata": {},
   "outputs": [],
   "source": [
    "Eq_L = simplify(Eq_L)"
   ]
  },
  {
   "cell_type": "code",
   "execution_count": 35,
   "metadata": {},
   "outputs": [],
   "source": [
    "Eq_theta = simplify(Eq_theta)"
   ]
  },
  {
   "cell_type": "code",
   "execution_count": 36,
   "metadata": {},
   "outputs": [
    {
     "data": {
      "text/latex": [
       "$\\displaystyle \\left[\\begin{matrix}F_{x} = \\frac{2 \\ddot{x} m_{w} \\left(L^{2} \\dot{θ}^{2} - 2 L \\dot{x} \\dot{θ} \\sin{\\left(θ \\right)} + \\dot{L}^{2} + 2 \\dot{L} \\dot{x} \\cos{\\left(θ \\right)} + \\dot{x}^{2}\\right)^{2} - m_{b} \\left(- L \\dot{θ} \\sin{\\left(θ \\right)} + \\dot{L} \\cos{\\left(θ \\right)} + \\dot{x}\\right) \\sqrt{L^{2} \\dot{θ}^{2} - 2 L \\dot{x} \\dot{θ} \\sin{\\left(θ \\right)} + \\dot{L}^{2} + 2 \\dot{L} \\dot{x} \\cos{\\left(θ \\right)} + \\dot{x}^{2}} \\left(L^{2} \\ddot{θ} \\dot{θ} - L \\ddot{x} \\dot{θ} \\sin{\\left(θ \\right)} - L \\ddot{θ} \\dot{x} \\sin{\\left(θ \\right)} + L \\dot{L} \\dot{θ}^{2} - L \\dot{x} \\dot{θ}^{2} \\cos{\\left(θ \\right)} + \\ddot{L} \\dot{L} + \\ddot{L} \\dot{x} \\cos{\\left(θ \\right)} + \\ddot{x} \\dot{L} \\cos{\\left(θ \\right)} + \\ddot{x} \\dot{x} - 2 \\dot{L} \\dot{x} \\dot{θ} \\sin{\\left(θ \\right)}\\right) - m_{b} \\left(L^{2} \\dot{θ}^{2} - 2 L \\dot{x} \\dot{θ} \\sin{\\left(θ \\right)} + \\dot{L}^{2} + 2 \\dot{L} \\dot{x} \\cos{\\left(θ \\right)} + \\dot{x}^{2}\\right)^{\\frac{3}{2}} \\left(L \\ddot{θ} \\sin{\\left(θ \\right)} + L \\dot{θ}^{2} \\cos{\\left(θ \\right)} - \\ddot{L} \\cos{\\left(θ \\right)} - \\ddot{x} + 2 \\dot{L} \\dot{θ} \\sin{\\left(θ \\right)}\\right)}{2 \\left(L^{2} \\dot{θ}^{2} - 2 L \\dot{x} \\dot{θ} \\sin{\\left(θ \\right)} + \\dot{L}^{2} + 2 \\dot{L} \\dot{x} \\cos{\\left(θ \\right)} + \\dot{x}^{2}\\right)^{2}}\\\\F_{L} = \\frac{m_{b} \\left(2 g \\left(L^{2} \\dot{θ}^{2} - 2 L \\dot{x} \\dot{θ} \\sin{\\left(θ \\right)} + \\dot{L}^{2} + 2 \\dot{L} \\dot{x} \\cos{\\left(θ \\right)} + \\dot{x}^{2}\\right)^{2} \\sin{\\left(θ \\right)} - \\left(\\dot{L} + \\dot{x} \\cos{\\left(θ \\right)}\\right) \\sqrt{L^{2} \\dot{θ}^{2} - 2 L \\dot{x} \\dot{θ} \\sin{\\left(θ \\right)} + \\dot{L}^{2} + 2 \\dot{L} \\dot{x} \\cos{\\left(θ \\right)} + \\dot{x}^{2}} \\left(L^{2} \\ddot{θ} \\dot{θ} - L \\ddot{x} \\dot{θ} \\sin{\\left(θ \\right)} - L \\ddot{θ} \\dot{x} \\sin{\\left(θ \\right)} + L \\dot{L} \\dot{θ}^{2} - L \\dot{x} \\dot{θ}^{2} \\cos{\\left(θ \\right)} + \\ddot{L} \\dot{L} + \\ddot{L} \\dot{x} \\cos{\\left(θ \\right)} + \\ddot{x} \\dot{L} \\cos{\\left(θ \\right)} + \\ddot{x} \\dot{x} - 2 \\dot{L} \\dot{x} \\dot{θ} \\sin{\\left(θ \\right)}\\right) + \\left(- L \\dot{θ}^{2} + \\ddot{L} + \\ddot{x} \\cos{\\left(θ \\right)}\\right) \\left(L^{2} \\dot{θ}^{2} - 2 L \\dot{x} \\dot{θ} \\sin{\\left(θ \\right)} + \\dot{L}^{2} + 2 \\dot{L} \\dot{x} \\cos{\\left(θ \\right)} + \\dot{x}^{2}\\right)^{\\frac{3}{2}}\\right)}{2 \\left(L^{2} \\dot{θ}^{2} - 2 L \\dot{x} \\dot{θ} \\sin{\\left(θ \\right)} + \\dot{L}^{2} + 2 \\dot{L} \\dot{x} \\cos{\\left(θ \\right)} + \\dot{x}^{2}\\right)^{2}}\\\\F_{θ} = \\frac{L m_{b} \\left(2 g \\left(L^{2} \\dot{θ}^{2} - 2 L \\dot{x} \\dot{θ} \\sin{\\left(θ \\right)} + \\dot{L}^{2} + 2 \\dot{L} \\dot{x} \\cos{\\left(θ \\right)} + \\dot{x}^{2}\\right)^{2} \\cos{\\left(θ \\right)} - \\left(L \\dot{θ} - \\dot{x} \\sin{\\left(θ \\right)}\\right) \\sqrt{L^{2} \\dot{θ}^{2} - 2 L \\dot{x} \\dot{θ} \\sin{\\left(θ \\right)} + \\dot{L}^{2} + 2 \\dot{L} \\dot{x} \\cos{\\left(θ \\right)} + \\dot{x}^{2}} \\left(L^{2} \\ddot{θ} \\dot{θ} - L \\ddot{x} \\dot{θ} \\sin{\\left(θ \\right)} - L \\ddot{θ} \\dot{x} \\sin{\\left(θ \\right)} + L \\dot{L} \\dot{θ}^{2} - L \\dot{x} \\dot{θ}^{2} \\cos{\\left(θ \\right)} + \\ddot{L} \\dot{L} + \\ddot{L} \\dot{x} \\cos{\\left(θ \\right)} + \\ddot{x} \\dot{L} \\cos{\\left(θ \\right)} + \\ddot{x} \\dot{x} - 2 \\dot{L} \\dot{x} \\dot{θ} \\sin{\\left(θ \\right)}\\right) + \\left(L \\ddot{θ} - \\ddot{x} \\sin{\\left(θ \\right)} + 2 \\dot{L} \\dot{θ}\\right) \\left(L^{2} \\dot{θ}^{2} - 2 L \\dot{x} \\dot{θ} \\sin{\\left(θ \\right)} + \\dot{L}^{2} + 2 \\dot{L} \\dot{x} \\cos{\\left(θ \\right)} + \\dot{x}^{2}\\right)^{\\frac{3}{2}}\\right)}{2 \\left(L^{2} \\dot{θ}^{2} - 2 L \\dot{x} \\dot{θ} \\sin{\\left(θ \\right)} + \\dot{L}^{2} + 2 \\dot{L} \\dot{x} \\cos{\\left(θ \\right)} + \\dot{x}^{2}\\right)^{2}}\\end{matrix}\\right]$"
      ],
      "text/plain": [
       "Matrix([\n",
       "[Eq(F_x, (2*\\ddot{x}*m_w*(L**2*\\dot{θ}**2 - 2*L*\\dot{x}*\\dot{θ}*sin(θ) + \\dot{L}**2 + 2*\\dot{L}*\\dot{x}*cos(θ) + \\dot{x}**2)**2 - m_b*(-L*\\dot{θ}*sin(θ) + \\dot{L}*cos(θ) + \\dot{x})*sqrt(L**2*\\dot{θ}**2 - 2*L*\\dot{x}*\\dot{θ}*sin(θ) + \\dot{L}**2 + 2*\\dot{L}*\\dot{x}*cos(θ) + \\dot{x}**2)*(L**2*\\ddot{θ}*\\dot{θ} - L*\\ddot{x}*\\dot{θ}*sin(θ) - L*\\ddot{θ}*\\dot{x}*sin(θ) + L*\\dot{L}*\\dot{θ}**2 - L*\\dot{x}*\\dot{θ}**2*cos(θ) + \\ddot{L}*\\dot{L} + \\ddot{L}*\\dot{x}*cos(θ) + \\ddot{x}*\\dot{L}*cos(θ) + \\ddot{x}*\\dot{x} - 2*\\dot{L}*\\dot{x}*\\dot{θ}*sin(θ)) - m_b*(L**2*\\dot{θ}**2 - 2*L*\\dot{x}*\\dot{θ}*sin(θ) + \\dot{L}**2 + 2*\\dot{L}*\\dot{x}*cos(θ) + \\dot{x}**2)**(3/2)*(L*\\ddot{θ}*sin(θ) + L*\\dot{θ}**2*cos(θ) - \\ddot{L}*cos(θ) - \\ddot{x} + 2*\\dot{L}*\\dot{θ}*sin(θ)))/(2*(L**2*\\dot{θ}**2 - 2*L*\\dot{x}*\\dot{θ}*sin(θ) + \\dot{L}**2 + 2*\\dot{L}*\\dot{x}*cos(θ) + \\dot{x}**2)**2))],\n",
       "[                                                                                 Eq(F_L, m_b*(2*g*(L**2*\\dot{θ}**2 - 2*L*\\dot{x}*\\dot{θ}*sin(θ) + \\dot{L}**2 + 2*\\dot{L}*\\dot{x}*cos(θ) + \\dot{x}**2)**2*sin(θ) - (\\dot{L} + \\dot{x}*cos(θ))*sqrt(L**2*\\dot{θ}**2 - 2*L*\\dot{x}*\\dot{θ}*sin(θ) + \\dot{L}**2 + 2*\\dot{L}*\\dot{x}*cos(θ) + \\dot{x}**2)*(L**2*\\ddot{θ}*\\dot{θ} - L*\\ddot{x}*\\dot{θ}*sin(θ) - L*\\ddot{θ}*\\dot{x}*sin(θ) + L*\\dot{L}*\\dot{θ}**2 - L*\\dot{x}*\\dot{θ}**2*cos(θ) + \\ddot{L}*\\dot{L} + \\ddot{L}*\\dot{x}*cos(θ) + \\ddot{x}*\\dot{L}*cos(θ) + \\ddot{x}*\\dot{x} - 2*\\dot{L}*\\dot{x}*\\dot{θ}*sin(θ)) + (-L*\\dot{θ}**2 + \\ddot{L} + \\ddot{x}*cos(θ))*(L**2*\\dot{θ}**2 - 2*L*\\dot{x}*\\dot{θ}*sin(θ) + \\dot{L}**2 + 2*\\dot{L}*\\dot{x}*cos(θ) + \\dot{x}**2)**(3/2))/(2*(L**2*\\dot{θ}**2 - 2*L*\\dot{x}*\\dot{θ}*sin(θ) + \\dot{L}**2 + 2*\\dot{L}*\\dot{x}*cos(θ) + \\dot{x}**2)**2))],\n",
       "[                                                                       Eq(F_θ, L*m_b*(2*g*(L**2*\\dot{θ}**2 - 2*L*\\dot{x}*\\dot{θ}*sin(θ) + \\dot{L}**2 + 2*\\dot{L}*\\dot{x}*cos(θ) + \\dot{x}**2)**2*cos(θ) - (L*\\dot{θ} - \\dot{x}*sin(θ))*sqrt(L**2*\\dot{θ}**2 - 2*L*\\dot{x}*\\dot{θ}*sin(θ) + \\dot{L}**2 + 2*\\dot{L}*\\dot{x}*cos(θ) + \\dot{x}**2)*(L**2*\\ddot{θ}*\\dot{θ} - L*\\ddot{x}*\\dot{θ}*sin(θ) - L*\\ddot{θ}*\\dot{x}*sin(θ) + L*\\dot{L}*\\dot{θ}**2 - L*\\dot{x}*\\dot{θ}**2*cos(θ) + \\ddot{L}*\\dot{L} + \\ddot{L}*\\dot{x}*cos(θ) + \\ddot{x}*\\dot{L}*cos(θ) + \\ddot{x}*\\dot{x} - 2*\\dot{L}*\\dot{x}*\\dot{θ}*sin(θ)) + (L*\\ddot{θ} - \\ddot{x}*sin(θ) + 2*\\dot{L}*\\dot{θ})*(L**2*\\dot{θ}**2 - 2*L*\\dot{x}*\\dot{θ}*sin(θ) + \\dot{L}**2 + 2*\\dot{L}*\\dot{x}*cos(θ) + \\dot{x}**2)**(3/2))/(2*(L**2*\\dot{θ}**2 - 2*L*\\dot{x}*\\dot{θ}*sin(θ) + \\dot{L}**2 + 2*\\dot{L}*\\dot{x}*cos(θ) + \\dot{x}**2)**2))]])"
      ]
     },
     "execution_count": 36,
     "metadata": {},
     "output_type": "execute_result"
    }
   ],
   "source": [
    "clean(Matrix([\n",
    "    Eq_x, \n",
    "    Eq_L, \n",
    "    Eq_theta\n",
    "]))"
   ]
  },
  {
   "cell_type": "code",
   "execution_count": 37,
   "metadata": {},
   "outputs": [
    {
     "ename": "KeyboardInterrupt",
     "evalue": "",
     "output_type": "error",
     "traceback": [
      "\u001b[0;31m---------------------------------------------------------------------------\u001b[0m",
      "\u001b[0;31mKeyboardInterrupt\u001b[0m                         Traceback (most recent call last)",
      "Cell \u001b[0;32mIn[37], line 1\u001b[0m\n\u001b[0;32m----> 1\u001b[0m second_derivatives \u001b[38;5;241m=\u001b[39m \u001b[43msp\u001b[49m\u001b[38;5;241;43m.\u001b[39;49m\u001b[43msolve\u001b[49m\u001b[43m(\u001b[49m\u001b[43m[\u001b[49m\u001b[43mEq_x\u001b[49m\u001b[43m,\u001b[49m\u001b[43m \u001b[49m\u001b[43mEq_L\u001b[49m\u001b[43m,\u001b[49m\u001b[43m \u001b[49m\u001b[43mEq_theta\u001b[49m\u001b[43m]\u001b[49m\u001b[43m,\u001b[49m\u001b[43m \u001b[49m\u001b[43m[\u001b[49m\u001b[43mdiff\u001b[49m\u001b[43m(\u001b[49m\u001b[43mdiff\u001b[49m\u001b[43m(\u001b[49m\u001b[43mx\u001b[49m\u001b[43m)\u001b[49m\u001b[43m)\u001b[49m\u001b[43m,\u001b[49m\u001b[43m \u001b[49m\u001b[43mdiff\u001b[49m\u001b[43m(\u001b[49m\u001b[43mdiff\u001b[49m\u001b[43m(\u001b[49m\u001b[43mL\u001b[49m\u001b[43m)\u001b[49m\u001b[43m)\u001b[49m\u001b[43m,\u001b[49m\u001b[43m \u001b[49m\u001b[43mdiff\u001b[49m\u001b[43m(\u001b[49m\u001b[43mdiff\u001b[49m\u001b[43m(\u001b[49m\u001b[43mtheta\u001b[49m\u001b[43m)\u001b[49m\u001b[43m)\u001b[49m\u001b[43m]\u001b[49m\u001b[43m)\u001b[49m\n\u001b[1;32m      2\u001b[0m \u001b[38;5;66;03m# x_dd = second_derivatives[diff(diff(x))].simplify()\u001b[39;00m\n\u001b[1;32m      3\u001b[0m \u001b[38;5;66;03m# θ_dd = second_derivatives[diff(diff(θ))].simplify()\u001b[39;00m\n",
      "File \u001b[0;32m/Library/Frameworks/Python.framework/Versions/3.11/lib/python3.11/site-packages/sympy/solvers/solvers.py:1172\u001b[0m, in \u001b[0;36msolve\u001b[0;34m(f, *symbols, **flags)\u001b[0m\n\u001b[1;32m   1170\u001b[0m         solution \u001b[38;5;241m=\u001b[39m _solve(f[\u001b[38;5;241m0\u001b[39m], \u001b[38;5;241m*\u001b[39msymbols, \u001b[38;5;241m*\u001b[39m\u001b[38;5;241m*\u001b[39mflags)\n\u001b[1;32m   1171\u001b[0m \u001b[38;5;28;01melse\u001b[39;00m:\n\u001b[0;32m-> 1172\u001b[0m     linear, solution \u001b[38;5;241m=\u001b[39m \u001b[43m_solve_system\u001b[49m\u001b[43m(\u001b[49m\u001b[43mf\u001b[49m\u001b[43m,\u001b[49m\u001b[43m \u001b[49m\u001b[43msymbols\u001b[49m\u001b[43m,\u001b[49m\u001b[43m \u001b[49m\u001b[38;5;241;43m*\u001b[39;49m\u001b[38;5;241;43m*\u001b[39;49m\u001b[43mflags\u001b[49m\u001b[43m)\u001b[49m\n\u001b[1;32m   1173\u001b[0m \u001b[38;5;28;01massert\u001b[39;00m \u001b[38;5;28mtype\u001b[39m(solution) \u001b[38;5;129;01mis\u001b[39;00m \u001b[38;5;28mlist\u001b[39m\n\u001b[1;32m   1174\u001b[0m \u001b[38;5;28;01massert\u001b[39;00m \u001b[38;5;129;01mnot\u001b[39;00m solution \u001b[38;5;129;01mor\u001b[39;00m \u001b[38;5;28mtype\u001b[39m(solution[\u001b[38;5;241m0\u001b[39m]) \u001b[38;5;129;01mis\u001b[39;00m \u001b[38;5;28mdict\u001b[39m, solution\n",
      "File \u001b[0;32m/Library/Frameworks/Python.framework/Versions/3.11/lib/python3.11/site-packages/sympy/solvers/solvers.py:1859\u001b[0m, in \u001b[0;36m_solve_system\u001b[0;34m(exprs, symbols, **flags)\u001b[0m\n\u001b[1;32m   1857\u001b[0m     result \u001b[38;5;241m=\u001b[39m minsolve_linear_system(matrix, \u001b[38;5;241m*\u001b[39msymbols, \u001b[38;5;241m*\u001b[39m\u001b[38;5;241m*\u001b[39mflags)\n\u001b[1;32m   1858\u001b[0m \u001b[38;5;28;01melse\u001b[39;00m:\n\u001b[0;32m-> 1859\u001b[0m     result \u001b[38;5;241m=\u001b[39m \u001b[43msolve_linear_system\u001b[49m\u001b[43m(\u001b[49m\u001b[43mmatrix\u001b[49m\u001b[43m,\u001b[49m\u001b[43m \u001b[49m\u001b[38;5;241;43m*\u001b[39;49m\u001b[43msymbols\u001b[49m\u001b[43m,\u001b[49m\u001b[43m \u001b[49m\u001b[38;5;241;43m*\u001b[39;49m\u001b[38;5;241;43m*\u001b[39;49m\u001b[43mflags\u001b[49m\u001b[43m)\u001b[49m\n\u001b[1;32m   1860\u001b[0m result \u001b[38;5;241m=\u001b[39m [result] \u001b[38;5;28;01mif\u001b[39;00m result \u001b[38;5;28;01melse\u001b[39;00m []\n\u001b[1;32m   1861\u001b[0m \u001b[38;5;28;01mif\u001b[39;00m failed:\n",
      "File \u001b[0;32m/Library/Frameworks/Python.framework/Versions/3.11/lib/python3.11/site-packages/sympy/solvers/solvers.py:2352\u001b[0m, in \u001b[0;36msolve_linear_system\u001b[0;34m(system, *symbols, **flags)\u001b[0m\n\u001b[1;32m   2350\u001b[0m eqs \u001b[38;5;241m=\u001b[39m \u001b[38;5;28mlist\u001b[39m(system \u001b[38;5;241m*\u001b[39m Matrix(symbols \u001b[38;5;241m+\u001b[39m (\u001b[38;5;241m-\u001b[39m\u001b[38;5;241m1\u001b[39m,)))\n\u001b[1;32m   2351\u001b[0m eqs, ring \u001b[38;5;241m=\u001b[39m sympy_eqs_to_ring(eqs, symbols)\n\u001b[0;32m-> 2352\u001b[0m sol \u001b[38;5;241m=\u001b[39m \u001b[43msolve_lin_sys\u001b[49m\u001b[43m(\u001b[49m\u001b[43meqs\u001b[49m\u001b[43m,\u001b[49m\u001b[43m \u001b[49m\u001b[43mring\u001b[49m\u001b[43m,\u001b[49m\u001b[43m \u001b[49m\u001b[43m_raw\u001b[49m\u001b[38;5;241;43m=\u001b[39;49m\u001b[38;5;28;43;01mFalse\u001b[39;49;00m\u001b[43m)\u001b[49m\n\u001b[1;32m   2353\u001b[0m \u001b[38;5;28;01mif\u001b[39;00m sol \u001b[38;5;129;01mis\u001b[39;00m \u001b[38;5;129;01mnot\u001b[39;00m \u001b[38;5;28;01mNone\u001b[39;00m:\n\u001b[1;32m   2354\u001b[0m     sol \u001b[38;5;241m=\u001b[39m {sym:val \u001b[38;5;28;01mfor\u001b[39;00m sym, val \u001b[38;5;129;01min\u001b[39;00m sol\u001b[38;5;241m.\u001b[39mitems() \u001b[38;5;28;01mif\u001b[39;00m sym \u001b[38;5;241m!=\u001b[39m val}\n",
      "File \u001b[0;32m/Library/Frameworks/Python.framework/Versions/3.11/lib/python3.11/site-packages/sympy/polys/solvers.py:279\u001b[0m, in \u001b[0;36msolve_lin_sys\u001b[0;34m(eqs, ring, _raw)\u001b[0m\n\u001b[1;32m    276\u001b[0m     eqs_rhs\u001b[38;5;241m.\u001b[39mappend(eq_rhs)\n\u001b[1;32m    277\u001b[0m     eqs_coeffs\u001b[38;5;241m.\u001b[39mappend(eq_coeffs)\n\u001b[0;32m--> 279\u001b[0m result \u001b[38;5;241m=\u001b[39m \u001b[43m_solve_lin_sys\u001b[49m\u001b[43m(\u001b[49m\u001b[43meqs_coeffs\u001b[49m\u001b[43m,\u001b[49m\u001b[43m \u001b[49m\u001b[43meqs_rhs\u001b[49m\u001b[43m,\u001b[49m\u001b[43m \u001b[49m\u001b[43mring\u001b[49m\u001b[43m)\u001b[49m\n\u001b[1;32m    281\u001b[0m \u001b[38;5;28;01mif\u001b[39;00m result \u001b[38;5;129;01mis\u001b[39;00m \u001b[38;5;129;01mnot\u001b[39;00m \u001b[38;5;28;01mNone\u001b[39;00m \u001b[38;5;129;01mand\u001b[39;00m as_expr:\n\u001b[1;32m    283\u001b[0m     \u001b[38;5;28;01mdef\u001b[39;00m \u001b[38;5;21mto_sympy\u001b[39m(x):\n",
      "File \u001b[0;32m/Library/Frameworks/Python.framework/Versions/3.11/lib/python3.11/site-packages/sympy/polys/solvers.py:357\u001b[0m, in \u001b[0;36m_solve_lin_sys\u001b[0;34m(eqs_coeffs, eqs_rhs, ring)\u001b[0m\n\u001b[1;32m    355\u001b[0m sol \u001b[38;5;241m=\u001b[39m {}\n\u001b[1;32m    356\u001b[0m \u001b[38;5;28;01mfor\u001b[39;00m subsystem \u001b[38;5;129;01min\u001b[39;00m subsystems:\n\u001b[0;32m--> 357\u001b[0m     subsol \u001b[38;5;241m=\u001b[39m \u001b[43m_solve_lin_sys_component\u001b[49m\u001b[43m(\u001b[49m\u001b[43msubsystem\u001b[49m\u001b[43m[\u001b[49m\u001b[38;5;241;43m0\u001b[39;49m\u001b[43m]\u001b[49m\u001b[43m,\u001b[49m\u001b[43m \u001b[49m\u001b[43msubsystem\u001b[49m\u001b[43m[\u001b[49m\u001b[38;5;241;43m1\u001b[39;49m\u001b[43m]\u001b[49m\u001b[43m,\u001b[49m\u001b[43m \u001b[49m\u001b[43mring\u001b[49m\u001b[43m)\u001b[49m\n\u001b[1;32m    358\u001b[0m     \u001b[38;5;28;01mif\u001b[39;00m subsol \u001b[38;5;129;01mis\u001b[39;00m \u001b[38;5;28;01mNone\u001b[39;00m:\n\u001b[1;32m    359\u001b[0m         \u001b[38;5;28;01mreturn\u001b[39;00m \u001b[38;5;28;01mNone\u001b[39;00m\n",
      "File \u001b[0;32m/Library/Frameworks/Python.framework/Versions/3.11/lib/python3.11/site-packages/sympy/polys/solvers.py:405\u001b[0m, in \u001b[0;36m_solve_lin_sys_component\u001b[0;34m(eqs_coeffs, eqs_rhs, ring)\u001b[0m\n\u001b[1;32m    402\u001b[0m     matrix \u001b[38;5;241m=\u001b[39m matrix\u001b[38;5;241m.\u001b[39mto_field()\n\u001b[1;32m    404\u001b[0m \u001b[38;5;66;03m# solve by row-reduction\u001b[39;00m\n\u001b[0;32m--> 405\u001b[0m echelon, pivots \u001b[38;5;241m=\u001b[39m \u001b[43mmatrix\u001b[49m\u001b[38;5;241;43m.\u001b[39;49m\u001b[43mrref\u001b[49m\u001b[43m(\u001b[49m\u001b[43m)\u001b[49m\n\u001b[1;32m    407\u001b[0m \u001b[38;5;66;03m# construct the returnable form of the solutions\u001b[39;00m\n\u001b[1;32m    408\u001b[0m keys \u001b[38;5;241m=\u001b[39m ring\u001b[38;5;241m.\u001b[39mgens\n",
      "File \u001b[0;32m/Library/Frameworks/Python.framework/Versions/3.11/lib/python3.11/site-packages/sympy/polys/matrices/domainmatrix.py:2228\u001b[0m, in \u001b[0;36mDomainMatrix.rref\u001b[0;34m(self, method)\u001b[0m\n\u001b[1;32m   2139\u001b[0m \u001b[38;5;28;01mdef\u001b[39;00m \u001b[38;5;21mrref\u001b[39m(\u001b[38;5;28mself\u001b[39m, \u001b[38;5;241m*\u001b[39m, method\u001b[38;5;241m=\u001b[39m\u001b[38;5;124m'\u001b[39m\u001b[38;5;124mauto\u001b[39m\u001b[38;5;124m'\u001b[39m):\n\u001b[1;32m   2140\u001b[0m \u001b[38;5;250m    \u001b[39m\u001b[38;5;124mr\u001b[39m\u001b[38;5;124;03m\"\"\"\u001b[39;00m\n\u001b[1;32m   2141\u001b[0m \u001b[38;5;124;03m    Returns reduced-row echelon form (RREF) and list of pivots.\u001b[39;00m\n\u001b[1;32m   2142\u001b[0m \n\u001b[0;32m   (...)\u001b[0m\n\u001b[1;32m   2226\u001b[0m \n\u001b[1;32m   2227\u001b[0m \u001b[38;5;124;03m    \"\"\"\u001b[39;00m\n\u001b[0;32m-> 2228\u001b[0m     \u001b[38;5;28;01mreturn\u001b[39;00m \u001b[43m_dm_rref\u001b[49m\u001b[43m(\u001b[49m\u001b[38;5;28;43mself\u001b[39;49m\u001b[43m,\u001b[49m\u001b[43m \u001b[49m\u001b[43mmethod\u001b[49m\u001b[38;5;241;43m=\u001b[39;49m\u001b[43mmethod\u001b[49m\u001b[43m)\u001b[49m\n",
      "File \u001b[0;32m/Library/Frameworks/Python.framework/Versions/3.11/lib/python3.11/site-packages/sympy/polys/matrices/rref.py:63\u001b[0m, in \u001b[0;36m_dm_rref\u001b[0;34m(M, method)\u001b[0m\n\u001b[1;32m     60\u001b[0m \u001b[38;5;28;01mif\u001b[39;00m method \u001b[38;5;241m==\u001b[39m \u001b[38;5;124m'\u001b[39m\u001b[38;5;124mGJ\u001b[39m\u001b[38;5;124m'\u001b[39m:\n\u001b[1;32m     61\u001b[0m     \u001b[38;5;66;03m# Use Gauss-Jordan with division over the associated field.\u001b[39;00m\n\u001b[1;32m     62\u001b[0m     Mf \u001b[38;5;241m=\u001b[39m _to_field(M)\n\u001b[0;32m---> 63\u001b[0m     M_rref, pivots \u001b[38;5;241m=\u001b[39m \u001b[43m_dm_rref_GJ\u001b[49m\u001b[43m(\u001b[49m\u001b[43mMf\u001b[49m\u001b[43m)\u001b[49m\n\u001b[1;32m     65\u001b[0m \u001b[38;5;28;01melif\u001b[39;00m method \u001b[38;5;241m==\u001b[39m \u001b[38;5;124m'\u001b[39m\u001b[38;5;124mFF\u001b[39m\u001b[38;5;124m'\u001b[39m:\n\u001b[1;32m     66\u001b[0m     \u001b[38;5;66;03m# Use fraction-free GJ over the current domain.\u001b[39;00m\n\u001b[1;32m     67\u001b[0m     M_rref_f, den, pivots \u001b[38;5;241m=\u001b[39m _dm_rref_den_FF(M)\n",
      "File \u001b[0;32m/Library/Frameworks/Python.framework/Versions/3.11/lib/python3.11/site-packages/sympy/polys/matrices/rref.py:189\u001b[0m, in \u001b[0;36m_dm_rref_GJ\u001b[0;34m(M)\u001b[0m\n\u001b[1;32m    187\u001b[0m     \u001b[38;5;28;01mreturn\u001b[39;00m _dm_rref_GJ_sparse(M)\n\u001b[1;32m    188\u001b[0m \u001b[38;5;28;01melse\u001b[39;00m:\n\u001b[0;32m--> 189\u001b[0m     \u001b[38;5;28;01mreturn\u001b[39;00m \u001b[43m_dm_rref_GJ_dense\u001b[49m\u001b[43m(\u001b[49m\u001b[43mM\u001b[49m\u001b[43m)\u001b[49m\n",
      "File \u001b[0;32m/Library/Frameworks/Python.framework/Versions/3.11/lib/python3.11/site-packages/sympy/polys/matrices/rref.py:212\u001b[0m, in \u001b[0;36m_dm_rref_GJ_dense\u001b[0;34m(M)\u001b[0m\n\u001b[1;32m    210\u001b[0m partial_pivot \u001b[38;5;241m=\u001b[39m M\u001b[38;5;241m.\u001b[39mdomain\u001b[38;5;241m.\u001b[39mis_RR \u001b[38;5;129;01mor\u001b[39;00m M\u001b[38;5;241m.\u001b[39mdomain\u001b[38;5;241m.\u001b[39mis_CC\n\u001b[1;32m    211\u001b[0m ddm \u001b[38;5;241m=\u001b[39m M\u001b[38;5;241m.\u001b[39mrep\u001b[38;5;241m.\u001b[39mto_ddm()\u001b[38;5;241m.\u001b[39mcopy()\n\u001b[0;32m--> 212\u001b[0m pivots \u001b[38;5;241m=\u001b[39m \u001b[43mddm_irref\u001b[49m\u001b[43m(\u001b[49m\u001b[43mddm\u001b[49m\u001b[43m,\u001b[49m\u001b[43m \u001b[49m\u001b[43m_partial_pivot\u001b[49m\u001b[38;5;241;43m=\u001b[39;49m\u001b[43mpartial_pivot\u001b[49m\u001b[43m)\u001b[49m\n\u001b[1;32m    213\u001b[0m M_rref_ddm \u001b[38;5;241m=\u001b[39m DDM(ddm, M\u001b[38;5;241m.\u001b[39mshape, M\u001b[38;5;241m.\u001b[39mdomain)\n\u001b[1;32m    214\u001b[0m pivots \u001b[38;5;241m=\u001b[39m \u001b[38;5;28mtuple\u001b[39m(pivots)\n",
      "File \u001b[0;32m/Library/Frameworks/Python.framework/Versions/3.11/lib/python3.11/site-packages/sympy/polys/matrices/dense.py:217\u001b[0m, in \u001b[0;36mddm_irref\u001b[0;34m(a, _partial_pivot)\u001b[0m\n\u001b[1;32m    215\u001b[0m aijinv \u001b[38;5;241m=\u001b[39m aij\u001b[38;5;241m*\u001b[39m\u001b[38;5;241m*\u001b[39m\u001b[38;5;241m-\u001b[39m\u001b[38;5;241m1\u001b[39m\n\u001b[1;32m    216\u001b[0m \u001b[38;5;28;01mfor\u001b[39;00m l \u001b[38;5;129;01min\u001b[39;00m \u001b[38;5;28mrange\u001b[39m(j, n):\n\u001b[0;32m--> 217\u001b[0m     \u001b[43mai\u001b[49m\u001b[43m[\u001b[49m\u001b[43ml\u001b[49m\u001b[43m]\u001b[49m\u001b[43m \u001b[49m\u001b[38;5;241;43m*\u001b[39;49m\u001b[38;5;241;43m=\u001b[39;49m\u001b[43m \u001b[49m\u001b[43maijinv\u001b[49m \u001b[38;5;66;03m# ai[j] = one\u001b[39;00m\n\u001b[1;32m    219\u001b[0m \u001b[38;5;66;03m# eliminate above and below to the right\u001b[39;00m\n\u001b[1;32m    220\u001b[0m \u001b[38;5;28;01mfor\u001b[39;00m k, ak \u001b[38;5;129;01min\u001b[39;00m \u001b[38;5;28menumerate\u001b[39m(a):\n",
      "File \u001b[0;32m/Library/Frameworks/Python.framework/Versions/3.11/lib/python3.11/site-packages/sympy/polys/domains/expressiondomain.py:112\u001b[0m, in \u001b[0;36mExpressionDomain.Expression.__mul__\u001b[0;34m(f, g)\u001b[0m\n\u001b[1;32m    109\u001b[0m \u001b[38;5;28;01melif\u001b[39;00m f\u001b[38;5;241m.\u001b[39mex\u001b[38;5;241m.\u001b[39mis_Number \u001b[38;5;129;01mand\u001b[39;00m g\u001b[38;5;241m.\u001b[39mex\u001b[38;5;241m.\u001b[39mis_Number:\n\u001b[1;32m    110\u001b[0m     \u001b[38;5;28;01mreturn\u001b[39;00m f\u001b[38;5;241m.\u001b[39m\u001b[38;5;18m__class__\u001b[39m(f\u001b[38;5;241m.\u001b[39mex\u001b[38;5;241m*\u001b[39mg\u001b[38;5;241m.\u001b[39mex)\n\u001b[0;32m--> 112\u001b[0m \u001b[38;5;28;01mreturn\u001b[39;00m \u001b[43mf\u001b[49m\u001b[38;5;241;43m.\u001b[39;49m\u001b[43msimplify\u001b[49m\u001b[43m(\u001b[49m\u001b[43mf\u001b[49m\u001b[38;5;241;43m.\u001b[39;49m\u001b[43mex\u001b[49m\u001b[38;5;241;43m*\u001b[39;49m\u001b[43mg\u001b[49m\u001b[38;5;241;43m.\u001b[39;49m\u001b[43mex\u001b[49m\u001b[43m)\u001b[49m\n",
      "File \u001b[0;32m/Library/Frameworks/Python.framework/Versions/3.11/lib/python3.11/site-packages/sympy/polys/domains/expressiondomain.py:54\u001b[0m, in \u001b[0;36mExpressionDomain.Expression.simplify\u001b[0;34m(f, ex)\u001b[0m\n\u001b[1;32m     53\u001b[0m \u001b[38;5;28;01mdef\u001b[39;00m \u001b[38;5;21msimplify\u001b[39m(f, ex):\n\u001b[0;32m---> 54\u001b[0m     \u001b[38;5;28;01mreturn\u001b[39;00m f\u001b[38;5;241m.\u001b[39m\u001b[38;5;18m__class__\u001b[39m(\u001b[43mex\u001b[49m\u001b[38;5;241;43m.\u001b[39;49m\u001b[43mcancel\u001b[49m\u001b[43m(\u001b[49m\u001b[43m)\u001b[49m\u001b[38;5;241m.\u001b[39mexpand(\u001b[38;5;241m*\u001b[39m\u001b[38;5;241m*\u001b[39meflags))\n",
      "File \u001b[0;32m/Library/Frameworks/Python.framework/Versions/3.11/lib/python3.11/site-packages/sympy/core/expr.py:3782\u001b[0m, in \u001b[0;36mExpr.cancel\u001b[0;34m(self, *gens, **args)\u001b[0m\n\u001b[1;32m   3780\u001b[0m \u001b[38;5;250m\u001b[39m\u001b[38;5;124;03m\"\"\"See the cancel function in sympy.polys\"\"\"\u001b[39;00m\n\u001b[1;32m   3781\u001b[0m \u001b[38;5;28;01mfrom\u001b[39;00m \u001b[38;5;21;01msympy\u001b[39;00m\u001b[38;5;21;01m.\u001b[39;00m\u001b[38;5;21;01mpolys\u001b[39;00m\u001b[38;5;21;01m.\u001b[39;00m\u001b[38;5;21;01mpolytools\u001b[39;00m \u001b[38;5;28;01mimport\u001b[39;00m cancel\n\u001b[0;32m-> 3782\u001b[0m \u001b[38;5;28;01mreturn\u001b[39;00m \u001b[43mcancel\u001b[49m\u001b[43m(\u001b[49m\u001b[38;5;28;43mself\u001b[39;49m\u001b[43m,\u001b[49m\u001b[43m \u001b[49m\u001b[38;5;241;43m*\u001b[39;49m\u001b[43mgens\u001b[49m\u001b[43m,\u001b[49m\u001b[43m \u001b[49m\u001b[38;5;241;43m*\u001b[39;49m\u001b[38;5;241;43m*\u001b[39;49m\u001b[43margs\u001b[49m\u001b[43m)\u001b[49m\n",
      "File \u001b[0;32m/Library/Frameworks/Python.framework/Versions/3.11/lib/python3.11/site-packages/sympy/polys/polytools.py:7213\u001b[0m, in \u001b[0;36mcancel\u001b[0;34m(f, _signsimp, *gens, **args)\u001b[0m\n\u001b[1;32m   7210\u001b[0m                 \u001b[38;5;28;01mpass\u001b[39;00m\n\u001b[1;32m   7211\u001b[0m         \u001b[38;5;28;01mreturn\u001b[39;00m f\u001b[38;5;241m.\u001b[39mxreplace(\u001b[38;5;28mdict\u001b[39m(reps))\n\u001b[0;32m-> 7213\u001b[0m c, (P, Q) \u001b[38;5;241m=\u001b[39m \u001b[38;5;241m1\u001b[39m, \u001b[43mF\u001b[49m\u001b[38;5;241;43m.\u001b[39;49m\u001b[43mcancel\u001b[49m\u001b[43m(\u001b[49m\u001b[43mG\u001b[49m\u001b[43m)\u001b[49m\n\u001b[1;32m   7214\u001b[0m \u001b[38;5;28;01mif\u001b[39;00m opt\u001b[38;5;241m.\u001b[39mget(\u001b[38;5;124m'\u001b[39m\u001b[38;5;124mpolys\u001b[39m\u001b[38;5;124m'\u001b[39m, \u001b[38;5;28;01mFalse\u001b[39;00m) \u001b[38;5;129;01mand\u001b[39;00m \u001b[38;5;124m'\u001b[39m\u001b[38;5;124mgens\u001b[39m\u001b[38;5;124m'\u001b[39m \u001b[38;5;129;01mnot\u001b[39;00m \u001b[38;5;129;01min\u001b[39;00m opt:\n\u001b[1;32m   7215\u001b[0m     opt[\u001b[38;5;124m'\u001b[39m\u001b[38;5;124mgens\u001b[39m\u001b[38;5;124m'\u001b[39m] \u001b[38;5;241m=\u001b[39m R\u001b[38;5;241m.\u001b[39msymbols\n",
      "File \u001b[0;32m/Library/Frameworks/Python.framework/Versions/3.11/lib/python3.11/site-packages/sympy/polys/rings.py:2242\u001b[0m, in \u001b[0;36mPolyElement.cancel\u001b[0;34m(self, g)\u001b[0m\n\u001b[1;32m   2239\u001b[0m domain \u001b[38;5;241m=\u001b[39m ring\u001b[38;5;241m.\u001b[39mdomain\n\u001b[1;32m   2241\u001b[0m \u001b[38;5;28;01mif\u001b[39;00m \u001b[38;5;129;01mnot\u001b[39;00m (domain\u001b[38;5;241m.\u001b[39mis_Field \u001b[38;5;129;01mand\u001b[39;00m domain\u001b[38;5;241m.\u001b[39mhas_assoc_Ring):\n\u001b[0;32m-> 2242\u001b[0m     _, p, q \u001b[38;5;241m=\u001b[39m \u001b[43mf\u001b[49m\u001b[38;5;241;43m.\u001b[39;49m\u001b[43mcofactors\u001b[49m\u001b[43m(\u001b[49m\u001b[43mg\u001b[49m\u001b[43m)\u001b[49m\n\u001b[1;32m   2243\u001b[0m \u001b[38;5;28;01melse\u001b[39;00m:\n\u001b[1;32m   2244\u001b[0m     new_ring \u001b[38;5;241m=\u001b[39m ring\u001b[38;5;241m.\u001b[39mclone(domain\u001b[38;5;241m=\u001b[39mdomain\u001b[38;5;241m.\u001b[39mget_ring())\n",
      "File \u001b[0;32m/Library/Frameworks/Python.framework/Versions/3.11/lib/python3.11/site-packages/sympy/polys/rings.py:2158\u001b[0m, in \u001b[0;36mPolyElement.cofactors\u001b[0;34m(f, g)\u001b[0m\n\u001b[1;32m   2155\u001b[0m     \u001b[38;5;28;01mreturn\u001b[39;00m h, cff, cfg\n\u001b[1;32m   2157\u001b[0m J, (f, g) \u001b[38;5;241m=\u001b[39m f\u001b[38;5;241m.\u001b[39mdeflate(g)\n\u001b[0;32m-> 2158\u001b[0m h, cff, cfg \u001b[38;5;241m=\u001b[39m \u001b[43mf\u001b[49m\u001b[38;5;241;43m.\u001b[39;49m\u001b[43m_gcd\u001b[49m\u001b[43m(\u001b[49m\u001b[43mg\u001b[49m\u001b[43m)\u001b[49m\n\u001b[1;32m   2160\u001b[0m \u001b[38;5;28;01mreturn\u001b[39;00m (h\u001b[38;5;241m.\u001b[39minflate(J), cff\u001b[38;5;241m.\u001b[39minflate(J), cfg\u001b[38;5;241m.\u001b[39minflate(J))\n",
      "File \u001b[0;32m/Library/Frameworks/Python.framework/Versions/3.11/lib/python3.11/site-packages/sympy/polys/rings.py:2191\u001b[0m, in \u001b[0;36mPolyElement._gcd\u001b[0;34m(f, g)\u001b[0m\n\u001b[1;32m   2189\u001b[0m     \u001b[38;5;28;01mreturn\u001b[39;00m f\u001b[38;5;241m.\u001b[39m_gcd_QQ(g)\n\u001b[1;32m   2190\u001b[0m \u001b[38;5;28;01melif\u001b[39;00m ring\u001b[38;5;241m.\u001b[39mdomain\u001b[38;5;241m.\u001b[39mis_ZZ:\n\u001b[0;32m-> 2191\u001b[0m     \u001b[38;5;28;01mreturn\u001b[39;00m \u001b[43mf\u001b[49m\u001b[38;5;241;43m.\u001b[39;49m\u001b[43m_gcd_ZZ\u001b[49m\u001b[43m(\u001b[49m\u001b[43mg\u001b[49m\u001b[43m)\u001b[49m\n\u001b[1;32m   2192\u001b[0m \u001b[38;5;28;01melse\u001b[39;00m: \u001b[38;5;66;03m# TODO: don't use dense representation (port PRS algorithms)\u001b[39;00m\n\u001b[1;32m   2193\u001b[0m     \u001b[38;5;28;01mreturn\u001b[39;00m ring\u001b[38;5;241m.\u001b[39mdmp_inner_gcd(f, g)\n",
      "File \u001b[0;32m/Library/Frameworks/Python.framework/Versions/3.11/lib/python3.11/site-packages/sympy/polys/rings.py:2196\u001b[0m, in \u001b[0;36mPolyElement._gcd_ZZ\u001b[0;34m(f, g)\u001b[0m\n\u001b[1;32m   2195\u001b[0m \u001b[38;5;28;01mdef\u001b[39;00m \u001b[38;5;21m_gcd_ZZ\u001b[39m(f, g):\n\u001b[0;32m-> 2196\u001b[0m     \u001b[38;5;28;01mreturn\u001b[39;00m \u001b[43mheugcd\u001b[49m\u001b[43m(\u001b[49m\u001b[43mf\u001b[49m\u001b[43m,\u001b[49m\u001b[43m \u001b[49m\u001b[43mg\u001b[49m\u001b[43m)\u001b[49m\n",
      "File \u001b[0;32m/Library/Frameworks/Python.framework/Versions/3.11/lib/python3.11/site-packages/sympy/polys/heuristicgcd.py:80\u001b[0m, in \u001b[0;36mheugcd\u001b[0;34m(f, g)\u001b[0m\n\u001b[1;32m     78\u001b[0m     h, cff, cfg \u001b[38;5;241m=\u001b[39m domain\u001b[38;5;241m.\u001b[39mcofactors(ff, gg)\n\u001b[1;32m     79\u001b[0m \u001b[38;5;28;01melse\u001b[39;00m:\n\u001b[0;32m---> 80\u001b[0m     h, cff, cfg \u001b[38;5;241m=\u001b[39m \u001b[43mheugcd\u001b[49m\u001b[43m(\u001b[49m\u001b[43mff\u001b[49m\u001b[43m,\u001b[49m\u001b[43m \u001b[49m\u001b[43mgg\u001b[49m\u001b[43m)\u001b[49m\n\u001b[1;32m     82\u001b[0m h \u001b[38;5;241m=\u001b[39m _gcd_interpolate(h, x, ring)\n\u001b[1;32m     83\u001b[0m h \u001b[38;5;241m=\u001b[39m h\u001b[38;5;241m.\u001b[39mprimitive()[\u001b[38;5;241m1\u001b[39m]\n",
      "File \u001b[0;32m/Library/Frameworks/Python.framework/Versions/3.11/lib/python3.11/site-packages/sympy/polys/heuristicgcd.py:80\u001b[0m, in \u001b[0;36mheugcd\u001b[0;34m(f, g)\u001b[0m\n\u001b[1;32m     78\u001b[0m     h, cff, cfg \u001b[38;5;241m=\u001b[39m domain\u001b[38;5;241m.\u001b[39mcofactors(ff, gg)\n\u001b[1;32m     79\u001b[0m \u001b[38;5;28;01melse\u001b[39;00m:\n\u001b[0;32m---> 80\u001b[0m     h, cff, cfg \u001b[38;5;241m=\u001b[39m \u001b[43mheugcd\u001b[49m\u001b[43m(\u001b[49m\u001b[43mff\u001b[49m\u001b[43m,\u001b[49m\u001b[43m \u001b[49m\u001b[43mgg\u001b[49m\u001b[43m)\u001b[49m\n\u001b[1;32m     82\u001b[0m h \u001b[38;5;241m=\u001b[39m _gcd_interpolate(h, x, ring)\n\u001b[1;32m     83\u001b[0m h \u001b[38;5;241m=\u001b[39m h\u001b[38;5;241m.\u001b[39mprimitive()[\u001b[38;5;241m1\u001b[39m]\n",
      "    \u001b[0;31m[... skipping similar frames: heugcd at line 80 (8 times)]\u001b[0m\n",
      "File \u001b[0;32m/Library/Frameworks/Python.framework/Versions/3.11/lib/python3.11/site-packages/sympy/polys/heuristicgcd.py:80\u001b[0m, in \u001b[0;36mheugcd\u001b[0;34m(f, g)\u001b[0m\n\u001b[1;32m     78\u001b[0m     h, cff, cfg \u001b[38;5;241m=\u001b[39m domain\u001b[38;5;241m.\u001b[39mcofactors(ff, gg)\n\u001b[1;32m     79\u001b[0m \u001b[38;5;28;01melse\u001b[39;00m:\n\u001b[0;32m---> 80\u001b[0m     h, cff, cfg \u001b[38;5;241m=\u001b[39m \u001b[43mheugcd\u001b[49m\u001b[43m(\u001b[49m\u001b[43mff\u001b[49m\u001b[43m,\u001b[49m\u001b[43m \u001b[49m\u001b[43mgg\u001b[49m\u001b[43m)\u001b[49m\n\u001b[1;32m     82\u001b[0m h \u001b[38;5;241m=\u001b[39m _gcd_interpolate(h, x, ring)\n\u001b[1;32m     83\u001b[0m h \u001b[38;5;241m=\u001b[39m h\u001b[38;5;241m.\u001b[39mprimitive()[\u001b[38;5;241m1\u001b[39m]\n",
      "File \u001b[0;32m/Library/Frameworks/Python.framework/Versions/3.11/lib/python3.11/site-packages/sympy/polys/heuristicgcd.py:61\u001b[0m, in \u001b[0;36mheugcd\u001b[0;34m(f, g)\u001b[0m\n\u001b[1;32m     58\u001b[0m x0 \u001b[38;5;241m=\u001b[39m ring\u001b[38;5;241m.\u001b[39mgens[\u001b[38;5;241m0\u001b[39m]\n\u001b[1;32m     59\u001b[0m domain \u001b[38;5;241m=\u001b[39m ring\u001b[38;5;241m.\u001b[39mdomain\n\u001b[0;32m---> 61\u001b[0m gcd, f, g \u001b[38;5;241m=\u001b[39m \u001b[43mf\u001b[49m\u001b[38;5;241;43m.\u001b[39;49m\u001b[43mextract_ground\u001b[49m\u001b[43m(\u001b[49m\u001b[43mg\u001b[49m\u001b[43m)\u001b[49m\n\u001b[1;32m     63\u001b[0m f_norm \u001b[38;5;241m=\u001b[39m f\u001b[38;5;241m.\u001b[39mmax_norm()\n\u001b[1;32m     64\u001b[0m g_norm \u001b[38;5;241m=\u001b[39m g\u001b[38;5;241m.\u001b[39mmax_norm()\n",
      "File \u001b[0;32m/Library/Frameworks/Python.framework/Versions/3.11/lib/python3.11/site-packages/sympy/polys/rings.py:2056\u001b[0m, in \u001b[0;36mPolyElement.extract_ground\u001b[0;34m(self, g)\u001b[0m\n\u001b[1;32m   2054\u001b[0m \u001b[38;5;28;01mdef\u001b[39;00m \u001b[38;5;21mextract_ground\u001b[39m(\u001b[38;5;28mself\u001b[39m, g):\n\u001b[1;32m   2055\u001b[0m     f \u001b[38;5;241m=\u001b[39m \u001b[38;5;28mself\u001b[39m\n\u001b[0;32m-> 2056\u001b[0m     fc \u001b[38;5;241m=\u001b[39m \u001b[43mf\u001b[49m\u001b[38;5;241;43m.\u001b[39;49m\u001b[43mcontent\u001b[49m\u001b[43m(\u001b[49m\u001b[43m)\u001b[49m\n\u001b[1;32m   2057\u001b[0m     gc \u001b[38;5;241m=\u001b[39m g\u001b[38;5;241m.\u001b[39mcontent()\n\u001b[1;32m   2059\u001b[0m     gcd \u001b[38;5;241m=\u001b[39m f\u001b[38;5;241m.\u001b[39mring\u001b[38;5;241m.\u001b[39mdomain\u001b[38;5;241m.\u001b[39mgcd(fc, gc)\n",
      "File \u001b[0;32m/Library/Frameworks/Python.framework/Versions/3.11/lib/python3.11/site-packages/sympy/polys/rings.py:1963\u001b[0m, in \u001b[0;36mPolyElement.content\u001b[0;34m(f)\u001b[0m\n\u001b[1;32m   1960\u001b[0m gcd \u001b[38;5;241m=\u001b[39m domain\u001b[38;5;241m.\u001b[39mgcd\n\u001b[1;32m   1962\u001b[0m \u001b[38;5;28;01mfor\u001b[39;00m coeff \u001b[38;5;129;01min\u001b[39;00m f\u001b[38;5;241m.\u001b[39mitercoeffs():\n\u001b[0;32m-> 1963\u001b[0m     cont \u001b[38;5;241m=\u001b[39m \u001b[43mgcd\u001b[49m\u001b[43m(\u001b[49m\u001b[43mcont\u001b[49m\u001b[43m,\u001b[49m\u001b[43m \u001b[49m\u001b[43mcoeff\u001b[49m\u001b[43m)\u001b[49m\n\u001b[1;32m   1965\u001b[0m \u001b[38;5;28;01mreturn\u001b[39;00m cont\n",
      "File \u001b[0;32m/Library/Frameworks/Python.framework/Versions/3.11/lib/python3.11/site-packages/sympy/polys/domains/integerring.py:237\u001b[0m, in \u001b[0;36mIntegerRing.gcd\u001b[0;34m(self, a, b)\u001b[0m\n\u001b[1;32m    235\u001b[0m \u001b[38;5;28;01mdef\u001b[39;00m \u001b[38;5;21mgcd\u001b[39m(\u001b[38;5;28mself\u001b[39m, a, b):\n\u001b[1;32m    236\u001b[0m \u001b[38;5;250m    \u001b[39m\u001b[38;5;124;03m\"\"\"Compute GCD of ``a`` and ``b``. \"\"\"\u001b[39;00m\n\u001b[0;32m--> 237\u001b[0m     \u001b[38;5;28;01mreturn\u001b[39;00m gcd(a, b)\n",
      "\u001b[0;31mKeyboardInterrupt\u001b[0m: "
     ]
    }
   ],
   "source": [
    "second_derivatives = sp.solve([Eq_x, Eq_L, Eq_theta], [diff(diff(x)), diff(diff(L)), diff(diff(theta))])\n",
    "# x_dd = second_derivatives[diff(diff(x))].simplify()\n",
    "# θ_dd = second_derivatives[diff(diff(θ))].simplify()"
   ]
  },
  {
   "cell_type": "code",
   "execution_count": 17,
   "metadata": {},
   "outputs": [
    {
     "data": {
      "text/latex": [
       "$\\displaystyle F_{x} = - \\frac{m_{b} L{\\left(t \\right)} \\cos{\\left(θ{\\left(t \\right)} \\right)}}{2 \\sqrt{L^{2}{\\left(t \\right)} + 2 L{\\left(t \\right)} x{\\left(t \\right)} \\cos{\\left(θ{\\left(t \\right)} \\right)} + x^{2}{\\left(t \\right)}}} - \\frac{m_{b} x{\\left(t \\right)}}{2 \\sqrt{L^{2}{\\left(t \\right)} + 2 L{\\left(t \\right)} x{\\left(t \\right)} \\cos{\\left(θ{\\left(t \\right)} \\right)} + x^{2}{\\left(t \\right)}}} - m_{w} x{\\left(t \\right)}$"
      ],
      "text/plain": [
       "Eq(F_x, -m_b*L(t)*cos(θ(t))/(2*sqrt(L(t)**2 + 2*L(t)*x(t)*cos(θ(t)) + x(t)**2)) - m_b*x(t)/(2*sqrt(L(t)**2 + 2*L(t)*x(t)*cos(θ(t)) + x(t)**2)) - m_w*x(t))"
      ]
     },
     "execution_count": 17,
     "metadata": {},
     "output_type": "execute_result"
    }
   ],
   "source": [
    "Eq_x"
   ]
  },
  {
   "cell_type": "code",
   "execution_count": 20,
   "metadata": {},
   "outputs": [
    {
     "data": {
      "text/latex": [
       "$\\displaystyle 0$"
      ],
      "text/plain": [
       "0"
      ]
     },
     "execution_count": 20,
     "metadata": {},
     "output_type": "execute_result"
    }
   ],
   "source": [
    "diff(diff(Lagrangian, diff(L)), t)"
   ]
  },
  {
   "cell_type": "code",
   "execution_count": 22,
   "metadata": {},
   "outputs": [
    {
     "data": {
      "text/latex": [
       "$\\displaystyle \\frac{d}{d t} L{\\left(t \\right)}$"
      ],
      "text/plain": [
       "Derivative(L(t), t)"
      ]
     },
     "execution_count": 22,
     "metadata": {},
     "output_type": "execute_result"
    }
   ],
   "source": [
    "diff(L)"
   ]
  },
  {
   "cell_type": "code",
   "execution_count": 26,
   "metadata": {},
   "outputs": [
    {
     "data": {
      "text/latex": [
       "$\\displaystyle - g m_{b} L{\\left(t \\right)} \\sin{\\left(θ{\\left(t \\right)} \\right)} + \\frac{m_{b} \\sqrt{L^{2}{\\left(t \\right)} + 2 L{\\left(t \\right)} x{\\left(t \\right)} \\cos{\\left(θ{\\left(t \\right)} \\right)} + x^{2}{\\left(t \\right)}}}{2} + \\frac{m_{w} x^{2}{\\left(t \\right)}}{2}$"
      ],
      "text/plain": [
       "-g*m_b*L(t)*sin(θ(t)) + m_b*sqrt(L(t)**2 + 2*L(t)*x(t)*cos(θ(t)) + x(t)**2)/2 + m_w*x(t)**2/2"
      ]
     },
     "execution_count": 26,
     "metadata": {},
     "output_type": "execute_result"
    }
   ],
   "source": [
    "Lagrangian"
   ]
  }
 ],
 "metadata": {
  "kernelspec": {
   "display_name": "Python 3",
   "language": "python",
   "name": "python3"
  },
  "language_info": {
   "codemirror_mode": {
    "name": "ipython",
    "version": 3
   },
   "file_extension": ".py",
   "mimetype": "text/x-python",
   "name": "python",
   "nbconvert_exporter": "python",
   "pygments_lexer": "ipython3",
   "version": "3.11.4"
  }
 },
 "nbformat": 4,
 "nbformat_minor": 2
}
