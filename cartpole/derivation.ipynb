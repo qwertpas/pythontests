{
 "cells": [
  {
   "cell_type": "code",
   "execution_count": 1,
   "metadata": {},
   "outputs": [],
   "source": [
    "from sympy import *\n",
    "import numpy as np\n",
    "\n",
    "import warnings\n",
    "warnings.filterwarnings(\"ignore\", category=DeprecationWarning) "
   ]
  },
  {
   "attachments": {},
   "cell_type": "markdown",
   "metadata": {},
   "source": [
    "This is the derivation without inertia of the rod. For \"correct equations\": https://coneural.org/florian/papers/05_cart_pole.pdf\n",
    "![Alt text](pics/diagram.jpg)"
   ]
  },
  {
   "cell_type": "code",
   "execution_count": 2,
   "metadata": {},
   "outputs": [
    {
     "data": {
      "text/latex": [
       "$\\displaystyle \\frac{\\dot{x}^{2} m_{1}}{2} - g l m_{2} \\sin{\\left(θ \\right)} + \\frac{m_{2} \\left(\\dot{x}^{2} - 2 \\dot{x} \\dot{θ} l \\sin{\\left(θ \\right)} + \\dot{θ}^{2} l^{2}\\right)}{2}$"
      ],
      "text/plain": [
       "\\dot{x}**2*m1/2 - g*l*m2*sin(θ) + m2*(\\dot{x}**2 - 2*\\dot{x}*\\dot{θ}*l*sin(θ) + \\dot{θ}**2*l**2)/2"
      ]
     },
     "execution_count": 2,
     "metadata": {},
     "output_type": "execute_result"
    }
   ],
   "source": [
    "#Symbols\n",
    "t = symbols('t')\n",
    "    #states\n",
    "x = Function('x')(t)\n",
    "θ = Function('θ')(t)\n",
    "    #coordinates of cart and polemass\n",
    "x1, y1, x2, y2 = symbols('x1 y1 x2 y2')\n",
    "    #length of pole, mass of cart, mass of pole, gravity\n",
    "l, m1, m2, g = symbols('l m1 m2 g')\n",
    "\n",
    "#Visuals\n",
    "    #use clean() to render d/dt as dots and remove the (t) in functions\n",
    "x_d_disp = Function('\\dot{x}')(t)\n",
    "θ_d_disp = Function('\\dot{θ}')(t)\n",
    "x_dd_disp = Function('\\ddot{x}')(t)\n",
    "θ_dd_disp = Function('\\ddot{θ}')(t)\n",
    "dots = {x.diff(t):x_d_disp, θ.diff(t):θ_d_disp, x_d_disp.diff(t):x_dd_disp, θ_d_disp.diff(t):θ_dd_disp}\n",
    "no_t = { \n",
    "    x:symbols('x'), θ:symbols('θ'), \n",
    "    x_d_disp:symbols('\\dot{x}'), θ_d_disp:symbols('\\dot{θ}'), \n",
    "    x_dd_disp:symbols('\\ddot{x}'), θ_dd_disp:symbols('\\ddot{θ}'), \n",
    "}\n",
    "clean = lambda expr : expr.subs(dots).subs(dots).subs(no_t)\n",
    "    #keep as fraction rather than floating point\n",
    "half = Rational(1,2)\n",
    "\n",
    "#Positions\n",
    "x1 = x\n",
    "y1 = 0\n",
    "x2 = x1 + l*cos(θ)\n",
    "y2 = l*sin(θ)\n",
    "\n",
    "#Kinetic energy\n",
    "T = half*m1*diff(x1,t)**2 + half*m2*(diff(x2,t)**2 + diff(y2,t)**2)\n",
    "T = trigsimp(T)\n",
    "\n",
    "#Potential energy\n",
    "V = m2*g*l*sin(θ)\n",
    "\n",
    "#Lagrangian\n",
    "L = T - V\n",
    "\n",
    "clean(L)"
   ]
  },
  {
   "cell_type": "code",
   "execution_count": 3,
   "metadata": {},
   "outputs": [
    {
     "data": {
      "text/latex": [
       "$\\displaystyle \\left[\\begin{matrix}F_{x} = \\ddot{x} m_{1} - m_{2} \\left(- \\ddot{x} + \\ddot{θ} l \\sin{\\left(θ \\right)} + \\dot{θ}^{2} l \\cos{\\left(θ \\right)}\\right)\\\\F_{θ} = l m_{2} \\left(- \\ddot{x} \\sin{\\left(θ \\right)} + \\ddot{θ} l + g \\cos{\\left(θ \\right)}\\right)\\end{matrix}\\right]$"
      ],
      "text/plain": [
       "Matrix([\n",
       "[Eq(F_x, \\ddot{x}*m1 - m2*(-\\ddot{x} + \\ddot{θ}*l*sin(θ) + \\dot{θ}**2*l*cos(θ)))],\n",
       "[                       Eq(F_θ, l*m2*(-\\ddot{x}*sin(θ) + \\ddot{θ}*l + g*cos(θ)))]])"
      ]
     },
     "execution_count": 3,
     "metadata": {},
     "output_type": "execute_result"
    }
   ],
   "source": [
    "#Euler-Lagrange\n",
    "Fx, Fθ = symbols('F_x, F_θ')\n",
    "Eq_x = Eq(diff(diff(L, diff(x)), t) - diff(L, x), Fx)\n",
    "Eq_θ = Eq(diff(diff(L, diff(θ)), t) - diff(L, θ), Fθ)\n",
    "\n",
    "clean(Matrix([\n",
    "    Eq_x.simplify(), \n",
    "    Eq_θ.simplify()\n",
    "]))"
   ]
  },
  {
   "cell_type": "code",
   "execution_count": 4,
   "metadata": {},
   "outputs": [],
   "source": [
    "second_derivatives = solve([Eq_x, Eq_θ], [diff(diff(x)), diff(diff(θ))])\n",
    "x_dd = second_derivatives[diff(diff(x))].simplify()\n",
    "θ_dd = second_derivatives[diff(diff(θ))].simplify()"
   ]
  },
  {
   "cell_type": "code",
   "execution_count": 5,
   "metadata": {},
   "outputs": [
    {
     "data": {
      "text/latex": [
       "$\\displaystyle \\ddot{x} = \\frac{F_{x} l + F_{θ} \\sin{\\left(θ \\right)} + \\dot{θ}^{2} l^{2} m_{2} \\cos{\\left(θ \\right)} - \\frac{g l m_{2} \\sin{\\left(2 θ \\right)}}{2}}{l \\left(m_{1} + m_{2} \\cos^{2}{\\left(θ \\right)}\\right)}$"
      ],
      "text/plain": [
       "Eq(\\ddot{x}, (F_x*l + F_θ*sin(θ) + \\dot{θ}**2*l**2*m2*cos(θ) - g*l*m2*sin(2*θ)/2)/(l*(m1 + m2*cos(θ)**2)))"
      ]
     },
     "execution_count": 5,
     "metadata": {},
     "output_type": "execute_result"
    }
   ],
   "source": [
    "clean(Eq(x_dd_disp, x_dd))"
   ]
  },
  {
   "cell_type": "code",
   "execution_count": 6,
   "metadata": {},
   "outputs": [
    {
     "data": {
      "text/latex": [
       "$\\displaystyle \\ddot{θ} = \\frac{F_{x} l m_{2} \\sin{\\left(θ \\right)} + F_{θ} m_{1} + F_{θ} m_{2} + \\frac{\\dot{θ}^{2} l^{2} m_{2}^{2} \\sin{\\left(2 θ \\right)}}{2} - g l m_{1} m_{2} \\cos{\\left(θ \\right)} - g l m_{2}^{2} \\cos{\\left(θ \\right)}}{l^{2} m_{2} \\left(m_{1} + m_{2} \\cos^{2}{\\left(θ \\right)}\\right)}$"
      ],
      "text/plain": [
       "Eq(\\ddot{θ}, (F_x*l*m2*sin(θ) + F_θ*m1 + F_θ*m2 + \\dot{θ}**2*l**2*m2**2*sin(2*θ)/2 - g*l*m1*m2*cos(θ) - g*l*m2**2*cos(θ))/(l**2*m2*(m1 + m2*cos(θ)**2)))"
      ]
     },
     "execution_count": 6,
     "metadata": {},
     "output_type": "execute_result"
    }
   ],
   "source": [
    "clean(Eq(θ_dd_disp, θ_dd))"
   ]
  },
  {
   "cell_type": "code",
   "execution_count": 18,
   "metadata": {},
   "outputs": [
    {
     "data": {
      "text/latex": [
       "$\\displaystyle \\ddot{x} = \\frac{F_{x} + \\dot{θ}^{2} l m_{2} \\cos{\\left(θ \\right)} - \\frac{g m_{2} \\sin{\\left(2 θ \\right)}}{2}}{m_{1} + m_{2} \\cos^{2}{\\left(θ \\right)}}$"
      ],
      "text/plain": [
       "Eq(\\ddot{x}, (F_x + \\dot{θ}**2*l*m2*cos(θ) - g*m2*sin(2*θ)/2)/(m1 + m2*cos(θ)**2))"
      ]
     },
     "execution_count": 18,
     "metadata": {},
     "output_type": "execute_result"
    }
   ],
   "source": [
    "x_dd_noFθ = x_dd.subs(Fθ, 0).simplify()\n",
    "clean(Eq(x_dd_disp, x_dd_noFθ))"
   ]
  },
  {
   "cell_type": "code",
   "execution_count": 19,
   "metadata": {},
   "outputs": [
    {
     "data": {
      "text/latex": [
       "$\\displaystyle \\ddot{θ} = \\frac{F_{x} \\sin{\\left(θ \\right)} + \\frac{\\dot{θ}^{2} l m_{2} \\sin{\\left(2 θ \\right)}}{2} - g m_{1} \\cos{\\left(θ \\right)} - g m_{2} \\cos{\\left(θ \\right)}}{l \\left(m_{1} + m_{2} \\cos^{2}{\\left(θ \\right)}\\right)}$"
      ],
      "text/plain": [
       "Eq(\\ddot{θ}, (F_x*sin(θ) + \\dot{θ}**2*l*m2*sin(2*θ)/2 - g*m1*cos(θ) - g*m2*cos(θ))/(l*(m1 + m2*cos(θ)**2)))"
      ]
     },
     "execution_count": 19,
     "metadata": {},
     "output_type": "execute_result"
    }
   ],
   "source": [
    "θ_dd_noFθ = θ_dd.subs(Fθ, 0).simplify()\n",
    "clean(Eq(θ_dd_disp, θ_dd_noFθ))"
   ]
  },
  {
   "attachments": {},
   "cell_type": "markdown",
   "metadata": {},
   "source": [
    "check work: https://danielpiedrahita.wordpress.com/portfolio/cart-pole-control/\n",
    "![Alt text](pics/no_inertia.png)"
   ]
  },
  {
   "cell_type": "code",
   "execution_count": 25,
   "metadata": {},
   "outputs": [
    {
     "name": "stdout",
     "output_type": "stream",
     "text": [
      "x_dd = (F_x - g*m2*sin(2*θ(t))/2 + l*m2*cos(θ(t))*Derivative(θ(t), t)**2)/(m1 + m2*cos(θ(t))**2)\n",
      "theta_dd = (F_x*sin(θ(t)) - g*m1*cos(θ(t)) - g*m2*cos(θ(t)) + l*m2*sin(2*θ(t))*Derivative(θ(t), t)**2/2)/(l*(m1 + m2*cos(θ(t))**2))\n"
     ]
    }
   ],
   "source": [
    "#text format\n",
    "print('x_dd =', x_dd_noFθ)\n",
    "print('theta_dd =', θ_dd_noFθ)"
   ]
  }
 ],
 "metadata": {
  "kernelspec": {
   "display_name": "Python 3",
   "language": "python",
   "name": "python3"
  },
  "language_info": {
   "codemirror_mode": {
    "name": "ipython",
    "version": 3
   },
   "file_extension": ".py",
   "mimetype": "text/x-python",
   "name": "python",
   "nbconvert_exporter": "python",
   "pygments_lexer": "ipython3",
   "version": "3.10.6"
  },
  "orig_nbformat": 4,
  "vscode": {
   "interpreter": {
    "hash": "7e1998ff7f8aa20ada591c520b972326324e5ea05489af9e422744c7c09f6dad"
   }
  }
 },
 "nbformat": 4,
 "nbformat_minor": 2
}
